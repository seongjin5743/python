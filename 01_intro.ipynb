{
 "cells": [
  {
   "cell_type": "markdown",
   "id": "6dbba723-496f-4368-bc8a-274b938bc396",
   "metadata": {},
   "source": [
    "# 01.intro\n",
    "\n",
    "## shortcut\n",
    "- ctrl + enter : 현재 셀 실행\n",
    "- shift + enter : 현재 셀 실행 + 아래로 이동\n",
    "- alt + enter : 현재 셀 실행 아래에 새로운 셀 추가\n",
    "\n",
    "## 주의사항\n",
    "1. Apple과 apple은 다르다\n",
    "2. git add.와 git add .는 다르다\n",
    "3. message 와 massage는 다르다"
   ]
  },
  {
   "cell_type": "markdown",
   "id": "2f25641c-5ee8-42c1-a5fe-1b506a22a5ac",
   "metadata": {},
   "source": [
    "# 01. 변수\n",
    "\n",
    "```\n",
    "var_name = value\n",
    "```\n",
    "\n",
    "- 변수 이름은 어떤 이름이든 사용 가능\n",
    "- 영어, 숫자 , _를 이용"
   ]
  },
  {
   "cell_type": "code",
   "execution_count": 1,
   "id": "8b1a3b11-cda2-409b-a3e5-f45c6bcc5912",
   "metadata": {},
   "outputs": [],
   "source": [
    "a = 1"
   ]
  },
  {
   "cell_type": "code",
   "execution_count": 2,
   "id": "d201fb25-2f61-49e9-af36-517dbb3751cb",
   "metadata": {},
   "outputs": [
    {
     "data": {
      "text/plain": [
       "1"
      ]
     },
     "execution_count": 2,
     "metadata": {},
     "output_type": "execute_result"
    }
   ],
   "source": [
    "a"
   ]
  },
  {
   "cell_type": "markdown",
   "id": "6739bbd9-c4fd-4a59-a16e-707e412251da",
   "metadata": {},
   "source": [
    "# 1.1 number"
   ]
  },
  {
   "cell_type": "code",
   "execution_count": 5,
   "id": "4ae8b41b-6766-4a65-bca3-56a9e5f744ba",
   "metadata": {},
   "outputs": [],
   "source": [
    "a = 10000"
   ]
  },
  {
   "cell_type": "code",
   "execution_count": 6,
   "id": "980d4a30-f237-4870-bf2c-728c0e57ba86",
   "metadata": {},
   "outputs": [
    {
     "data": {
      "text/plain": [
       "10000"
      ]
     },
     "execution_count": 6,
     "metadata": {},
     "output_type": "execute_result"
    }
   ],
   "source": [
    "a"
   ]
  },
  {
   "cell_type": "code",
   "execution_count": 7,
   "id": "91112939-54d4-4ede-9dff-39dcce04a247",
   "metadata": {},
   "outputs": [
    {
     "data": {
      "text/plain": [
       "int"
      ]
     },
     "execution_count": 7,
     "metadata": {},
     "output_type": "execute_result"
    }
   ],
   "source": [
    "type(a)"
   ]
  },
  {
   "cell_type": "code",
   "execution_count": 8,
   "id": "06766d18-84b4-4269-8609-3a782df58e90",
   "metadata": {},
   "outputs": [],
   "source": [
    "b = 1.1"
   ]
  },
  {
   "cell_type": "code",
   "execution_count": 9,
   "id": "747e4cc2-7685-43b7-b126-b7aa20588822",
   "metadata": {},
   "outputs": [
    {
     "data": {
      "text/plain": [
       "float"
      ]
     },
     "execution_count": 9,
     "metadata": {},
     "output_type": "execute_result"
    }
   ],
   "source": [
    "type(b)"
   ]
  },
  {
   "cell_type": "code",
   "execution_count": 10,
   "id": "58d21027-5d7b-47d4-8b91-f5e361a03055",
   "metadata": {},
   "outputs": [
    {
     "data": {
      "text/plain": [
       "complex"
      ]
     },
     "execution_count": 10,
     "metadata": {},
     "output_type": "execute_result"
    }
   ],
   "source": [
    "c = 1 + 1j\n",
    "type(c)"
   ]
  },
  {
   "cell_type": "markdown",
   "id": "d70cd4da-788d-4c38-958a-db982ab5630a",
   "metadata": {},
   "source": [
    "# 1.2 boolean"
   ]
  },
  {
   "cell_type": "code",
   "execution_count": 12,
   "id": "1765a82e-3653-4f3a-9a7e-173db8e05a2b",
   "metadata": {},
   "outputs": [
    {
     "name": "stdout",
     "output_type": "stream",
     "text": [
      "True\n"
     ]
    },
    {
     "data": {
      "text/plain": [
       "bool"
      ]
     },
     "execution_count": 12,
     "metadata": {},
     "output_type": "execute_result"
    }
   ],
   "source": [
    "a = True\n",
    "print(a)\n",
    "type(a)"
   ]
  },
  {
   "cell_type": "code",
   "execution_count": 13,
   "id": "424c2c16-9f94-4476-bdec-d265555afafe",
   "metadata": {},
   "outputs": [
    {
     "name": "stdout",
     "output_type": "stream",
     "text": [
      "False\n"
     ]
    },
    {
     "data": {
      "text/plain": [
       "bool"
      ]
     },
     "execution_count": 13,
     "metadata": {},
     "output_type": "execute_result"
    }
   ],
   "source": [
    "b = False\n",
    "print(b)\n",
    "type(b)"
   ]
  },
  {
   "cell_type": "markdown",
   "id": "80f03807-9628-48e0-9e03-bf91676fe4ea",
   "metadata": {},
   "source": [
    "# 1.3 String"
   ]
  },
  {
   "cell_type": "code",
   "execution_count": 14,
   "id": "54069f6f-a7e7-4e08-a907-d68c72e04f77",
   "metadata": {},
   "outputs": [],
   "source": [
    "a = \"hello\""
   ]
  },
  {
   "cell_type": "code",
   "execution_count": 15,
   "id": "f19b3814-3987-4760-8c99-87f253494a29",
   "metadata": {},
   "outputs": [],
   "source": [
    "b = \"hi\""
   ]
  },
  {
   "cell_type": "code",
   "execution_count": 16,
   "id": "fec5ce5e-479d-455f-8ec4-6f5bbe0ec879",
   "metadata": {},
   "outputs": [
    {
     "data": {
      "text/plain": [
       "'hi'"
      ]
     },
     "execution_count": 16,
     "metadata": {},
     "output_type": "execute_result"
    }
   ],
   "source": [
    "b"
   ]
  },
  {
   "cell_type": "code",
   "execution_count": 17,
   "id": "8bf464dd-9c27-4d5d-aef0-dfafbe03b776",
   "metadata": {},
   "outputs": [
    {
     "data": {
      "text/plain": [
       "'hello'"
      ]
     },
     "execution_count": 17,
     "metadata": {},
     "output_type": "execute_result"
    }
   ],
   "source": [
    "a"
   ]
  },
  {
   "cell_type": "code",
   "execution_count": 18,
   "id": "74f421e4-897c-4d6f-b10a-fcceb9f41665",
   "metadata": {},
   "outputs": [
    {
     "name": "stdout",
     "output_type": "stream",
     "text": [
      "hello\n"
     ]
    }
   ],
   "source": [
    "print(a)"
   ]
  },
  {
   "cell_type": "markdown",
   "id": "ae576e4e-3990-44b9-ab55-4fc542b3f852",
   "metadata": {},
   "source": [
    "#string interpolation\n",
    "- %\n",
    "- str.format()\n",
    "- f-string"
   ]
  },
  {
   "cell_type": "code",
   "execution_count": 29,
   "id": "a2d9fef8-7d14-4194-b1a7-db9a4c331595",
   "metadata": {},
   "outputs": [
    {
     "name": "stdout",
     "output_type": "stream",
     "text": [
      "홍길동은 10살입니다.\n",
      "홍길동은 10살입니다.\n",
      "홍길동은 10살입니다.\n"
     ]
    }
   ],
   "source": [
    "age = 10\n",
    "print('홍길동은 %d살입니다.' %age)\n",
    "print('홍길동은 {}살입니다.' .format(age))\n",
    "print(f'홍길동은 {age}살입니다.')"
   ]
  },
  {
   "cell_type": "markdown",
   "id": "72dbda7c-7ca8-4916-926c-bc4701f9407d",
   "metadata": {},
   "source": [
    "# 01 연산자"
   ]
  },
  {
   "cell_type": "markdown",
   "id": "bb533546-f813-4acc-87a1-c7b9a8068529",
   "metadata": {},
   "source": [
    "## 산술연산자"
   ]
  },
  {
   "cell_type": "code",
   "execution_count": 36,
   "id": "e07dedd9-1c47-4f93-8433-a093574873e9",
   "metadata": {},
   "outputs": [
    {
     "name": "stdout",
     "output_type": "stream",
     "text": [
      "7\n",
      "3\n",
      "10\n",
      "2.5\n",
      "25\n",
      "2\n",
      "1\n",
      "(2, 1)\n"
     ]
    }
   ],
   "source": [
    "a = 5\n",
    "b = 2\n",
    "print(a + b)\n",
    "print(a - b)\n",
    "print(a * b)\n",
    "print(a / b)\n",
    "print(a ** b)\n",
    "print(a // b)\n",
    "print(a % b)\n",
    "result = divmod(a, b)\n",
    "print(result)"
   ]
  },
  {
   "cell_type": "markdown",
   "id": "9be612a3-cf06-4309-923c-da90303f1e40",
   "metadata": {},
   "source": [
    "## 비교연산자"
   ]
  },
  {
   "cell_type": "code",
   "execution_count": 49,
   "id": "d64c45cc-52b1-4785-8a34-103a44e61224",
   "metadata": {},
   "outputs": [
    {
     "name": "stdout",
     "output_type": "stream",
     "text": [
      "True\n",
      "False\n",
      "True\n",
      "False\n",
      "False\n",
      "True\n",
      "True\n",
      "False\n"
     ]
    }
   ],
   "source": [
    "a = 5\n",
    "b = 1\n",
    "print(a > b)\n",
    "print(a < b)\n",
    "print(a >= b)\n",
    "print(a <= b)\n",
    "print(a == b)\n",
    "print(a != b)\n",
    "print('hi' == 'hi')\n",
    "print('hi' == 'Hi')"
   ]
  },
  {
   "cell_type": "markdown",
   "id": "50780b99-97d7-4156-9642-4e8c9eb93a5c",
   "metadata": {},
   "source": [
    "## 논리연산자"
   ]
  },
  {
   "cell_type": "code",
   "execution_count": 59,
   "id": "07cb8975-9db7-4406-a3e8-767967551de4",
   "metadata": {},
   "outputs": [
    {
     "name": "stdout",
     "output_type": "stream",
     "text": [
      "False\n",
      "False\n",
      "False\n",
      "True\n",
      "False\n",
      "True\n",
      "True\n",
      "True\n",
      "False\n",
      "5\n",
      "3\n",
      "3\n",
      "5\n"
     ]
    }
   ],
   "source": [
    "print(True and False)\n",
    "print(True and False)\n",
    "print(False and True)\n",
    "print(True and True)\n",
    "print(False or False)\n",
    "print(True or False)\n",
    "print(False or True)\n",
    "print(True or True)\n",
    "print(not True)\n",
    "print(3 and 5)\n",
    "print(5 and 3)\n",
    "print(3 or 5)\n",
    "print(5 or 0)"
   ]
  },
  {
   "cell_type": "markdown",
   "id": "c0927313-52d7-41e1-ab65-b72581f37065",
   "metadata": {},
   "source": [
    "## 복합연산자"
   ]
  },
  {
   "cell_type": "code",
   "execution_count": 64,
   "id": "c667ce76-f6c5-4a15-9adb-1429ff53f232",
   "metadata": {},
   "outputs": [
    {
     "name": "stdout",
     "output_type": "stream",
     "text": [
      "5\n"
     ]
    }
   ],
   "source": [
    "a = 2\n",
    "b = 3\n",
    "a = a + b\n",
    "print(a)"
   ]
  },
  {
   "cell_type": "code",
   "execution_count": 70,
   "id": "a871be8b-e373-4e7c-b2f4-0d4bf3dae9cf",
   "metadata": {},
   "outputs": [
    {
     "name": "stdout",
     "output_type": "stream",
     "text": [
      "23\n"
     ]
    }
   ],
   "source": [
    "a += b\n",
    "print(a)"
   ]
  },
  {
   "cell_type": "markdown",
   "id": "1f2cabb2-3efa-436c-b52a-33b419bc750a",
   "metadata": {},
   "source": [
    "## 기타연산자"
   ]
  },
  {
   "cell_type": "code",
   "execution_count": 72,
   "id": "2de70376-cfe4-4e0a-8e0b-41ee233ff9a1",
   "metadata": {},
   "outputs": [
    {
     "name": "stdout",
     "output_type": "stream",
     "text": [
      "hi hello\n"
     ]
    }
   ],
   "source": [
    "a = 'hi'\n",
    "b = 'hello'\n",
    "print(a + \" \" + b)"
   ]
  },
  {
   "cell_type": "code",
   "execution_count": 76,
   "id": "a99c748e-00cf-4450-b253-3862b010aa9c",
   "metadata": {},
   "outputs": [
    {
     "name": "stdout",
     "output_type": "stream",
     "text": [
      "[1, 2, 3, 2, 3, 4]\n",
      "True\n",
      "False\n"
     ]
    }
   ],
   "source": [
    "a = [1, 2, 3]\n",
    "b = [2, 3, 4]\n",
    "print(a + b)\n",
    "print(1 in a)\n",
    "print(4 in a)"
   ]
  },
  {
   "cell_type": "code",
   "execution_count": 78,
   "id": "9363ac01-7dca-462d-91b1-a30600656b59",
   "metadata": {},
   "outputs": [
    {
     "name": "stdout",
     "output_type": "stream",
     "text": [
      "True\n",
      "True\n"
     ]
    }
   ],
   "source": [
    "a = 100\n",
    "b = 100\n",
    "print(a is b)\n",
    "print(a == b)"
   ]
  },
  {
   "cell_type": "code",
   "execution_count": null,
   "id": "cc8ece15-9a82-49e1-a77f-2a4664e219a1",
   "metadata": {},
   "outputs": [],
   "source": []
  },
  {
   "cell_type": "markdown",
   "id": "7c8b168b-a12f-4ee2-94f0-5704689893dd",
   "metadata": {},
   "source": [
    "## 연산자 우선순위\n",
    "0. ()를 통해서 그룹\n",
    "1. **\n",
    "2. , /\n",
    "3. + -\n",
    "4. is  in\n",
    "5. not\n",
    "6. and\n",
    "7. or"
   ]
  },
  {
   "cell_type": "markdown",
   "id": "d1aed239-5a9d-41cc-8db9-cc716dcd1b4d",
   "metadata": {},
   "source": [
    "# 형변환"
   ]
  },
  {
   "cell_type": "markdown",
   "id": "2af987cc-f29f-44ec-8346-b669f018a990",
   "metadata": {},
   "source": [
    "## 암시적 형변환"
   ]
  },
  {
   "cell_type": "code",
   "execution_count": 79,
   "id": "861c85eb-5d33-473f-b6ba-13f9d26da897",
   "metadata": {},
   "outputs": [
    {
     "name": "stdout",
     "output_type": "stream",
     "text": [
      "1\n"
     ]
    }
   ],
   "source": [
    "a = True\n",
    "b = False\n",
    "c = 1\n",
    "print(a + b)"
   ]
  },
  {
   "cell_type": "markdown",
   "id": "9a030b94-a342-44c9-9dc1-1579c358fb28",
   "metadata": {},
   "source": [
    "## 명시적 형변환\n",
    "- int\n",
    "- float\n",
    "- str\n",
    "- bool"
   ]
  },
  {
   "cell_type": "code",
   "execution_count": 82,
   "id": "92e04d8e-2232-4eb0-af63-dcb691b466b8",
   "metadata": {},
   "outputs": [
    {
     "name": "stdout",
     "output_type": "stream",
     "text": [
      "True\n"
     ]
    }
   ],
   "source": [
    "a = '1'\n",
    "b = 1\n",
    "print(int(a) is b)"
   ]
  },
  {
   "cell_type": "code",
   "execution_count": 85,
   "id": "ad6d3c50-0866-43c3-9336-f1a28c22bf59",
   "metadata": {},
   "outputs": [
    {
     "name": "stdout",
     "output_type": "stream",
     "text": [
      "True\n",
      "False\n",
      "True\n"
     ]
    }
   ],
   "source": [
    "a = -1\n",
    "b = 0\n",
    "c = -134\n",
    "print(bool(a))\n",
    "print(bool(b))\n",
    "print(bool(c))"
   ]
  },
  {
   "cell_type": "code",
   "execution_count": 81,
   "id": "9f1d172b-9ab9-4ba4-b21f-4bd4c48a4cc4",
   "metadata": {},
   "outputs": [
    {
     "name": "stdout",
     "output_type": "stream",
     "text": [
      "False\n",
      "True\n"
     ]
    }
   ],
   "source": [
    "print(bool([]))\n",
    "print(bool([1, 2, 3]))"
   ]
  },
  {
   "cell_type": "markdown",
   "id": "c5c6220e-bc0f-4aa3-867b-bae04b6516a9",
   "metadata": {},
   "source": [
    "## 시퀀스 자료형\n",
    "- 시퀀스는 데이터의 순서대로 나열된 자료구조"
   ]
  },
  {
   "cell_type": "code",
   "execution_count": 4,
   "id": "27ffedc5-37cb-47e4-a05b-dc7c945279e6",
   "metadata": {},
   "outputs": [
    {
     "name": "stdout",
     "output_type": "stream",
     "text": [
      "[]\n",
      "<class 'list'>\n"
     ]
    }
   ],
   "source": [
    "## list 수정 가능\n",
    "l = []\n",
    "print(l)\n",
    "print(type(l))"
   ]
  },
  {
   "cell_type": "code",
   "execution_count": 3,
   "id": "24083c29-9b2e-4c7c-9b52-89bc9e7e130d",
   "metadata": {},
   "outputs": [
    {
     "name": "stdout",
     "output_type": "stream",
     "text": [
      "['seoul', 'uijeongbu', 'daejeon']\n",
      "seoul\n"
     ]
    }
   ],
   "source": [
    "location = ['seoul', 'uijeongbu', 'daejeon']\n",
    "print(location)\n",
    "print(location[0])\n"
   ]
  },
  {
   "cell_type": "code",
   "execution_count": 7,
   "id": "d3590813-95b9-4836-a6f2-be960a21f590",
   "metadata": {},
   "outputs": [
    {
     "name": "stdout",
     "output_type": "stream",
     "text": [
      "('seoul', 'uijeongbu', 'daejeon')\n",
      "seoul\n"
     ]
    },
    {
     "ename": "TypeError",
     "evalue": "'tuple' object does not support item assignment",
     "output_type": "error",
     "traceback": [
      "\u001b[1;31m---------------------------------------------------------------------------\u001b[0m",
      "\u001b[1;31mTypeError\u001b[0m                                 Traceback (most recent call last)",
      "Cell \u001b[1;32mIn[7], line 5\u001b[0m\n\u001b[0;32m      3\u001b[0m \u001b[38;5;28mprint\u001b[39m(location)\n\u001b[0;32m      4\u001b[0m \u001b[38;5;28mprint\u001b[39m(location[\u001b[38;5;241m0\u001b[39m])\n\u001b[1;32m----> 5\u001b[0m \u001b[43mlocation\u001b[49m\u001b[43m[\u001b[49m\u001b[38;5;241;43m0\u001b[39;49m\u001b[43m]\u001b[49m \u001b[38;5;241m=\u001b[39m \u001b[38;5;124m'\u001b[39m\u001b[38;5;124m구름\u001b[39m\u001b[38;5;124m'\u001b[39m\n",
      "\u001b[1;31mTypeError\u001b[0m: 'tuple' object does not support item assignment"
     ]
    }
   ],
   "source": [
    "## tuple 수정 불가\n",
    "location = ('seoul', 'uijeongbu', 'daejeon')\n",
    "print(location)\n",
    "print(location[0])\n",
    "location[0] = '구름'"
   ]
  },
  {
   "cell_type": "code",
   "execution_count": 12,
   "id": "db77d4ed-c2fb-48b4-ad71-3685f8dec8e1",
   "metadata": {},
   "outputs": [
    {
     "name": "stdout",
     "output_type": "stream",
     "text": [
      "range(1, 46)\n",
      "[1, 2, 3, 4, 5, 6, 7, 8, 9, 10, 11, 12, 13, 14, 15, 16, 17, 18, 19, 20, 21, 22, 23, 24, 25, 26, 27, 28, 29, 30, 31, 32, 33, 34, 35, 36, 37, 38, 39, 40, 41, 42, 43, 44, 45]\n",
      "[2, 4, 6, 8, 10, 12, 14, 16, 18, 20]\n",
      "[0, -2, -4, -6, -8, -10, -12, -14, -16, -18]\n"
     ]
    }
   ],
   "source": [
    "## range\n",
    "lotto = range(1, 46)\n",
    "even = range(2, 21, 2)\n",
    "numbers = range(0, -20, -2)\n",
    "print(lotto)\n",
    "print(list(lotto))\n",
    "print(list(even))\n",
    "print(list(numbers))"
   ]
  },
  {
   "cell_type": "code",
   "execution_count": 13,
   "id": "f1192a04-173e-4736-95a0-342b24d7e60f",
   "metadata": {},
   "outputs": [
    {
     "name": "stdout",
     "output_type": "stream",
     "text": [
      "a\n",
      "6\n",
      "0\n",
      "가\n"
     ]
    }
   ],
   "source": [
    "l = list('abcde')\n",
    "t = (6,7,8,9,0)\n",
    "r = range(5)\n",
    "s = '가나다라마'\n",
    "print(l[0])\n",
    "print(t[0])\n",
    "print(r[0])\n",
    "print(s[0])"
   ]
  },
  {
   "cell_type": "code",
   "execution_count": 14,
   "id": "8f43c7a8-d534-4456-86bf-f67e3b0a4b68",
   "metadata": {},
   "outputs": [
    {
     "name": "stdout",
     "output_type": "stream",
     "text": [
      "['a', 'b']\n",
      "(6, 7)\n",
      "range(0, 2)\n",
      "가나\n"
     ]
    }
   ],
   "source": [
    "print(l[0:2])\n",
    "print(t[0:2])\n",
    "print(r[0:2])\n",
    "print(s[0:2])"
   ]
  },
  {
   "cell_type": "code",
   "execution_count": 15,
   "id": "8d885ec1-c313-4cd7-b356-b52ddca24acb",
   "metadata": {},
   "outputs": [
    {
     "name": "stdout",
     "output_type": "stream",
     "text": [
      "e\n",
      "['b', 'c', 'd']\n",
      "['a', 'c', 'e']\n"
     ]
    }
   ],
   "source": [
    "print(l[-1])\n",
    "print(l[1:-1])\n",
    "print(l[::2])"
   ]
  },
  {
   "cell_type": "code",
   "execution_count": 17,
   "id": "40a6eecb-4661-4a4d-ad8d-a2b06b315ada",
   "metadata": {},
   "outputs": [
    {
     "name": "stdout",
     "output_type": "stream",
     "text": [
      "False\n",
      "True\n"
     ]
    }
   ],
   "source": [
    "print(1 in l)\n",
    "print('a' in l)"
   ]
  },
  {
   "cell_type": "code",
   "execution_count": 18,
   "id": "f24d3af4-0a47-4abb-b7e5-7c504b88e51e",
   "metadata": {},
   "outputs": [
    {
     "name": "stdout",
     "output_type": "stream",
     "text": [
      "['a', 'b', 'c', 'd', 'e', 1, 2, 3, 4, 5]\n"
     ]
    }
   ],
   "source": [
    "print(l + [1,2,3,4,5])"
   ]
  },
  {
   "cell_type": "code",
   "execution_count": 21,
   "id": "3d669bd2-cd4a-402f-88c6-beae5990ec5e",
   "metadata": {},
   "outputs": [
    {
     "name": "stdout",
     "output_type": "stream",
     "text": [
      "e\n",
      "a\n"
     ]
    }
   ],
   "source": [
    "print(max(l))\n",
    "print(min(l))"
   ]
  },
  {
   "cell_type": "markdown",
   "id": "045be013-e62e-4bd2-8ba7-fcf0c8925be7",
   "metadata": {},
   "source": [
    "# 시퀀스형이 아닌 자료구조"
   ]
  },
  {
   "cell_type": "code",
   "execution_count": 26,
   "id": "a8726ecc-5ce2-4863-af46-dab25fbf028b",
   "metadata": {},
   "outputs": [
    {
     "name": "stdout",
     "output_type": "stream",
     "text": [
      "{1, 2, 3, 4, 5}\n",
      "{1, 3, 5, 7, 9}\n",
      "{2, 4}\n",
      "{1, 2, 3, 4, 5, 7, 9}\n",
      "{1, 3, 5}\n"
     ]
    }
   ],
   "source": [
    "## set\n",
    "my_set = {1,2,3,4,5,5,5,5,5}\n",
    "my_set_1 = {1,3,5,7,9}\n",
    "print(my_set)\n",
    "print(my_set_1)\n",
    "print(my_set - my_set_1)\n",
    "print(my_set | my_set_1)\n",
    "print(my_set & my_set_1)"
   ]
  },
  {
   "cell_type": "code",
   "execution_count": 27,
   "id": "b19779fa-8ccf-4081-ad4b-0fcb1054d337",
   "metadata": {},
   "outputs": [
    {
     "name": "stdout",
     "output_type": "stream",
     "text": [
      "02\n"
     ]
    }
   ],
   "source": [
    "## dictionary\n",
    "my_dict = {'seoul': '02', 'gyeonggi': '031'}\n",
    "print(my_dict['seoul'])"
   ]
  },
  {
   "cell_type": "code",
   "execution_count": 35,
   "id": "ee0a3008-7391-420d-a295-795b7de4486d",
   "metadata": {
    "editable": true,
    "slideshow": {
     "slide_type": ""
    },
    "tags": []
   },
   "outputs": [
    {
     "name": "stdout",
     "output_type": "stream",
     "text": [
      "py\n"
     ]
    }
   ],
   "source": [
    "my_info = {\n",
    "    'name': 'seongjin',\n",
    "    'location': 'uijeongbu',\n",
    "    'age': 10,\n",
    "    'skill': ['py', 'git']\n",
    "}\n",
    "print(my_info['skill'][0])"
   ]
  },
  {
   "cell_type": "code",
   "execution_count": null,
   "id": "069ae7d7-00a1-4f5a-913d-83041a54bb75",
   "metadata": {},
   "outputs": [],
   "source": []
  }
 ],
 "metadata": {
  "kernelspec": {
   "display_name": "Python 3 (ipykernel)",
   "language": "python",
   "name": "python3"
  },
  "language_info": {
   "codemirror_mode": {
    "name": "ipython",
    "version": 3
   },
   "file_extension": ".py",
   "mimetype": "text/x-python",
   "name": "python",
   "nbconvert_exporter": "python",
   "pygments_lexer": "ipython3",
   "version": "3.13.2"
  }
 },
 "nbformat": 4,
 "nbformat_minor": 5
}
