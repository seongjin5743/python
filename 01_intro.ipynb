{
 "cells": [
  {
   "cell_type": "markdown",
   "id": "6dbba723-496f-4368-bc8a-274b938bc396",
   "metadata": {},
   "source": [
    "# 01.intro\n",
    "\n",
    "## shortcut\n",
    "- ctrl + enter : 현재 셀 실행\n",
    "- shift + enter : 현재 셀 실행 + 아래로 이동\n",
    "- alt + enter : 현재 셀 실행 아래에 새로운 셀 추가\n",
    "\n",
    "## 주의사항\n",
    "1. Apple과 apple은 다르다\n",
    "2. git add.와 git add .는 다르다\n",
    "3. message 와 massage는 다르다"
   ]
  },
  {
   "cell_type": "markdown",
   "id": "2f25641c-5ee8-42c1-a5fe-1b506a22a5ac",
   "metadata": {},
   "source": [
    "# 01. 변수\n",
    "\n",
    "```\n",
    "var_name = value\n",
    "```\n",
    "\n",
    "- 변수 이름은 어떤 이름이든 사용 가능\n",
    "- 영어, 숫자 , _를 이용"
   ]
  },
  {
   "cell_type": "code",
   "execution_count": 1,
   "id": "8b1a3b11-cda2-409b-a3e5-f45c6bcc5912",
   "metadata": {},
   "outputs": [],
   "source": [
    "a = 1"
   ]
  },
  {
   "cell_type": "code",
   "execution_count": 2,
   "id": "d201fb25-2f61-49e9-af36-517dbb3751cb",
   "metadata": {},
   "outputs": [
    {
     "data": {
      "text/plain": [
       "1"
      ]
     },
     "execution_count": 2,
     "metadata": {},
     "output_type": "execute_result"
    }
   ],
   "source": [
    "a"
   ]
  },
  {
   "cell_type": "markdown",
   "id": "6739bbd9-c4fd-4a59-a16e-707e412251da",
   "metadata": {},
   "source": [
    "# 1.1 number"
   ]
  },
  {
   "cell_type": "code",
   "execution_count": 5,
   "id": "4ae8b41b-6766-4a65-bca3-56a9e5f744ba",
   "metadata": {},
   "outputs": [],
   "source": [
    "a = 10000"
   ]
  },
  {
   "cell_type": "code",
   "execution_count": 6,
   "id": "980d4a30-f237-4870-bf2c-728c0e57ba86",
   "metadata": {},
   "outputs": [
    {
     "data": {
      "text/plain": [
       "10000"
      ]
     },
     "execution_count": 6,
     "metadata": {},
     "output_type": "execute_result"
    }
   ],
   "source": [
    "a"
   ]
  },
  {
   "cell_type": "code",
   "execution_count": 7,
   "id": "91112939-54d4-4ede-9dff-39dcce04a247",
   "metadata": {},
   "outputs": [
    {
     "data": {
      "text/plain": [
       "int"
      ]
     },
     "execution_count": 7,
     "metadata": {},
     "output_type": "execute_result"
    }
   ],
   "source": [
    "type(a)"
   ]
  },
  {
   "cell_type": "code",
   "execution_count": 8,
   "id": "06766d18-84b4-4269-8609-3a782df58e90",
   "metadata": {},
   "outputs": [],
   "source": [
    "b = 1.1"
   ]
  },
  {
   "cell_type": "code",
   "execution_count": 9,
   "id": "747e4cc2-7685-43b7-b126-b7aa20588822",
   "metadata": {},
   "outputs": [
    {
     "data": {
      "text/plain": [
       "float"
      ]
     },
     "execution_count": 9,
     "metadata": {},
     "output_type": "execute_result"
    }
   ],
   "source": [
    "type(b)"
   ]
  },
  {
   "cell_type": "code",
   "execution_count": 10,
   "id": "58d21027-5d7b-47d4-8b91-f5e361a03055",
   "metadata": {},
   "outputs": [
    {
     "data": {
      "text/plain": [
       "complex"
      ]
     },
     "execution_count": 10,
     "metadata": {},
     "output_type": "execute_result"
    }
   ],
   "source": [
    "c = 1 + 1j\n",
    "type(c)"
   ]
  },
  {
   "cell_type": "markdown",
   "id": "d70cd4da-788d-4c38-958a-db982ab5630a",
   "metadata": {},
   "source": [
    "# 1.2 boolean"
   ]
  },
  {
   "cell_type": "code",
   "execution_count": 12,
   "id": "1765a82e-3653-4f3a-9a7e-173db8e05a2b",
   "metadata": {},
   "outputs": [
    {
     "name": "stdout",
     "output_type": "stream",
     "text": [
      "True\n"
     ]
    },
    {
     "data": {
      "text/plain": [
       "bool"
      ]
     },
     "execution_count": 12,
     "metadata": {},
     "output_type": "execute_result"
    }
   ],
   "source": [
    "a = True\n",
    "print(a)\n",
    "type(a)"
   ]
  },
  {
   "cell_type": "code",
   "execution_count": 13,
   "id": "424c2c16-9f94-4476-bdec-d265555afafe",
   "metadata": {},
   "outputs": [
    {
     "name": "stdout",
     "output_type": "stream",
     "text": [
      "False\n"
     ]
    },
    {
     "data": {
      "text/plain": [
       "bool"
      ]
     },
     "execution_count": 13,
     "metadata": {},
     "output_type": "execute_result"
    }
   ],
   "source": [
    "b = False\n",
    "print(b)\n",
    "type(b)"
   ]
  },
  {
   "cell_type": "markdown",
   "id": "80f03807-9628-48e0-9e03-bf91676fe4ea",
   "metadata": {},
   "source": [
    "# 1.3 String"
   ]
  },
  {
   "cell_type": "code",
   "execution_count": 14,
   "id": "54069f6f-a7e7-4e08-a907-d68c72e04f77",
   "metadata": {},
   "outputs": [],
   "source": [
    "a = \"hello\""
   ]
  },
  {
   "cell_type": "code",
   "execution_count": 15,
   "id": "f19b3814-3987-4760-8c99-87f253494a29",
   "metadata": {},
   "outputs": [],
   "source": [
    "b = \"hi\""
   ]
  },
  {
   "cell_type": "code",
   "execution_count": 16,
   "id": "fec5ce5e-479d-455f-8ec4-6f5bbe0ec879",
   "metadata": {},
   "outputs": [
    {
     "data": {
      "text/plain": [
       "'hi'"
      ]
     },
     "execution_count": 16,
     "metadata": {},
     "output_type": "execute_result"
    }
   ],
   "source": [
    "b"
   ]
  },
  {
   "cell_type": "code",
   "execution_count": 17,
   "id": "8bf464dd-9c27-4d5d-aef0-dfafbe03b776",
   "metadata": {},
   "outputs": [
    {
     "data": {
      "text/plain": [
       "'hello'"
      ]
     },
     "execution_count": 17,
     "metadata": {},
     "output_type": "execute_result"
    }
   ],
   "source": [
    "a"
   ]
  },
  {
   "cell_type": "code",
   "execution_count": 18,
   "id": "74f421e4-897c-4d6f-b10a-fcceb9f41665",
   "metadata": {},
   "outputs": [
    {
     "name": "stdout",
     "output_type": "stream",
     "text": [
      "hello\n"
     ]
    }
   ],
   "source": [
    "print(a)"
   ]
  },
  {
   "cell_type": "markdown",
   "id": "ae576e4e-3990-44b9-ab55-4fc542b3f852",
   "metadata": {},
   "source": [
    "#string interpolation\n",
    "- %\n",
    "- str.format()\n",
    "- f-string"
   ]
  },
  {
   "cell_type": "code",
   "execution_count": 29,
   "id": "a2d9fef8-7d14-4194-b1a7-db9a4c331595",
   "metadata": {},
   "outputs": [
    {
     "name": "stdout",
     "output_type": "stream",
     "text": [
      "홍길동은 10살입니다.\n",
      "홍길동은 10살입니다.\n",
      "홍길동은 10살입니다.\n"
     ]
    }
   ],
   "source": [
    "age = 10\n",
    "print('홍길동은 %d살입니다.' %age)\n",
    "print('홍길동은 {}살입니다.' .format(age))\n",
    "print(f'홍길동은 {age}살입니다.')"
   ]
  },
  {
   "cell_type": "markdown",
   "id": "72dbda7c-7ca8-4916-926c-bc4701f9407d",
   "metadata": {},
   "source": [
    "# 01 연산자"
   ]
  },
  {
   "cell_type": "markdown",
   "id": "bb533546-f813-4acc-87a1-c7b9a8068529",
   "metadata": {},
   "source": [
    "## 산술연산자"
   ]
  },
  {
   "cell_type": "code",
   "execution_count": 36,
   "id": "e07dedd9-1c47-4f93-8433-a093574873e9",
   "metadata": {},
   "outputs": [
    {
     "name": "stdout",
     "output_type": "stream",
     "text": [
      "7\n",
      "3\n",
      "10\n",
      "2.5\n",
      "25\n",
      "2\n",
      "1\n",
      "(2, 1)\n"
     ]
    }
   ],
   "source": [
    "a = 5\n",
    "b = 2\n",
    "print(a + b)\n",
    "print(a - b)\n",
    "print(a * b)\n",
    "print(a / b)\n",
    "print(a ** b)\n",
    "print(a // b)\n",
    "print(a % b)\n",
    "result = divmod(a, b)\n",
    "print(result)"
   ]
  },
  {
   "cell_type": "markdown",
   "id": "9be612a3-cf06-4309-923c-da90303f1e40",
   "metadata": {},
   "source": [
    "## 비교연산자"
   ]
  },
  {
   "cell_type": "code",
   "execution_count": 49,
   "id": "d64c45cc-52b1-4785-8a34-103a44e61224",
   "metadata": {},
   "outputs": [
    {
     "name": "stdout",
     "output_type": "stream",
     "text": [
      "True\n",
      "False\n",
      "True\n",
      "False\n",
      "False\n",
      "True\n",
      "True\n",
      "False\n"
     ]
    }
   ],
   "source": [
    "a = 5\n",
    "b = 1\n",
    "print(a > b)\n",
    "print(a < b)\n",
    "print(a >= b)\n",
    "print(a <= b)\n",
    "print(a == b)\n",
    "print(a != b)\n",
    "print('hi' == 'hi')\n",
    "print('hi' == 'Hi')"
   ]
  },
  {
   "cell_type": "markdown",
   "id": "50780b99-97d7-4156-9642-4e8c9eb93a5c",
   "metadata": {},
   "source": [
    "## 논리연산자"
   ]
  },
  {
   "cell_type": "code",
   "execution_count": 59,
   "id": "07cb8975-9db7-4406-a3e8-767967551de4",
   "metadata": {},
   "outputs": [
    {
     "name": "stdout",
     "output_type": "stream",
     "text": [
      "False\n",
      "False\n",
      "False\n",
      "True\n",
      "False\n",
      "True\n",
      "True\n",
      "True\n",
      "False\n",
      "5\n",
      "3\n",
      "3\n",
      "5\n"
     ]
    }
   ],
   "source": [
    "print(True and False)\n",
    "print(True and False)\n",
    "print(False and True)\n",
    "print(True and True)\n",
    "print(False or False)\n",
    "print(True or False)\n",
    "print(False or True)\n",
    "print(True or True)\n",
    "print(not True)\n",
    "print(3 and 5)\n",
    "print(5 and 3)\n",
    "print(3 or 5)\n",
    "print(5 or 0)"
   ]
  },
  {
   "cell_type": "markdown",
   "id": "c0927313-52d7-41e1-ab65-b72581f37065",
   "metadata": {},
   "source": [
    "## 복합연산자"
   ]
  },
  {
   "cell_type": "code",
   "execution_count": 64,
   "id": "c667ce76-f6c5-4a15-9adb-1429ff53f232",
   "metadata": {},
   "outputs": [
    {
     "name": "stdout",
     "output_type": "stream",
     "text": [
      "5\n"
     ]
    }
   ],
   "source": [
    "a = 2\n",
    "b = 3\n",
    "a = a + b\n",
    "print(a)"
   ]
  },
  {
   "cell_type": "code",
   "execution_count": 70,
   "id": "a871be8b-e373-4e7c-b2f4-0d4bf3dae9cf",
   "metadata": {},
   "outputs": [
    {
     "name": "stdout",
     "output_type": "stream",
     "text": [
      "23\n"
     ]
    }
   ],
   "source": [
    "a += b\n",
    "print(a)"
   ]
  },
  {
   "cell_type": "markdown",
   "id": "1f2cabb2-3efa-436c-b52a-33b419bc750a",
   "metadata": {},
   "source": [
    "## 기타연산자"
   ]
  },
  {
   "cell_type": "code",
   "execution_count": 72,
   "id": "2de70376-cfe4-4e0a-8e0b-41ee233ff9a1",
   "metadata": {},
   "outputs": [
    {
     "name": "stdout",
     "output_type": "stream",
     "text": [
      "hi hello\n"
     ]
    }
   ],
   "source": [
    "a = 'hi'\n",
    "b = 'hello'\n",
    "print(a + \" \" + b)"
   ]
  },
  {
   "cell_type": "code",
   "execution_count": 76,
   "id": "a99c748e-00cf-4450-b253-3862b010aa9c",
   "metadata": {},
   "outputs": [
    {
     "name": "stdout",
     "output_type": "stream",
     "text": [
      "[1, 2, 3, 2, 3, 4]\n",
      "True\n",
      "False\n"
     ]
    }
   ],
   "source": [
    "a = [1, 2, 3]\n",
    "b = [2, 3, 4]\n",
    "print(a + b)\n",
    "print(1 in a)\n",
    "print(4 in a)"
   ]
  },
  {
   "cell_type": "code",
   "execution_count": 78,
   "id": "9363ac01-7dca-462d-91b1-a30600656b59",
   "metadata": {},
   "outputs": [
    {
     "name": "stdout",
     "output_type": "stream",
     "text": [
      "True\n",
      "True\n"
     ]
    }
   ],
   "source": [
    "a = 100\n",
    "b = 100\n",
    "print(a is b)\n",
    "print(a == b)"
   ]
  },
  {
   "cell_type": "code",
   "execution_count": null,
   "id": "cc8ece15-9a82-49e1-a77f-2a4664e219a1",
   "metadata": {},
   "outputs": [],
   "source": []
  },
  {
   "cell_type": "markdown",
   "id": "7c8b168b-a12f-4ee2-94f0-5704689893dd",
   "metadata": {},
   "source": [
    "## 연산자 우선순위\n",
    "0. ()를 통해서 그룹\n",
    "1. **\n",
    "2. , /\n",
    "3. + -\n",
    "4. is  in\n",
    "5. not\n",
    "6. and\n",
    "7. or"
   ]
  },
  {
   "cell_type": "markdown",
   "id": "d1aed239-5a9d-41cc-8db9-cc716dcd1b4d",
   "metadata": {},
   "source": [
    "# 형변환"
   ]
  },
  {
   "cell_type": "markdown",
   "id": "2af987cc-f29f-44ec-8346-b669f018a990",
   "metadata": {},
   "source": [
    "## 암시적 형변환"
   ]
  },
  {
   "cell_type": "code",
   "execution_count": 79,
   "id": "861c85eb-5d33-473f-b6ba-13f9d26da897",
   "metadata": {},
   "outputs": [
    {
     "name": "stdout",
     "output_type": "stream",
     "text": [
      "1\n"
     ]
    }
   ],
   "source": [
    "a = True\n",
    "b = False\n",
    "c = 1\n",
    "print(a + b)"
   ]
  },
  {
   "cell_type": "markdown",
   "id": "9a030b94-a342-44c9-9dc1-1579c358fb28",
   "metadata": {},
   "source": [
    "## 명시적 형변환\n",
    "- int\n",
    "- float\n",
    "- str\n",
    "- bool"
   ]
  },
  {
   "cell_type": "code",
   "execution_count": 82,
   "id": "92e04d8e-2232-4eb0-af63-dcb691b466b8",
   "metadata": {},
   "outputs": [
    {
     "name": "stdout",
     "output_type": "stream",
     "text": [
      "True\n"
     ]
    }
   ],
   "source": [
    "a = '1'\n",
    "b = 1\n",
    "print(int(a) is b)"
   ]
  },
  {
   "cell_type": "code",
   "execution_count": 85,
   "id": "ad6d3c50-0866-43c3-9336-f1a28c22bf59",
   "metadata": {},
   "outputs": [
    {
     "name": "stdout",
     "output_type": "stream",
     "text": [
      "True\n",
      "False\n",
      "True\n"
     ]
    }
   ],
   "source": [
    "a = -1\n",
    "b = 0\n",
    "c = -134\n",
    "print(bool(a))\n",
    "print(bool(b))\n",
    "print(bool(c))"
   ]
  },
  {
   "cell_type": "code",
   "execution_count": 81,
   "id": "9f1d172b-9ab9-4ba4-b21f-4bd4c48a4cc4",
   "metadata": {},
   "outputs": [
    {
     "name": "stdout",
     "output_type": "stream",
     "text": [
      "False\n",
      "True\n"
     ]
    }
   ],
   "source": [
    "print(bool([]))\n",
    "print(bool([1, 2, 3]))"
   ]
  },
  {
   "cell_type": "code",
   "execution_count": null,
   "id": "8b53bb5d-538e-47b2-a737-84ebd1e33d4e",
   "metadata": {},
   "outputs": [],
   "source": []
  }
 ],
 "metadata": {
  "kernelspec": {
   "display_name": "Python 3 (ipykernel)",
   "language": "python",
   "name": "python3"
  },
  "language_info": {
   "codemirror_mode": {
    "name": "ipython",
    "version": 3
   },
   "file_extension": ".py",
   "mimetype": "text/x-python",
   "name": "python",
   "nbconvert_exporter": "python",
   "pygments_lexer": "ipython3",
   "version": "3.13.2"
  }
 },
 "nbformat": 4,
 "nbformat_minor": 5
}
