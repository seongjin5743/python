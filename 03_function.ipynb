{
 "cells": [
  {
   "cell_type": "code",
   "execution_count": 3,
   "id": "a8515230-9df8-4aab-8b14-7b213916f7e0",
   "metadata": {},
   "outputs": [
    {
     "name": "stdout",
     "output_type": "stream",
     "text": [
      "1000\n",
      "140\n"
     ]
    }
   ],
   "source": [
    "w = 20\n",
    "h = 50\n",
    "print(w * h)\n",
    "print((h + w) * 2)"
   ]
  },
  {
   "cell_type": "code",
   "execution_count": 6,
   "id": "9a8e001e-d298-486c-a20f-d17cc4a1bac2",
   "metadata": {},
   "outputs": [
    {
     "data": {
      "text/plain": [
       "[2, 6]"
      ]
     },
     "execution_count": 6,
     "metadata": {},
     "output_type": "execute_result"
    }
   ],
   "source": [
    "## def\n",
    "\n",
    "## 선언\n",
    "def func_name(p1, p2):\n",
    "    area = p1 * p2\n",
    "    perimeter = (p1 + p2) * 2\n",
    "    return [area, perimeter]\n",
    "\n",
    "## 호출\n",
    "func_name(1,2)"
   ]
  },
  {
   "cell_type": "code",
   "execution_count": 7,
   "id": "04456681-a1c5-4ad4-827d-09523b8e7093",
   "metadata": {},
   "outputs": [
    {
     "data": {
      "text/plain": [
       "['ArithmeticError',\n",
       " 'AssertionError',\n",
       " 'AttributeError',\n",
       " 'BaseException',\n",
       " 'BaseExceptionGroup',\n",
       " 'BlockingIOError',\n",
       " 'BrokenPipeError',\n",
       " 'BufferError',\n",
       " 'BytesWarning',\n",
       " 'ChildProcessError',\n",
       " 'ConnectionAbortedError',\n",
       " 'ConnectionError',\n",
       " 'ConnectionRefusedError',\n",
       " 'ConnectionResetError',\n",
       " 'DeprecationWarning',\n",
       " 'EOFError',\n",
       " 'Ellipsis',\n",
       " 'EncodingWarning',\n",
       " 'EnvironmentError',\n",
       " 'Exception',\n",
       " 'ExceptionGroup',\n",
       " 'False',\n",
       " 'FileExistsError',\n",
       " 'FileNotFoundError',\n",
       " 'FloatingPointError',\n",
       " 'FutureWarning',\n",
       " 'GeneratorExit',\n",
       " 'IOError',\n",
       " 'ImportError',\n",
       " 'ImportWarning',\n",
       " 'IndentationError',\n",
       " 'IndexError',\n",
       " 'InterruptedError',\n",
       " 'IsADirectoryError',\n",
       " 'KeyError',\n",
       " 'KeyboardInterrupt',\n",
       " 'LookupError',\n",
       " 'MemoryError',\n",
       " 'ModuleNotFoundError',\n",
       " 'NameError',\n",
       " 'None',\n",
       " 'NotADirectoryError',\n",
       " 'NotImplemented',\n",
       " 'NotImplementedError',\n",
       " 'OSError',\n",
       " 'OverflowError',\n",
       " 'PendingDeprecationWarning',\n",
       " 'PermissionError',\n",
       " 'ProcessLookupError',\n",
       " 'PythonFinalizationError',\n",
       " 'RecursionError',\n",
       " 'ReferenceError',\n",
       " 'ResourceWarning',\n",
       " 'RuntimeError',\n",
       " 'RuntimeWarning',\n",
       " 'StopAsyncIteration',\n",
       " 'StopIteration',\n",
       " 'SyntaxError',\n",
       " 'SyntaxWarning',\n",
       " 'SystemError',\n",
       " 'SystemExit',\n",
       " 'TabError',\n",
       " 'TimeoutError',\n",
       " 'True',\n",
       " 'TypeError',\n",
       " 'UnboundLocalError',\n",
       " 'UnicodeDecodeError',\n",
       " 'UnicodeEncodeError',\n",
       " 'UnicodeError',\n",
       " 'UnicodeTranslateError',\n",
       " 'UnicodeWarning',\n",
       " 'UserWarning',\n",
       " 'ValueError',\n",
       " 'Warning',\n",
       " 'WindowsError',\n",
       " 'ZeroDivisionError',\n",
       " '_IncompleteInputError',\n",
       " '__IPYTHON__',\n",
       " '__build_class__',\n",
       " '__debug__',\n",
       " '__doc__',\n",
       " '__import__',\n",
       " '__loader__',\n",
       " '__name__',\n",
       " '__package__',\n",
       " '__spec__',\n",
       " 'abs',\n",
       " 'aiter',\n",
       " 'all',\n",
       " 'anext',\n",
       " 'any',\n",
       " 'ascii',\n",
       " 'bin',\n",
       " 'bool',\n",
       " 'breakpoint',\n",
       " 'bytearray',\n",
       " 'bytes',\n",
       " 'callable',\n",
       " 'chr',\n",
       " 'classmethod',\n",
       " 'compile',\n",
       " 'complex',\n",
       " 'copyright',\n",
       " 'credits',\n",
       " 'delattr',\n",
       " 'dict',\n",
       " 'dir',\n",
       " 'display',\n",
       " 'divmod',\n",
       " 'enumerate',\n",
       " 'eval',\n",
       " 'exec',\n",
       " 'execfile',\n",
       " 'filter',\n",
       " 'float',\n",
       " 'format',\n",
       " 'frozenset',\n",
       " 'get_ipython',\n",
       " 'getattr',\n",
       " 'globals',\n",
       " 'hasattr',\n",
       " 'hash',\n",
       " 'help',\n",
       " 'hex',\n",
       " 'id',\n",
       " 'input',\n",
       " 'int',\n",
       " 'isinstance',\n",
       " 'issubclass',\n",
       " 'iter',\n",
       " 'len',\n",
       " 'license',\n",
       " 'list',\n",
       " 'locals',\n",
       " 'map',\n",
       " 'max',\n",
       " 'memoryview',\n",
       " 'min',\n",
       " 'next',\n",
       " 'object',\n",
       " 'oct',\n",
       " 'open',\n",
       " 'ord',\n",
       " 'pow',\n",
       " 'print',\n",
       " 'property',\n",
       " 'range',\n",
       " 'repr',\n",
       " 'reversed',\n",
       " 'round',\n",
       " 'runfile',\n",
       " 'set',\n",
       " 'setattr',\n",
       " 'slice',\n",
       " 'sorted',\n",
       " 'staticmethod',\n",
       " 'str',\n",
       " 'sum',\n",
       " 'super',\n",
       " 'tuple',\n",
       " 'type',\n",
       " 'vars',\n",
       " 'zip']"
      ]
     },
     "execution_count": 7,
     "metadata": {},
     "output_type": "execute_result"
    }
   ],
   "source": [
    "dir(__builtins__)"
   ]
  },
  {
   "cell_type": "code",
   "execution_count": 21,
   "id": "a05a373a-a352-4696-bed7-b8a4bbcce1a1",
   "metadata": {},
   "outputs": [
    {
     "name": "stdout",
     "output_type": "stream",
     "text": [
      "2\n"
     ]
    }
   ],
   "source": [
    "def m_max(a, b):\n",
    "    if a > b:\n",
    "        return a\n",
    "    elif b > a:\n",
    "        return b\n",
    "    else:\n",
    "        return \"같다\"\n",
    "result = m_max(1, 2)\n",
    "print(result)"
   ]
  },
  {
   "cell_type": "code",
   "execution_count": 20,
   "id": "44a937e9-7fb0-4028-9f5f-87117eacc5ca",
   "metadata": {},
   "outputs": [
    {
     "name": "stdout",
     "output_type": "stream",
     "text": [
      "2\n",
      "None\n"
     ]
    }
   ],
   "source": [
    "def n_max(a, b):\n",
    "    if a > b:\n",
    "        print(a)\n",
    "    else:\n",
    "        print(b)\n",
    "result = n_max(1, 2)\n",
    "print(result)"
   ]
  },
  {
   "cell_type": "code",
   "execution_count": 23,
   "id": "3f3f0e58-2af0-4a71-910c-36b11416579e",
   "metadata": {},
   "outputs": [
    {
     "data": {
      "text/plain": [
       "(20, 10)"
      ]
     },
     "execution_count": 23,
     "metadata": {},
     "output_type": "execute_result"
    }
   ],
   "source": [
    "def my_d(x):\n",
    "    return x * 2, x\n",
    "my_d(10)"
   ]
  },
  {
   "cell_type": "code",
   "execution_count": 26,
   "id": "ca799610-eead-4d36-8ce0-ab3da185f9d2",
   "metadata": {},
   "outputs": [
    {
     "name": "stdout",
     "output_type": "stream",
     "text": [
      "0\n",
      "1\n",
      "2\n",
      "3\n"
     ]
    },
    {
     "data": {
      "text/plain": [
       "3"
      ]
     },
     "execution_count": 26,
     "metadata": {},
     "output_type": "execute_result"
    }
   ],
   "source": [
    "def my_f(x):\n",
    "    for i in range(x):\n",
    "        print(i)\n",
    "        if i == 3:\n",
    "            return i\n",
    "my_f(12)"
   ]
  },
  {
   "cell_type": "code",
   "execution_count": 28,
   "id": "01ddb996-265e-4e40-a191-14f2e76c8ada",
   "metadata": {},
   "outputs": [
    {
     "name": "stdout",
     "output_type": "stream",
     "text": [
      "[2, 3, 4]\n"
     ]
    }
   ],
   "source": [
    "def my_list_max(my_list1, my_list2):\n",
    "    if sum(my_list1) > sum(my_list2):\n",
    "        return my_list1\n",
    "    else:\n",
    "        return my_list2\n",
    "\n",
    "print(my_list_max([1,2,3], [2,3,4]))"
   ]
  },
  {
   "cell_type": "code",
   "execution_count": 30,
   "id": "d23bd959-b555-409d-9b5f-5b00165beb9a",
   "metadata": {},
   "outputs": [
    {
     "data": {
      "text/plain": [
       "282.6"
      ]
     },
     "execution_count": 30,
     "metadata": {},
     "output_type": "execute_result"
    }
   ],
   "source": [
    "def cylinder(r, h):\n",
    "    return r ** 2 * h * 3.14\n",
    "cylinder(3, 10)"
   ]
  },
  {
   "cell_type": "code",
   "execution_count": 44,
   "id": "afa125ed-618f-4032-8fd4-fb7b4fb05c38",
   "metadata": {},
   "outputs": [
    {
     "data": {
      "text/plain": [
       "'황성진님 안녕'"
      ]
     },
     "execution_count": 44,
     "metadata": {},
     "output_type": "execute_result"
    }
   ],
   "source": [
    "def greeting(name = '익명'):\n",
    "    return f'{name}님 안녕'\n",
    "greeting('황성진')"
   ]
  },
  {
   "cell_type": "code",
   "execution_count": 43,
   "id": "2c768b53-25f7-40d3-8e57-0473ff9bdd47",
   "metadata": {},
   "outputs": [
    {
     "name": "stdout",
     "output_type": "stream",
     "text": [
      "안녕?반갑!"
     ]
    }
   ],
   "source": [
    "print('안녕', '반갑', sep = '?', end = '!')"
   ]
  },
  {
   "cell_type": "code",
   "execution_count": 45,
   "id": "82585fd0-dd46-4854-a3fe-677e8abbdf99",
   "metadata": {},
   "outputs": [
    {
     "ename": "SyntaxError",
     "evalue": "parameter without a default follows parameter with a default (799798306.py, line 1)",
     "output_type": "error",
     "traceback": [
      "\u001b[1;36m  Cell \u001b[1;32mIn[45], line 1\u001b[1;36m\u001b[0m\n\u001b[1;33m    def greeting(name = '익명', age):\u001b[0m\n\u001b[1;37m                              ^\u001b[0m\n\u001b[1;31mSyntaxError\u001b[0m\u001b[1;31m:\u001b[0m parameter without a default follows parameter with a default\n"
     ]
    }
   ],
   "source": [
    "def greeting(name = '익명', age):\n",
    "    return f'{name}님 {age}안녕'"
   ]
  },
  {
   "cell_type": "code",
   "execution_count": 46,
   "id": "d1a76dff-f4f4-4754-939e-29fed10d5f0c",
   "metadata": {},
   "outputs": [],
   "source": [
    "def greeting(age, name = '익명'):\n",
    "    return f'{name}님 {age}안녕'"
   ]
  },
  {
   "cell_type": "code",
   "execution_count": 48,
   "id": "b3aa940c-db77-45be-be87-611004ae135e",
   "metadata": {},
   "outputs": [
    {
     "data": {
      "text/plain": [
       "'성진님 25살'"
      ]
     },
     "execution_count": 48,
     "metadata": {},
     "output_type": "execute_result"
    }
   ],
   "source": [
    "def greeting(age, name = '익명'):\n",
    "    return f'{name}님 {age}살'\n",
    "greeting(25, '성진')"
   ]
  },
  {
   "cell_type": "code",
   "execution_count": 52,
   "id": "af47991a-ec20-4aaa-b626-d9a386af491e",
   "metadata": {},
   "outputs": [
    {
     "name": "stdout",
     "output_type": "stream",
     "text": [
      "('q', 'w', 'e', 'r')\n"
     ]
    }
   ],
   "source": [
    "def my_print(*words):\n",
    "    print(words)\n",
    "my_print('q', 'w', 'e', 'r')"
   ]
  },
  {
   "cell_type": "code",
   "execution_count": 59,
   "id": "4bd7887c-e037-4c96-ae2d-5f64139833b9",
   "metadata": {},
   "outputs": [
    {
     "data": {
      "text/plain": [
       "5"
      ]
     },
     "execution_count": 59,
     "metadata": {},
     "output_type": "execute_result"
    }
   ],
   "source": [
    "def my_max(*maxs):\n",
    "    result = maxs[0]\n",
    "    for i in maxs:\n",
    "        if result < i:\n",
    "            result = i\n",
    "    return result\n",
    "my_max(1,2,3,4,5)"
   ]
  },
  {
   "cell_type": "code",
   "execution_count": 3,
   "id": "d726c393-428f-4189-a872-193aa36b42b8",
   "metadata": {},
   "outputs": [
    {
     "name": "stdout",
     "output_type": "stream",
     "text": [
      "{'name': 'hwang', 'age': 10}\n"
     ]
    }
   ],
   "source": [
    "#정의되지 않은 키워드 인자 처리하기\n",
    "info = {\n",
    "    'name': 'hwang',\n",
    "    'age': 10,\n",
    "}\n",
    "print(info)"
   ]
  },
  {
   "cell_type": "code",
   "execution_count": 5,
   "id": "d9d639a4-1c49-40f7-a403-127a2608c47f",
   "metadata": {},
   "outputs": [
    {
     "name": "stdout",
     "output_type": "stream",
     "text": [
      "{'name': 'hwang', 'age': 20}\n"
     ]
    }
   ],
   "source": [
    "info = dict(name = 'hwang', age = 20)\n",
    "print(info)"
   ]
  },
  {
   "cell_type": "code",
   "execution_count": 9,
   "id": "3ac1426c-cba6-48e4-a186-6812c52bc7da",
   "metadata": {},
   "outputs": [
    {
     "name": "stdout",
     "output_type": "stream",
     "text": [
      "{'name': 'qwer', 'age': 10}\n"
     ]
    }
   ],
   "source": [
    "def my_dict(**kwargs):\n",
    "    print(kwargs)\n",
    "my_dict(name = 'qwer', age = 10)"
   ]
  },
  {
   "cell_type": "code",
   "execution_count": 11,
   "id": "213546fa-ca39-479f-99ed-3834e1df6520",
   "metadata": {},
   "outputs": [
    {
     "data": {
      "text/plain": [
       "0"
      ]
     },
     "execution_count": 11,
     "metadata": {},
     "output_type": "execute_result"
    }
   ],
   "source": [
    "def my_func(p1, p2 = 'temp', *numbers, **kwargs):\n",
    "    return 0\n",
    "# p1은 123 p2는 23 numbers는 345를 포함한 뒤에 값들이 튜플로 들어간다 kwargs에는 a=1, b=2 c=3 같은 것들이 들어감\n",
    "my_func(123, 23, 345, 567, a=1, b=2, c= 3)"
   ]
  },
  {
   "cell_type": "code",
   "execution_count": 12,
   "id": "21e961cb-b5f7-4c0c-81e0-1d3eecd4a8cd",
   "metadata": {},
   "outputs": [
    {
     "data": {
      "text/plain": [
       "<function __main__.<lambda>(p)>"
      ]
     },
     "execution_count": 12,
     "metadata": {},
     "output_type": "execute_result"
    }
   ],
   "source": [
    "# lambda 표현식\n",
    "lambda p: expression"
   ]
  },
  {
   "cell_type": "code",
   "execution_count": 13,
   "id": "3ee65349-1e62-4c19-b723-f29dcd92c399",
   "metadata": {},
   "outputs": [
    {
     "data": {
      "text/plain": [
       "12"
      ]
     },
     "execution_count": 13,
     "metadata": {},
     "output_type": "execute_result"
    }
   ],
   "source": [
    "def my_sum(num1, num2):\n",
    "    return num1 + num2\n",
    "my_sum(10, 2)"
   ]
  },
  {
   "cell_type": "code",
   "execution_count": 14,
   "id": "3ba3b7e5-0d6e-40aa-acd6-37bf76d9a106",
   "metadata": {},
   "outputs": [
    {
     "data": {
      "text/plain": [
       "<function __main__.<lambda>(num1, num2)>"
      ]
     },
     "execution_count": 14,
     "metadata": {},
     "output_type": "execute_result"
    }
   ],
   "source": [
    "lambda num1, num2: num1 + num2"
   ]
  },
  {
   "cell_type": "code",
   "execution_count": 16,
   "id": "3cfc1057-7224-4956-84f5-560dc125bf58",
   "metadata": {},
   "outputs": [
    {
     "data": {
      "text/plain": [
       "3"
      ]
     },
     "execution_count": 16,
     "metadata": {},
     "output_type": "execute_result"
    }
   ],
   "source": [
    "# 타입힌트 int라고 되어 있어도 str이 들어갈 수 있다. 그냥 힌트만 제공한 것이다\n",
    "def my_sum(a: int, b: int) -> int:\n",
    "    return a + b\n",
    "my_sum(1,2)"
   ]
  },
  {
   "cell_type": "markdown",
   "id": "790d672d-285d-4a4e-83d4-5cb052f39350",
   "metadata": {},
   "source": [
    "# 이름 공간, 스코프\n",
    "파이썬에서 사용하는 이름들은 이름 공간에 저장되있습니다. LEGB 룰에 따라 접근\n",
    "\n",
    "1. local: 내부 함수\n",
    "2. enclosed: 상위 함수\n",
    "3. global: 함수 밖\n",
    "4. built-in: 파이썬이 기본적으로 가지고 있는 함수\n"
   ]
  },
  {
   "cell_type": "code",
   "execution_count": 26,
   "id": "4326525c-f70d-40cf-afeb-7dcee2612ea8",
   "metadata": {},
   "outputs": [
    {
     "name": "stdout",
     "output_type": "stream",
     "text": [
      "123\n"
     ]
    }
   ],
   "source": [
    "result = str(123)\n",
    "print(result)"
   ]
  },
  {
   "cell_type": "code",
   "execution_count": 23,
   "id": "53f84db7-8945-42e3-bce4-8ca3b2d753de",
   "metadata": {},
   "outputs": [],
   "source": [
    "str = 'hello'"
   ]
  },
  {
   "cell_type": "code",
   "execution_count": 27,
   "id": "c9d9b5f5-207f-4d50-acb8-00de0fe319d6",
   "metadata": {},
   "outputs": [
    {
     "name": "stdout",
     "output_type": "stream",
     "text": [
      "123\n"
     ]
    }
   ],
   "source": [
    "result = str(123)\n",
    "print(result)"
   ]
  },
  {
   "cell_type": "code",
   "execution_count": 25,
   "id": "e92a17b6-0572-406a-97ba-d8a023d12205",
   "metadata": {},
   "outputs": [],
   "source": [
    "del str"
   ]
  },
  {
   "cell_type": "code",
   "execution_count": 33,
   "id": "1e002b96-8983-4990-b5f8-8ac28d11308d",
   "metadata": {},
   "outputs": [
    {
     "data": {
      "text/plain": [
       "'qwer'"
      ]
     },
     "execution_count": 33,
     "metadata": {},
     "output_type": "execute_result"
    }
   ],
   "source": [
    "a = 1\n",
    "def local_scope(a):\n",
    "    return a\n",
    "a = 2\n",
    "local_scope('qwer')"
   ]
  },
  {
   "cell_type": "code",
   "execution_count": 32,
   "id": "1dbee8b1-df38-436a-994c-262872020735",
   "metadata": {},
   "outputs": [
    {
     "data": {
      "text/plain": [
       "2"
      ]
     },
     "execution_count": 32,
     "metadata": {},
     "output_type": "execute_result"
    }
   ],
   "source": [
    "a = 1\n",
    "def local_scope(b):\n",
    "    return a\n",
    "a = 2\n",
    "local_scope('qwer')"
   ]
  },
  {
   "cell_type": "code",
   "execution_count": 36,
   "id": "3c59d946-efbd-4c7e-ae85-f9f26ee99865",
   "metadata": {},
   "outputs": [
    {
     "name": "stdout",
     "output_type": "stream",
     "text": [
      "1\n",
      "2\n",
      "3\n",
      "4\n",
      "5\n"
     ]
    }
   ],
   "source": [
    "my_lst = [1,2,3,4,5]\n",
    "for i in my_lst:\n",
    "    print(my_lst[i - 1])\n",
    "    "
   ]
  },
  {
   "cell_type": "code",
   "execution_count": 42,
   "id": "0fc8c281-c88e-4e23-91c6-09c4cbdc3a0c",
   "metadata": {},
   "outputs": [
    {
     "data": {
      "text/plain": [
       "1"
      ]
     },
     "execution_count": 42,
     "metadata": {},
     "output_type": "execute_result"
    }
   ],
   "source": [
    "a = 0\n",
    "def global_scope():\n",
    "    global a\n",
    "    a += 1\n",
    "    return a\n",
    "global_scope()"
   ]
  },
  {
   "cell_type": "markdown",
   "id": "c9c859d0-7e0b-47b1-8a12-97144b2a780c",
   "metadata": {},
   "source": [
    "# 재귀\n",
    "함수 내부에서 자기 자신을 호출\n",
    "n! = 1 * 2 * 3 * 4 ..... * n\n",
    "n! = (n - 1) * n\n"
   ]
  },
  {
   "cell_type": "code",
   "execution_count": 46,
   "id": "7e147a3b-396a-448c-8e6d-65d514d172e6",
   "metadata": {},
   "outputs": [
    {
     "data": {
      "text/plain": [
       "120"
      ]
     },
     "execution_count": 46,
     "metadata": {},
     "output_type": "execute_result"
    }
   ],
   "source": [
    "def fact(n):\n",
    "    if n == 1:\n",
    "        return 1\n",
    "    else:\n",
    "        return fact(n - 1) * n\n",
    "fact(5)"
   ]
  },
  {
   "cell_type": "code",
   "execution_count": null,
   "id": "2f4ceb27-155c-48fa-a66f-3066b6565fe1",
   "metadata": {},
   "outputs": [],
   "source": [
    "def fibo(n):\n",
    "    if n == 0 or n == 1:\n",
    "        return 1\n",
    "    else:\n",
    "        return fino(n-1)"
   ]
  }
 ],
 "metadata": {
  "kernelspec": {
   "display_name": "Python 3 (ipykernel)",
   "language": "python",
   "name": "python3"
  },
  "language_info": {
   "codemirror_mode": {
    "name": "ipython",
    "version": 3
   },
   "file_extension": ".py",
   "mimetype": "text/x-python",
   "name": "python",
   "nbconvert_exporter": "python",
   "pygments_lexer": "ipython3",
   "version": "3.13.2"
  }
 },
 "nbformat": 4,
 "nbformat_minor": 5
}
