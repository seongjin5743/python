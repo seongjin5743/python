{
 "cells": [
  {
   "cell_type": "markdown",
   "id": "69942cde-cb47-4633-b3df-4605519da1f4",
   "metadata": {},
   "source": [
    "# 함수(function)"
   ]
  },
  {
   "cell_type": "code",
   "execution_count": 1,
   "id": "59cd3fc0-0b33-4340-8aae-26e8ed6a11a9",
   "metadata": {},
   "outputs": [
    {
     "name": "stdout",
     "output_type": "stream",
     "text": [
      "사각형의 면적은 1000이고 둘레는 140입니다.\n"
     ]
    }
   ],
   "source": [
    "# 사각형의 가로와 세로의 길이를 이용해서 면적과 둘레를 구하기\n",
    "height = 50\n",
    "width = 20\n",
    "\n",
    "area = height * width\n",
    "perimeter = (height + width) * 2\n",
    "\n",
    "print(f'사각형의 면적은 {area}이고 둘레는 {perimeter}입니다.')"
   ]
  },
  {
   "cell_type": "code",
   "execution_count": 2,
   "id": "5ba51078-624d-48c4-9fcd-6505cf557544",
   "metadata": {},
   "outputs": [
    {
     "name": "stdout",
     "output_type": "stream",
     "text": [
      "사각형의 면적은 2500이고 둘레는 200입니다.\n"
     ]
    }
   ],
   "source": [
    "height2 = 50\n",
    "width2 = 50\n",
    "\n",
    "area2 = height2 * width2\n",
    "perimeter2 = (height2 + width2) * 2\n",
    "\n",
    "print(f'사각형의 면적은 {area2}이고 둘레는 {perimeter2}입니다.')"
   ]
  },
  {
   "cell_type": "markdown",
   "id": "8a374c3b-aaf4-4fb0-ae3f-ec2445d785f7",
   "metadata": {},
   "source": [
    "## 함수의 선언과 호출\n",
    "- 선언\n",
    "```python\n",
    "def func_name(parameter1, parameter2, ...):\n",
    "    code1\n",
    "    code2\n",
    "    ...\n",
    "    return value\n",
    "```\n",
    "\n",
    "- 호출\n",
    "    - `func_name(parameter1, parameter2, ...)`"
   ]
  },
  {
   "cell_type": "code",
   "execution_count": 3,
   "id": "684b1d69-003a-4e70-aaf5-181912aa1c26",
   "metadata": {},
   "outputs": [],
   "source": [
    "def rectangle(height, width):\n",
    "    area = height * width\n",
    "    perimeter = (height + width) * 2\n",
    "\n",
    "    print(f'사각형의 면적은 {area}입니다. 둘레는 {perimeter}입니다.')"
   ]
  },
  {
   "cell_type": "code",
   "execution_count": 4,
   "id": "aa08c420-6bd6-4e64-96a3-66c13dd18f27",
   "metadata": {},
   "outputs": [
    {
     "name": "stdout",
     "output_type": "stream",
     "text": [
      "사각형의 면적은 1500입니다. 둘레는 160입니다.\n",
      "사각형의 면적은 2000입니다. 둘레는 240입니다.\n"
     ]
    }
   ],
   "source": [
    "rectangle(50, 30)\n",
    "rectangle(20, 100)"
   ]
  },
  {
   "cell_type": "code",
   "execution_count": 5,
   "id": "3d3a7cf5-b3f7-44e6-b648-d84b3c085d1a",
   "metadata": {},
   "outputs": [
    {
     "data": {
      "text/plain": [
       "['ArithmeticError',\n",
       " 'AssertionError',\n",
       " 'AttributeError',\n",
       " 'BaseException',\n",
       " 'BaseExceptionGroup',\n",
       " 'BlockingIOError',\n",
       " 'BrokenPipeError',\n",
       " 'BufferError',\n",
       " 'BytesWarning',\n",
       " 'ChildProcessError',\n",
       " 'ConnectionAbortedError',\n",
       " 'ConnectionError',\n",
       " 'ConnectionRefusedError',\n",
       " 'ConnectionResetError',\n",
       " 'DeprecationWarning',\n",
       " 'EOFError',\n",
       " 'Ellipsis',\n",
       " 'EncodingWarning',\n",
       " 'EnvironmentError',\n",
       " 'Exception',\n",
       " 'ExceptionGroup',\n",
       " 'False',\n",
       " 'FileExistsError',\n",
       " 'FileNotFoundError',\n",
       " 'FloatingPointError',\n",
       " 'FutureWarning',\n",
       " 'GeneratorExit',\n",
       " 'IOError',\n",
       " 'ImportError',\n",
       " 'ImportWarning',\n",
       " 'IndentationError',\n",
       " 'IndexError',\n",
       " 'InterruptedError',\n",
       " 'IsADirectoryError',\n",
       " 'KeyError',\n",
       " 'KeyboardInterrupt',\n",
       " 'LookupError',\n",
       " 'MemoryError',\n",
       " 'ModuleNotFoundError',\n",
       " 'NameError',\n",
       " 'None',\n",
       " 'NotADirectoryError',\n",
       " 'NotImplemented',\n",
       " 'NotImplementedError',\n",
       " 'OSError',\n",
       " 'OverflowError',\n",
       " 'PendingDeprecationWarning',\n",
       " 'PermissionError',\n",
       " 'ProcessLookupError',\n",
       " 'PythonFinalizationError',\n",
       " 'RecursionError',\n",
       " 'ReferenceError',\n",
       " 'ResourceWarning',\n",
       " 'RuntimeError',\n",
       " 'RuntimeWarning',\n",
       " 'StopAsyncIteration',\n",
       " 'StopIteration',\n",
       " 'SyntaxError',\n",
       " 'SyntaxWarning',\n",
       " 'SystemError',\n",
       " 'SystemExit',\n",
       " 'TabError',\n",
       " 'TimeoutError',\n",
       " 'True',\n",
       " 'TypeError',\n",
       " 'UnboundLocalError',\n",
       " 'UnicodeDecodeError',\n",
       " 'UnicodeEncodeError',\n",
       " 'UnicodeError',\n",
       " 'UnicodeTranslateError',\n",
       " 'UnicodeWarning',\n",
       " 'UserWarning',\n",
       " 'ValueError',\n",
       " 'Warning',\n",
       " 'WindowsError',\n",
       " 'ZeroDivisionError',\n",
       " '_IncompleteInputError',\n",
       " '__IPYTHON__',\n",
       " '__build_class__',\n",
       " '__debug__',\n",
       " '__doc__',\n",
       " '__import__',\n",
       " '__loader__',\n",
       " '__name__',\n",
       " '__package__',\n",
       " '__spec__',\n",
       " 'abs',\n",
       " 'aiter',\n",
       " 'all',\n",
       " 'anext',\n",
       " 'any',\n",
       " 'ascii',\n",
       " 'bin',\n",
       " 'bool',\n",
       " 'breakpoint',\n",
       " 'bytearray',\n",
       " 'bytes',\n",
       " 'callable',\n",
       " 'chr',\n",
       " 'classmethod',\n",
       " 'compile',\n",
       " 'complex',\n",
       " 'copyright',\n",
       " 'credits',\n",
       " 'delattr',\n",
       " 'dict',\n",
       " 'dir',\n",
       " 'display',\n",
       " 'divmod',\n",
       " 'enumerate',\n",
       " 'eval',\n",
       " 'exec',\n",
       " 'execfile',\n",
       " 'filter',\n",
       " 'float',\n",
       " 'format',\n",
       " 'frozenset',\n",
       " 'get_ipython',\n",
       " 'getattr',\n",
       " 'globals',\n",
       " 'hasattr',\n",
       " 'hash',\n",
       " 'help',\n",
       " 'hex',\n",
       " 'id',\n",
       " 'input',\n",
       " 'int',\n",
       " 'isinstance',\n",
       " 'issubclass',\n",
       " 'iter',\n",
       " 'len',\n",
       " 'license',\n",
       " 'list',\n",
       " 'locals',\n",
       " 'map',\n",
       " 'max',\n",
       " 'memoryview',\n",
       " 'min',\n",
       " 'next',\n",
       " 'object',\n",
       " 'oct',\n",
       " 'open',\n",
       " 'ord',\n",
       " 'pow',\n",
       " 'print',\n",
       " 'property',\n",
       " 'range',\n",
       " 'repr',\n",
       " 'reversed',\n",
       " 'round',\n",
       " 'runfile',\n",
       " 'set',\n",
       " 'setattr',\n",
       " 'slice',\n",
       " 'sorted',\n",
       " 'staticmethod',\n",
       " 'str',\n",
       " 'sum',\n",
       " 'super',\n",
       " 'tuple',\n",
       " 'type',\n",
       " 'vars',\n",
       " 'zip']"
      ]
     },
     "execution_count": 5,
     "metadata": {},
     "output_type": "execute_result"
    }
   ],
   "source": [
    "dir(__builtins__)"
   ]
  },
  {
   "cell_type": "code",
   "execution_count": 6,
   "id": "5db60043-50f0-44fd-aa2d-5c9fa079b2d8",
   "metadata": {},
   "outputs": [
    {
     "data": {
      "text/plain": [
       "2"
      ]
     },
     "execution_count": 6,
     "metadata": {},
     "output_type": "execute_result"
    }
   ],
   "source": [
    "max(2, 2)"
   ]
  },
  {
   "cell_type": "code",
   "execution_count": 7,
   "id": "ef363394-0fc3-46a3-9893-89cd9c57133d",
   "metadata": {},
   "outputs": [],
   "source": [
    "def my_max(num1, num2):\n",
    "    if num1 > num2:\n",
    "        print(num1)\n",
    "    elif num1 < num2:\n",
    "        print(num2)\n",
    "    else:\n",
    "        print('같습니다')"
   ]
  },
  {
   "cell_type": "code",
   "execution_count": 8,
   "id": "d28cbaa5-20a5-4a8f-90f6-a375e463eb45",
   "metadata": {},
   "outputs": [
    {
     "name": "stdout",
     "output_type": "stream",
     "text": [
      "같습니다\n",
      "5\n",
      "5\n"
     ]
    }
   ],
   "source": [
    "my_max(5, 5)\n",
    "my_max(5, 1)\n",
    "my_max(1, 5)"
   ]
  },
  {
   "cell_type": "markdown",
   "id": "3da70176-fd75-44ff-ac84-4cdc4e416175",
   "metadata": {},
   "source": [
    "## 함수의 return\n",
    "\n",
    "- 함수가 return을 만나면 해당값을 반환하고 함수를 종료\n",
    "- 만약 return이 없는 경우 None을 자동으로 반환\n",
    "- return은 오직 하나의 객체만 반환"
   ]
  },
  {
   "cell_type": "code",
   "execution_count": 9,
   "id": "f707c163-6e19-4199-8d01-e80a2e7461b0",
   "metadata": {},
   "outputs": [
    {
     "name": "stdout",
     "output_type": "stream",
     "text": [
      "2\n",
      "None\n"
     ]
    }
   ],
   "source": [
    "result = my_max(1, 2)\n",
    "print(result)\n",
    "# result * 2"
   ]
  },
  {
   "cell_type": "code",
   "execution_count": 10,
   "id": "e2edb846-1c4e-4896-8d02-f972e49a3a7d",
   "metadata": {},
   "outputs": [],
   "source": [
    "def my_max2(num1, num2):\n",
    "    if num1 > num2:\n",
    "        return num1\n",
    "    else:\n",
    "        return num2"
   ]
  },
  {
   "cell_type": "code",
   "execution_count": 11,
   "id": "617fc7c5-bcc9-430e-8398-cc8bd4f75cee",
   "metadata": {},
   "outputs": [
    {
     "name": "stdout",
     "output_type": "stream",
     "text": [
      "2\n"
     ]
    }
   ],
   "source": [
    "result = my_max2(1, 2)\n",
    "print(result)"
   ]
  },
  {
   "cell_type": "code",
   "execution_count": 12,
   "id": "5c2dd125-8f7b-4498-89ba-cbe50f5722b1",
   "metadata": {},
   "outputs": [
    {
     "name": "stdout",
     "output_type": "stream",
     "text": [
      "0\n",
      "1\n",
      "2\n",
      "3\n"
     ]
    },
    {
     "data": {
      "text/plain": [
       "3"
      ]
     },
     "execution_count": 12,
     "metadata": {},
     "output_type": "execute_result"
    }
   ],
   "source": [
    "def my_for(x):\n",
    "    for i in range(x):\n",
    "        print(i)\n",
    "        if i == 3:\n",
    "            return i\n",
    "\n",
    "my_for(5)\n",
    "    "
   ]
  },
  {
   "cell_type": "code",
   "execution_count": 13,
   "id": "71a2d2a1-9bd6-4a74-baa1-1252523d292f",
   "metadata": {},
   "outputs": [
    {
     "data": {
      "text/plain": [
       "(20, 10)"
      ]
     },
     "execution_count": 13,
     "metadata": {},
     "output_type": "execute_result"
    }
   ],
   "source": [
    "def my_def(x):\n",
    "    return (x * 2, x)\n",
    "\n",
    "my_def(10)"
   ]
  },
  {
   "cell_type": "code",
   "execution_count": 14,
   "id": "7cf6a13a-09db-4b81-a369-8abf5b395ed8",
   "metadata": {},
   "outputs": [],
   "source": [
    "# version1\n",
    "def my_list_max(list1, list2):\n",
    "    # list1 = [1, 2, 3]\n",
    "    # list2 = [2, 3, 4]\n",
    "\n",
    "    sum_of_list1 = list1[0] + list1[1] + list1[2]\n",
    "    sum_of_list2 = list2[0] + list2[1] + list2[2]\n",
    "\n",
    "    if sum_of_list1 > sum_of_list2:\n",
    "        return list1\n",
    "    else:\n",
    "        return list2    "
   ]
  },
  {
   "cell_type": "code",
   "execution_count": 15,
   "id": "90c42373-ea52-4a65-90af-0a48e3610cca",
   "metadata": {},
   "outputs": [],
   "source": [
    "# version2\n",
    "def my_list_max(list1, list2):\n",
    "    sum_of_list1 = 0\n",
    "    sum_of_list2 = 0\n",
    "\n",
    "    # list1 = [55, 44, 33]\n",
    "    for item in list1:\n",
    "        sum_of_list1 = sum_of_list1 + item\n",
    "\n",
    "    for item in list2:\n",
    "        sum_of_list2 += item\n",
    "\n",
    "    if sum_of_list1 > sum_of_list2:\n",
    "        return list1\n",
    "    else:\n",
    "        return list2\n",
    "    \n",
    "    "
   ]
  },
  {
   "cell_type": "code",
   "execution_count": 16,
   "id": "1444e65d-e7f0-48dc-8ff6-07d2bb966df9",
   "metadata": {},
   "outputs": [],
   "source": [
    "# version3\n",
    "def my_list_max(list1, list2):\n",
    "    sum_of_list1 = sum(list1)\n",
    "    sum_of_list2 = sum(list2)\n",
    "\n",
    "    if sum_of_list1 > sum_of_list2:\n",
    "        return list1\n",
    "    else:\n",
    "        return list2   \n"
   ]
  },
  {
   "cell_type": "code",
   "execution_count": 17,
   "id": "858f4209-8ba0-47f3-bf0f-e80562098bac",
   "metadata": {},
   "outputs": [
    {
     "data": {
      "text/plain": [
       "[55, 44, 22]"
      ]
     },
     "execution_count": 17,
     "metadata": {},
     "output_type": "execute_result"
    }
   ],
   "source": [
    "my_list_max([55, 44, 22], [2, 3, 4])\n",
    "# => [2, 3, 4]"
   ]
  },
  {
   "cell_type": "markdown",
   "id": "e6d3b186-200a-4fd4-92a2-fdb9aa953a7f",
   "metadata": {},
   "source": [
    "### 함수의 인수"
   ]
  },
  {
   "cell_type": "markdown",
   "id": "b3d261b3-7468-4a3b-a7dd-f72aaed92ab0",
   "metadata": {},
   "source": [
    "#### 위치인수\n",
    "- 기본적으로 함수는 위치를 기준으로 인수를 판단"
   ]
  },
  {
   "cell_type": "code",
   "execution_count": 18,
   "id": "2e1ba79d-2448-4abd-ac91-95f0014b3b88",
   "metadata": {},
   "outputs": [],
   "source": [
    "def cylinder(r, h):\n",
    "    # r = 3\n",
    "    # h = 10\n",
    "    return 3.14 * r ** 2 * h"
   ]
  },
  {
   "cell_type": "code",
   "execution_count": 19,
   "id": "f8ea41a8-f98d-4b1b-9675-396ae9b135b0",
   "metadata": {},
   "outputs": [
    {
     "data": {
      "text/plain": [
       "282.6"
      ]
     },
     "execution_count": 19,
     "metadata": {},
     "output_type": "execute_result"
    }
   ],
   "source": [
    "cylinder(3, 10)"
   ]
  },
  {
   "cell_type": "code",
   "execution_count": 20,
   "id": "43c54639-ebf9-4fff-bf7f-269e4e9e1b50",
   "metadata": {},
   "outputs": [
    {
     "data": {
      "text/plain": [
       "942.0"
      ]
     },
     "execution_count": 20,
     "metadata": {},
     "output_type": "execute_result"
    }
   ],
   "source": [
    "cylinder(10, 3)"
   ]
  },
  {
   "cell_type": "code",
   "execution_count": 21,
   "id": "0d70f649-448b-4937-a316-9b639e5adb53",
   "metadata": {},
   "outputs": [
    {
     "ename": "TypeError",
     "evalue": "cylinder() takes 2 positional arguments but 3 were given",
     "output_type": "error",
     "traceback": [
      "\u001b[1;31m---------------------------------------------------------------------------\u001b[0m",
      "\u001b[1;31mTypeError\u001b[0m                                 Traceback (most recent call last)",
      "Cell \u001b[1;32mIn[21], line 1\u001b[0m\n\u001b[1;32m----> 1\u001b[0m \u001b[43mcylinder\u001b[49m\u001b[43m(\u001b[49m\u001b[38;5;241;43m10\u001b[39;49m\u001b[43m,\u001b[49m\u001b[43m \u001b[49m\u001b[38;5;241;43m10\u001b[39;49m\u001b[43m,\u001b[49m\u001b[43m \u001b[49m\u001b[38;5;241;43m2\u001b[39;49m\u001b[43m)\u001b[49m\n",
      "\u001b[1;31mTypeError\u001b[0m: cylinder() takes 2 positional arguments but 3 were given"
     ]
    }
   ],
   "source": [
    "cylinder(10, 10, 2)"
   ]
  },
  {
   "cell_type": "markdown",
   "id": "1a360f12-ddc1-4abb-b3c9-c246dabd65fc",
   "metadata": {},
   "source": [
    "#### 기본값\n",
    "```python\n",
    "def func_name(p1=v1):\n",
    "    code1\n",
    "    return value\n",
    "\n",
    "```"
   ]
  },
  {
   "cell_type": "code",
   "execution_count": null,
   "id": "69df9b84-3499-47e4-a473-11e1e4b40d44",
   "metadata": {},
   "outputs": [],
   "source": [
    "def greeting(name='익명'):\n",
    "    return f'{name}님 반갑습니다.'"
   ]
  },
  {
   "cell_type": "code",
   "execution_count": 58,
   "id": "bf3950d0-8ba9-4439-a46b-51c03e119ec8",
   "metadata": {},
   "outputs": [
    {
     "data": {
      "text/plain": [
       "'익명님은 황성진살입니다.'"
      ]
     },
     "execution_count": 58,
     "metadata": {},
     "output_type": "execute_result"
    }
   ],
   "source": [
    "greeting('황성진')"
   ]
  },
  {
   "cell_type": "code",
   "execution_count": 59,
   "id": "5af1c3ff-19fa-4441-b939-0f1938a328c3",
   "metadata": {},
   "outputs": [
    {
     "name": "stdout",
     "output_type": "stream",
     "text": [
      "안녕하세요***반갑습니다.!!!!\n",
      "저는 황성진입니다.\n"
     ]
    }
   ],
   "source": [
    "print('안녕하세요', '반갑습니다.', sep='***', end='!!!!\\n')\n",
    "print('저는 황성진입니다.')"
   ]
  },
  {
   "cell_type": "code",
   "execution_count": 24,
   "id": "aa1ea54e-1440-405c-a3b8-a30d0472ba04",
   "metadata": {},
   "outputs": [
    {
     "ename": "SyntaxError",
     "evalue": "parameter without a default follows parameter with a default (3738572875.py, line 1)",
     "output_type": "error",
     "traceback": [
      "\u001b[1;36m  Cell \u001b[1;32mIn[24], line 1\u001b[1;36m\u001b[0m\n\u001b[1;33m    def greeting(name='익명', age):\u001b[0m\n\u001b[1;37m                            ^\u001b[0m\n\u001b[1;31mSyntaxError\u001b[0m\u001b[1;31m:\u001b[0m parameter without a default follows parameter with a default\n"
     ]
    }
   ],
   "source": [
    "def greeting(name='익명', age):\n",
    "    return f'{name}님의 나이는 {age}살입니다.'"
   ]
  },
  {
   "cell_type": "code",
   "execution_count": 25,
   "id": "2b4f32b9-0913-4b0a-a1bd-2f41461aeaa6",
   "metadata": {},
   "outputs": [],
   "source": [
    "def greeting(age, name='익명'):\n",
    "    return f'{name}님의 나이는 {age}살입니다.'"
   ]
  },
  {
   "cell_type": "code",
   "execution_count": 26,
   "id": "2d2f89c6-b25b-4f93-9aed-21d037b7169a",
   "metadata": {},
   "outputs": [
    {
     "data": {
      "text/plain": [
       "'익명님의 나이는 10살입니다.'"
      ]
     },
     "execution_count": 26,
     "metadata": {},
     "output_type": "execute_result"
    }
   ],
   "source": [
    "greeting(10, '길동')\n",
    "greeting(10)"
   ]
  },
  {
   "cell_type": "markdown",
   "id": "b5f5ce81-7f8b-42e0-a1be-e9e082fd3fa4",
   "metadata": {},
   "source": [
    "#### 키워드 인수\n",
    "- 함수를 호출(실행)할 때 내가 원하는 위치에 직접적으로 값을 전달"
   ]
  },
  {
   "cell_type": "code",
   "execution_count": 27,
   "id": "1150a56f-3979-4af3-8c91-01686cfceb05",
   "metadata": {},
   "outputs": [],
   "source": [
    "def greeting(age, name='익명'):\n",
    "    return f'{name}님은 {age}살입니다.'"
   ]
  },
  {
   "cell_type": "code",
   "execution_count": 28,
   "id": "92c7820b-2acc-412a-b232-8e0c6ede7f73",
   "metadata": {},
   "outputs": [
    {
     "data": {
      "text/plain": [
       "'길동님은 10살입니다.'"
      ]
     },
     "execution_count": 28,
     "metadata": {},
     "output_type": "execute_result"
    }
   ],
   "source": [
    "greeting(10, '길동')\n",
    "greeting(10)\n",
    "greeting(name='길동', age=10)"
   ]
  },
  {
   "cell_type": "markdown",
   "id": "dc077fc1-ee8f-4b4f-94ff-91d2f0a5d28e",
   "metadata": {},
   "source": [
    "#### 가변인자 리스트\n",
    "```python\n",
    "def func_name(*parms):\n",
    "    code\n",
    "    ...\n",
    "    return value\n",
    "```"
   ]
  },
  {
   "cell_type": "code",
   "execution_count": 29,
   "id": "5ab911d9-b1d1-42c8-a0f2-6de575ee5b75",
   "metadata": {},
   "outputs": [
    {
     "name": "stdout",
     "output_type": "stream",
     "text": [
      "1 2 asdf\n"
     ]
    }
   ],
   "source": [
    "print('1', '2', 'asdf')"
   ]
  },
  {
   "cell_type": "code",
   "execution_count": 30,
   "id": "aeaf4388-3207-4fd8-894e-0aad1025f3e0",
   "metadata": {},
   "outputs": [],
   "source": [
    "def my_print(*words):\n",
    "    print(words)"
   ]
  },
  {
   "cell_type": "code",
   "execution_count": 31,
   "id": "0e887379-d82a-4ecf-8f3c-2e8025748848",
   "metadata": {},
   "outputs": [
    {
     "name": "stdout",
     "output_type": "stream",
     "text": [
      "('my', 'name', 'is', 1, 2, 3, 4)\n"
     ]
    }
   ],
   "source": [
    "my_print('my', 'name', 'is', 1, 2, 3, 4)"
   ]
  },
  {
   "cell_type": "code",
   "execution_count": 32,
   "id": "6e3d8772-6907-442a-8407-d324d2a91081",
   "metadata": {},
   "outputs": [
    {
     "data": {
      "text/plain": [
       "7"
      ]
     },
     "execution_count": 32,
     "metadata": {},
     "output_type": "execute_result"
    }
   ],
   "source": [
    "max(1, 2, 3, 4, 5, 6, 7)"
   ]
  },
  {
   "cell_type": "code",
   "execution_count": 33,
   "id": "bfd092e9-43e0-45d0-af9a-1678ed2cd0c4",
   "metadata": {},
   "outputs": [],
   "source": [
    "def my_max(*numbers):\n",
    "    # numbers = (1, 2, 3, 4, 5, 6, 7)\n",
    "    # max_num = 0\n",
    "    max_num = numbers[0]\n",
    "    \n",
    "    for number in numbers:\n",
    "        if max_num < number:\n",
    "            max_num = number\n",
    "\n",
    "    return max_num"
   ]
  },
  {
   "cell_type": "code",
   "execution_count": 34,
   "id": "91674900-eabf-4bad-b852-90689fb761de",
   "metadata": {},
   "outputs": [
    {
     "data": {
      "text/plain": [
       "200"
      ]
     },
     "execution_count": 34,
     "metadata": {},
     "output_type": "execute_result"
    }
   ],
   "source": [
    "my_max(1, 2, 100, 200, 5, 6, 7)"
   ]
  },
  {
   "cell_type": "code",
   "execution_count": 35,
   "id": "a2af0b85-6c77-4328-ad7d-29aafe2c7863",
   "metadata": {},
   "outputs": [
    {
     "data": {
      "text/plain": [
       "-1"
      ]
     },
     "execution_count": 35,
     "metadata": {},
     "output_type": "execute_result"
    }
   ],
   "source": [
    "my_max(-1, -2, -3, -4)"
   ]
  },
  {
   "cell_type": "markdown",
   "id": "ccc0d54e-ab01-4759-92f8-35a5f5fb61ce",
   "metadata": {},
   "source": [
    "### 정의되지 않은 키워드 인자 처리하기\n",
    "```python\n",
    "def func_name(**kwargs):\n",
    "    return value\n",
    "```"
   ]
  },
  {
   "cell_type": "code",
   "execution_count": 36,
   "id": "27faf7c4-69d0-46ad-9a5b-9b67d774828a",
   "metadata": {},
   "outputs": [
    {
     "name": "stdout",
     "output_type": "stream",
     "text": [
      "{'name': 'hong', 'age': 10}\n"
     ]
    }
   ],
   "source": [
    "info = {\n",
    "    'name': 'hong',\n",
    "    'age': 10,\n",
    "}\n",
    "print(info)"
   ]
  },
  {
   "cell_type": "code",
   "execution_count": 37,
   "id": "c40e0dc9-f5da-406b-b1a4-0b79fab21766",
   "metadata": {},
   "outputs": [
    {
     "name": "stdout",
     "output_type": "stream",
     "text": [
      "{'name': 'kim', 'age': 20, 'asdf': '가나다라'}\n"
     ]
    }
   ],
   "source": [
    "info = dict(name='kim', age=20, asdf='가나다라')\n",
    "print(info)"
   ]
  },
  {
   "cell_type": "code",
   "execution_count": 38,
   "id": "72a60084-2788-4859-9792-4377ac19f6fe",
   "metadata": {},
   "outputs": [
    {
     "name": "stdout",
     "output_type": "stream",
     "text": [
      "{'asdf': '가나다', 'age': 123, 'test': 'asdf'}\n"
     ]
    }
   ],
   "source": [
    "def my_dict(**kwargs):\n",
    "    print(kwargs)\n",
    "\n",
    "my_dict(asdf='가나다', age=123, test='asdf')"
   ]
  },
  {
   "cell_type": "code",
   "execution_count": 39,
   "id": "ac9c8f3c-6b12-4909-b088-d328ddc57860",
   "metadata": {},
   "outputs": [],
   "source": [
    "def my_func(params1, params2='temp', *numbers, **kwargs):\n",
    "    return 0"
   ]
  },
  {
   "cell_type": "code",
   "execution_count": 40,
   "id": "dddaa034-9182-4aff-9f87-fabeb124f208",
   "metadata": {},
   "outputs": [
    {
     "data": {
      "text/plain": [
       "0"
      ]
     },
     "execution_count": 40,
     "metadata": {},
     "output_type": "execute_result"
    }
   ],
   "source": [
    "# my_func() => params1 부족으로 에러\n",
    "my_func(123) \n",
    "# => params1 = 123, params2 = 'temp'\n",
    "my_func(123, 234)\n",
    "# => params1 = 123, params2 = 234\n",
    "my_func(123, 234, 345, 567, 789, 890)\n",
    "# => parmas1 = 123, parmas2 = 234, numbers = (345, 567, 789, 890)\n",
    "my_func(123, 234, 345, 567, 789, 890, a=1, b=2, c=3)\n",
    "# kwargs = {a: 1, b: 2, c: 3}"
   ]
  },
  {
   "cell_type": "markdown",
   "id": "d3174254-185e-426b-8662-0b5855e7742a",
   "metadata": {},
   "source": [
    "### lambda 표현식\n",
    "```python\n",
    "lambda parameter: expression\n",
    "```"
   ]
  },
  {
   "cell_type": "code",
   "execution_count": 41,
   "id": "9df4c724-525f-4c03-bad9-7b1716b4cd52",
   "metadata": {},
   "outputs": [],
   "source": [
    "def my_sum(num1, num2):\n",
    "    return num1 + num2"
   ]
  },
  {
   "cell_type": "code",
   "execution_count": 42,
   "id": "debadd48-cf10-404d-ad94-101656f91ea9",
   "metadata": {},
   "outputs": [
    {
     "data": {
      "text/plain": [
       "102"
      ]
     },
     "execution_count": 42,
     "metadata": {},
     "output_type": "execute_result"
    }
   ],
   "source": [
    "my_sum(100, 2)"
   ]
  },
  {
   "cell_type": "code",
   "execution_count": 43,
   "id": "53c31ba5-3ccb-46f2-9725-21c5ebd24f5c",
   "metadata": {},
   "outputs": [
    {
     "data": {
      "text/plain": [
       "3"
      ]
     },
     "execution_count": 43,
     "metadata": {},
     "output_type": "execute_result"
    }
   ],
   "source": [
    "(lambda num1, num2: num1 + num2)(1, 2)"
   ]
  },
  {
   "cell_type": "markdown",
   "id": "95d9a90d-8458-4ce0-a4b0-e1bd631ef1cf",
   "metadata": {},
   "source": [
    "### 타입힌트"
   ]
  },
  {
   "cell_type": "code",
   "execution_count": 44,
   "id": "077f84b0-1f52-46d7-92dc-0d4e37f2288e",
   "metadata": {},
   "outputs": [
    {
     "data": {
      "text/plain": [
       "3"
      ]
     },
     "execution_count": 44,
     "metadata": {},
     "output_type": "execute_result"
    }
   ],
   "source": [
    "def something(a: int, b: int) -> int:\n",
    "    return a + b\n",
    "\n",
    "something(1, 2)"
   ]
  },
  {
   "cell_type": "code",
   "execution_count": 45,
   "id": "1ec4d0ab-8157-42c3-8b36-5b0ca4e2c3e6",
   "metadata": {},
   "outputs": [
    {
     "data": {
      "text/plain": [
       "'asdfqwer'"
      ]
     },
     "execution_count": 45,
     "metadata": {},
     "output_type": "execute_result"
    }
   ],
   "source": [
    "something('asdf', 'qwer')"
   ]
  },
  {
   "cell_type": "markdown",
   "id": "9056d78c-aedc-4231-afd3-f19146b17de1",
   "metadata": {},
   "source": [
    "### 이름공간(namespace), 스코프(scope)\n",
    "python에서 사용하는 이름들은 이름공간에 저장되어있습니다. LEGB 룰에 따라 접근\n",
    "\n",
    "1. Local : 정의된 함수 내부\n",
    "2. Enclosed : 상위 함수\n",
    "3. Global : 함수 밖\n",
    "4. Built-in : python이 기본적으로 가지고 있는 함수"
   ]
  },
  {
   "cell_type": "code",
   "execution_count": 46,
   "id": "cf1aa0d5-0bc7-4fce-a3a6-c5ba7ce2b30a",
   "metadata": {},
   "outputs": [
    {
     "name": "stdout",
     "output_type": "stream",
     "text": [
      "123\n"
     ]
    }
   ],
   "source": [
    "result = str(123)\n",
    "print(result)"
   ]
  },
  {
   "cell_type": "code",
   "execution_count": 47,
   "id": "cb93c8cb-feb0-4ecc-aec8-c353d98b54fe",
   "metadata": {},
   "outputs": [],
   "source": [
    "str = 'hello'"
   ]
  },
  {
   "cell_type": "code",
   "execution_count": 48,
   "id": "c6ac3b85-85e1-4e25-8ffe-cd94d53a2402",
   "metadata": {},
   "outputs": [
    {
     "ename": "TypeError",
     "evalue": "'str' object is not callable",
     "output_type": "error",
     "traceback": [
      "\u001b[1;31m---------------------------------------------------------------------------\u001b[0m",
      "\u001b[1;31mTypeError\u001b[0m                                 Traceback (most recent call last)",
      "Cell \u001b[1;32mIn[48], line 1\u001b[0m\n\u001b[1;32m----> 1\u001b[0m result \u001b[38;5;241m=\u001b[39m \u001b[38;5;28;43mstr\u001b[39;49m\u001b[43m(\u001b[49m\u001b[38;5;241;43m123\u001b[39;49m\u001b[43m)\u001b[49m\n\u001b[0;32m      2\u001b[0m \u001b[38;5;28mprint\u001b[39m(result)\n",
      "\u001b[1;31mTypeError\u001b[0m: 'str' object is not callable"
     ]
    }
   ],
   "source": [
    "result = str(123)\n",
    "print(result)"
   ]
  },
  {
   "cell_type": "code",
   "execution_count": 49,
   "id": "a3370613-2926-443f-a78e-970148c885ed",
   "metadata": {},
   "outputs": [],
   "source": [
    "del str"
   ]
  },
  {
   "cell_type": "code",
   "execution_count": 50,
   "id": "0c207d93-9ba9-4393-85bb-46f32ad04f32",
   "metadata": {},
   "outputs": [
    {
     "data": {
      "text/plain": [
       "'asdf'"
      ]
     },
     "execution_count": 50,
     "metadata": {},
     "output_type": "execute_result"
    }
   ],
   "source": [
    "a = 1\n",
    "\n",
    "def local_scope(a):\n",
    "    return a\n",
    "\n",
    "a = '가나다라'\n",
    "\n",
    "local_scope('asdf')"
   ]
  },
  {
   "cell_type": "code",
   "execution_count": 51,
   "id": "f4caa0b3-9a1a-48b5-bf61-51505f7ef2ee",
   "metadata": {},
   "outputs": [
    {
     "data": {
      "text/plain": [
       "'가나다라'"
      ]
     },
     "execution_count": 51,
     "metadata": {},
     "output_type": "execute_result"
    }
   ],
   "source": [
    "a = 1\n",
    "\n",
    "def local_scope(b):\n",
    "    return a\n",
    "\n",
    "a = '가나다라'\n",
    "\n",
    "local_scope('asdf')"
   ]
  },
  {
   "cell_type": "code",
   "execution_count": 52,
   "id": "b2b2db18-d54d-405b-aa69-f48f66a46a67",
   "metadata": {},
   "outputs": [
    {
     "name": "stdout",
     "output_type": "stream",
     "text": [
      "1\n",
      "2\n",
      "3\n",
      "4\n",
      "5\n",
      "5\n"
     ]
    }
   ],
   "source": [
    "my_list = [1, 2, 3, 4, 5]\n",
    "for i in my_list:\n",
    "    # i = ...\n",
    "    print(i)\n",
    "print(i)"
   ]
  },
  {
   "cell_type": "code",
   "execution_count": 53,
   "id": "3af93ed5-7db5-4a87-a686-efc5614a0fef",
   "metadata": {},
   "outputs": [
    {
     "data": {
      "text/plain": [
       "1"
      ]
     },
     "execution_count": 53,
     "metadata": {},
     "output_type": "execute_result"
    }
   ],
   "source": [
    "a = 0\n",
    "\n",
    "def global_scope():\n",
    "    global a\n",
    "    a = a + 1\n",
    "    return a\n",
    "\n",
    "global_scope()"
   ]
  },
  {
   "cell_type": "markdown",
   "id": "eee5b988-6ce6-4a47-89e0-fea77cebb0b3",
   "metadata": {},
   "source": [
    "### 재귀\n",
    "함수 내부에서 자기 자신을 호출하는 함수\n",
    "\n",
    "```\n",
    "n! = 1 * 2 * 3 * ... * n\n",
    "\n",
    "1! = 1\n",
    "2! = 1 * 2 = 1! * 2\n",
    "3! = 1 * 2 * 3 = 2! * 3\n",
    "n! = (n-1)! * n\n",
    "```"
   ]
  },
  {
   "cell_type": "code",
   "execution_count": 54,
   "id": "b4810a8c-c680-4fd3-90a2-b5b1e68c5f4e",
   "metadata": {},
   "outputs": [],
   "source": [
    "def fact(n):\n",
    "    if n == 1:\n",
    "        return 1\n",
    "    else:\n",
    "        return fact(n-1) * n    "
   ]
  },
  {
   "cell_type": "code",
   "execution_count": 55,
   "id": "156f82b9-acdf-45f9-8cdc-0fd755b5511c",
   "metadata": {},
   "outputs": [
    {
     "data": {
      "text/plain": [
       "3628800"
      ]
     },
     "execution_count": 55,
     "metadata": {},
     "output_type": "execute_result"
    }
   ],
   "source": [
    "fact(10)"
   ]
  },
  {
   "cell_type": "code",
   "execution_count": 56,
   "id": "79ebcd02-aa28-4e2a-b357-c3b3b4bd88a8",
   "metadata": {},
   "outputs": [],
   "source": [
    "# 피보나치 수열\n",
    "def fib(n):\n",
    "    if n == 0 or n == 1:\n",
    "        return 1\n",
    "    else:\n",
    "        return fib(n-2) + fib(n-1)"
   ]
  },
  {
   "cell_type": "code",
   "execution_count": 57,
   "id": "68718601-8e9b-43db-b2bf-d57a76c631a3",
   "metadata": {},
   "outputs": [
    {
     "data": {
      "text/plain": [
       "1346269"
      ]
     },
     "execution_count": 57,
     "metadata": {},
     "output_type": "execute_result"
    }
   ],
   "source": [
    "fib(30)"
   ]
  },
  {
   "cell_type": "code",
   "execution_count": null,
   "id": "8e1cd89f-d6e5-4e33-9b35-274546a0b126",
   "metadata": {},
   "outputs": [],
   "source": []
  }
 ],
 "metadata": {
  "kernelspec": {
   "display_name": "Python 3 (ipykernel)",
   "language": "python",
   "name": "python3"
  },
  "language_info": {
   "codemirror_mode": {
    "name": "ipython",
    "version": 3
   },
   "file_extension": ".py",
   "mimetype": "text/x-python",
   "name": "python",
   "nbconvert_exporter": "python",
   "pygments_lexer": "ipython3",
   "version": "3.13.2"
  }
 },
 "nbformat": 4,
 "nbformat_minor": 5
}
