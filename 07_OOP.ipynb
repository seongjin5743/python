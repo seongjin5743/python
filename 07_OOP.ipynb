{
 "cells": [
  {
   "cell_type": "markdown",
   "id": "2d6f3301-28ad-4b0b-8867-f5cc56ae66f3",
   "metadata": {},
   "source": [
    "# 객체지향 프로그래밍 (OOP)\n",
    "\n",
    "- 클래스(class): 같은 종류의 집단에 속하는 속성과 행동을 정의한 것\n",
    "- 속성(attribute): 클래스/인스턴스가 가지고 있는 데이터/값\n",
    "- 행동(method): 클래스/인스턴스가 가지고 있는 함수/기능\n",
    "- 인스턴스(instance): 클래스를 실제로 메모리상에 할당한 것"
   ]
  },
  {
   "cell_type": "code",
   "execution_count": 33,
   "id": "893e837d-1560-4bbd-a38b-63db0ab65e39",
   "metadata": {},
   "outputs": [],
   "source": [
    "number = 1 + 2j"
   ]
  },
  {
   "cell_type": "code",
   "execution_count": 34,
   "id": "8b636e11-573c-4a28-a9f5-5e270dafc543",
   "metadata": {},
   "outputs": [
    {
     "name": "stdout",
     "output_type": "stream",
     "text": [
      "<class 'complex'>\n"
     ]
    }
   ],
   "source": [
    "print(type(number))"
   ]
  },
  {
   "cell_type": "code",
   "execution_count": 35,
   "id": "f6f67e2d-a528-4075-915d-3e5cc2914192",
   "metadata": {},
   "outputs": [
    {
     "name": "stdout",
     "output_type": "stream",
     "text": [
      "1.0\n",
      "2.0\n"
     ]
    }
   ],
   "source": [
    "print(number.real)\n",
    "print(number.imag)"
   ]
  },
  {
   "cell_type": "code",
   "execution_count": 36,
   "id": "a11c0d6a-a757-4275-af5e-62287d709b03",
   "metadata": {},
   "outputs": [
    {
     "name": "stdout",
     "output_type": "stream",
     "text": [
      "<class 'list'>\n",
      "[3, 2, 1]\n"
     ]
    }
   ],
   "source": [
    "numbers = [1,2,3]\n",
    "print(type(numbers))\n",
    "numbers.reverse()\n",
    "print(numbers)"
   ]
  },
  {
   "cell_type": "code",
   "execution_count": 37,
   "id": "f38aa617-bcbb-43ef-93a8-1af88701a4d4",
   "metadata": {},
   "outputs": [
    {
     "name": "stdout",
     "output_type": "stream",
     "text": [
      "010-3343-9312가 010-33343-9312한테 전화하는 중\n"
     ]
    }
   ],
   "source": [
    "number = '010-3343-9312'\n",
    "power = True\n",
    "phone_book = {\n",
    "    'kim': '010-3343-9312',\n",
    "    'park': '010-33343-9312'\n",
    "}\n",
    "\n",
    "def call(from_num, to_num):\n",
    "    print(f'{from_num}가 {to_num}한테 전화하는 중')\n",
    "call(number, phone_book['park'])"
   ]
  },
  {
   "cell_type": "markdown",
   "id": "e9c2fcb5-450d-419c-96da-a183e0941cb5",
   "metadata": {},
   "source": [
    "## class\n",
    "\n",
    "- 클래스 선언/정의\n",
    "```python\n",
    "class ClassName():\n",
    "    attribute1 = value1\n",
    "    attribute2 = value2\n",
    "    def a():\n",
    "        code\n",
    "    def b():\n",
    "        code\n",
    "```\n",
    "- 인스턴스화\n",
    "```python\n",
    "c = ClassName()\n",
    "```"
   ]
  },
  {
   "cell_type": "code",
   "execution_count": 38,
   "id": "82316ca9-6532-4497-ae87-b194245adaf2",
   "metadata": {},
   "outputs": [],
   "source": [
    "class MyClass():\n",
    "    name = 'kim'\n",
    "\n",
    "    def hello(self):\n",
    "        return 'hi'"
   ]
  },
  {
   "cell_type": "code",
   "execution_count": 39,
   "id": "cf6fff89-442f-4150-9644-e4db9a4d50e2",
   "metadata": {},
   "outputs": [
    {
     "name": "stdout",
     "output_type": "stream",
     "text": [
      "<__main__.MyClass object at 0x0000020FFF5F5010>\n",
      "kim\n",
      "hi\n"
     ]
    }
   ],
   "source": [
    "m = MyClass()\n",
    "print(m)\n",
    "print(m.name)\n",
    "print(m.hello())"
   ]
  },
  {
   "cell_type": "code",
   "execution_count": 40,
   "id": "23388a2d-475c-4e0b-9dc9-a185b5a9a069",
   "metadata": {},
   "outputs": [
    {
     "name": "stdout",
     "output_type": "stream",
     "text": [
      "<__main__.MyClass object at 0x0000020FFF49B9D0>\n",
      "kim\n",
      "hi\n"
     ]
    }
   ],
   "source": [
    "m2 = MyClass()\n",
    "print(m2)\n",
    "print(m2.name)\n",
    "print(m2.hello())"
   ]
  },
  {
   "cell_type": "code",
   "execution_count": 41,
   "id": "472e4ae0-a8e5-47be-bd29-73304a50113f",
   "metadata": {},
   "outputs": [
    {
     "name": "stdout",
     "output_type": "stream",
     "text": [
      "kim\n",
      "park\n"
     ]
    }
   ],
   "source": [
    "m2.name = 'park'\n",
    "print(m.name)\n",
    "print(m2.name)"
   ]
  },
  {
   "cell_type": "code",
   "execution_count": 51,
   "id": "17f70b9d-24cd-4a10-84f4-da4ba3c4072c",
   "metadata": {},
   "outputs": [
    {
     "name": "stdout",
     "output_type": "stream",
     "text": [
      "010-1234-1234 010-3343-9312\n"
     ]
    }
   ],
   "source": [
    "class Phone():\n",
    "    power = False\n",
    "    number = '010-3343-9312'\n",
    "    book = {}\n",
    "    model = ''\n",
    "\n",
    "    def on(self):\n",
    "        if self.power == False:\n",
    "            self.power = True\n",
    "    def off(self):\n",
    "        if self.power == True:\n",
    "            self.power = False\n",
    "    def call(self, target):\n",
    "        if self.power == True:\n",
    "            print(f'{self.number}가 {target.number}에게 전화 가는중')\n",
    "        else:\n",
    "            print('핸드폰이 꺼져있다')\n",
    "p1 = Phone()\n",
    "p2 = Phone()\n",
    "p1.number = '010-1234-1234'\n",
    "print(p1.number, p2.number)"
   ]
  },
  {
   "cell_type": "code",
   "execution_count": 52,
   "id": "988f7551-d468-44a2-8c7d-04ba1b55fd25",
   "metadata": {},
   "outputs": [
    {
     "name": "stdout",
     "output_type": "stream",
     "text": [
      "False\n",
      "True\n"
     ]
    }
   ],
   "source": [
    "print(p1.power)\n",
    "p1.on()\n",
    "print(p1.power)"
   ]
  },
  {
   "cell_type": "code",
   "execution_count": 53,
   "id": "9f79fd50-3eb2-40e4-a648-4511c559f7ef",
   "metadata": {},
   "outputs": [
    {
     "name": "stdout",
     "output_type": "stream",
     "text": [
      "010-1234-1234가 010-3343-9312에게 전화 가는중\n"
     ]
    }
   ],
   "source": [
    "p1.call(p2)"
   ]
  },
  {
   "cell_type": "code",
   "execution_count": 54,
   "id": "d9293310-e955-4fc7-b586-80ba5e7eadca",
   "metadata": {},
   "outputs": [
    {
     "name": "stdout",
     "output_type": "stream",
     "text": [
      "핸드폰이 꺼져있다\n"
     ]
    }
   ],
   "source": [
    "p2.call(p1)"
   ]
  },
  {
   "cell_type": "code",
   "execution_count": 55,
   "id": "5af4f012-300b-47a6-95ec-0e32cf5efc92",
   "metadata": {},
   "outputs": [
    {
     "name": "stdout",
     "output_type": "stream",
     "text": [
      "안녕하세요. 나는 hong입니다\n",
      "안녕하세요. 나는 kim입니다\n",
      "안녕하세요. 나는 hong입니다\n",
      "안녕하세요. 나는 hong입니다\n"
     ]
    }
   ],
   "source": [
    "class Person():\n",
    "    name = ''\n",
    "    gender = ''\n",
    "    age = 0\n",
    "    height = 0\n",
    "\n",
    "    def greeting(self):\n",
    "        print(f'안녕하세요. 나는 {self.name}입니다')\n",
    "\n",
    "    def grow(self):\n",
    "        self.age += 1\n",
    "p1 = Person()\n",
    "p2 = Person()\n",
    "\n",
    "p1.name = 'hong'\n",
    "p2.name = 'kim'\n",
    "\n",
    "p1.gender = 'F'\n",
    "p2.gender = 'M'\n",
    "\n",
    "p1.age = 20\n",
    "p2.age = 30\n",
    "\n",
    "p1.height = 170\n",
    "p2.height = 180\n",
    "\n",
    "p1.greeting()\n",
    "p2.greeting()\n",
    "\n",
    "Person.greeting(p1)\n",
    "p1.greeting()"
   ]
  },
  {
   "cell_type": "code",
   "execution_count": null,
   "id": "fd2e109b-040b-47e6-96c7-f1a8dd7aa23a",
   "metadata": {},
   "outputs": [],
   "source": []
  },
  {
   "cell_type": "markdown",
   "id": "8d28ba39-3962-4553-a5ba-b63b7e291d75",
   "metadata": {},
   "source": [
    "## 생성자, 소멸자\n",
    "```python\n",
    "class MyClass():\n",
    "    name = ''\n",
    "    def __init__(self, name):\n",
    "        self.name = name\n",
    "        print('생성')\n",
    "    def __del__(self):\n",
    "        print('제거')\n",
    "        \n",
    "```"
   ]
  },
  {
   "cell_type": "code",
   "execution_count": 46,
   "id": "d23976ab-9752-489c-a4d0-6462613d0e98",
   "metadata": {},
   "outputs": [
    {
     "name": "stdout",
     "output_type": "stream",
     "text": [
      "생성\n",
      "생성\n",
      "제거\n"
     ]
    }
   ],
   "source": [
    "class Person():\n",
    "    name = ''\n",
    "    def __init__(self, name):\n",
    "        self.name = name\n",
    "        print('생성')\n",
    "    def __del__(self):\n",
    "        print('제거')\n",
    "p2 = Person('hwang')\n",
    "p2 = Person('park')"
   ]
  },
  {
   "cell_type": "code",
   "execution_count": 47,
   "id": "256ee85a-0514-4377-ab0a-2a0dd6bf6e9a",
   "metadata": {},
   "outputs": [
    {
     "name": "stdout",
     "output_type": "stream",
     "text": [
      "반지름: 1, 중심점: 0, 0\n",
      "3.14\n",
      "6.28\n",
      "반지름: 1, 중심점: 100, 100\n",
      "반지름: 3, 중심점: 1, 1\n",
      "28.26\n",
      "18.84\n",
      "반지름: 3, 중심점: 100, 100\n"
     ]
    }
   ],
   "source": [
    "class Circle():\n",
    "    pi = 3.14\n",
    "    def __init__(self, r,x = 0,y = 0):\n",
    "        self.r = r\n",
    "        self.x = x\n",
    "        self.y = y\n",
    "        \n",
    "    def info(self):\n",
    "        print(f'반지름: {self.r}, 중심점: {self.x}, {self.y}')\n",
    "    def area(self):\n",
    "        return self.pi * self.r ** 2\n",
    "    def round(self):\n",
    "        return self.pi * self.r * 2\n",
    "    def move(self, a, b):\n",
    "        self.x = a\n",
    "        self.y = b\n",
    "        \n",
    "c1 = Circle(1)\n",
    "c1.info()\n",
    "print(c1.area())\n",
    "print(c1.round())\n",
    "c1.move(100, 100)\n",
    "c1.info()\n",
    "\n",
    "c2 = Circle(3,1,1)\n",
    "c2.info()\n",
    "print(c2.area())\n",
    "print(c2.round())\n",
    "c2.move(100, 100)\n",
    "c2.info()"
   ]
  },
  {
   "cell_type": "code",
   "execution_count": 48,
   "id": "7da4cb18-c2cd-4b7b-80bb-140bfcb410aa",
   "metadata": {},
   "outputs": [
    {
     "name": "stdout",
     "output_type": "stream",
     "text": [
      "1, 1\n",
      "제거\n",
      "2, 3\n",
      "1, 1\n",
      "2, 3\n"
     ]
    }
   ],
   "source": [
    "class Point():\n",
    "    def __init__(self,x = 0,y = 0):\n",
    "        self.x = x\n",
    "        self.y = y\n",
    "    def info(self):\n",
    "        print(f'{self.x}, {self.y}')\n",
    "p1 = Point(1, 1)\n",
    "p1.info()\n",
    "p2 = Point(2, 3)\n",
    "p2.info()\n",
    "\n",
    "class Circle():\n",
    "    pi = 3.14\n",
    "    def __init__(self, r, point):\n",
    "        self.r = r\n",
    "        self.point = point\n",
    "    def info(self):\n",
    "        print(f'{self.point.x}, {self.point.y}')\n",
    "c1 = Circle(3, p1)\n",
    "c1.info()\n",
    "c2 = Circle(4, p2)\n",
    "c2.info()"
   ]
  },
  {
   "cell_type": "markdown",
   "id": "1f35f12f-e753-42c7-9687-359cf17e35af",
   "metadata": {},
   "source": [
    "## 클래스 변수 / 인스턴스 변수\n",
    "- 클래스 변수 : 클래스 선언 블록 최상단 위치\n",
    "- 인스턴스 변수 : 인스턴스 내부에서 생성한 변수\n",
    "\n",
    "```python\n",
    "class MyClass():\n",
    "    class_variable = '클래스 변수'\n",
    "    def __init__(self):\n",
    "        self.instance_variable = '인스턴스 변수'\n",
    "```"
   ]
  },
  {
   "cell_type": "code",
   "execution_count": 63,
   "id": "27d06139-e90d-4f1b-a113-e8a22e621d99",
   "metadata": {},
   "outputs": [
    {
     "name": "stdout",
     "output_type": "stream",
     "text": [
      "hong\n",
      "10\n"
     ]
    }
   ],
   "source": [
    "class Person():\n",
    "    name = 'hwang'\n",
    "    age = 10\n",
    "    def __init__(self, name):\n",
    "        self.name = name\n",
    "p1 = Person('hong')\n",
    "print(p1.name)\n",
    "print(p1. age)"
   ]
  },
  {
   "cell_type": "code",
   "execution_count": 64,
   "id": "969c9045-8efd-4f64-ae17-6f0ffb3877ee",
   "metadata": {},
   "outputs": [
    {
     "ename": "NameError",
     "evalue": "name 'd' is not defined",
     "output_type": "error",
     "traceback": [
      "\u001b[1;31m---------------------------------------------------------------------------\u001b[0m",
      "\u001b[1;31mNameError\u001b[0m                                 Traceback (most recent call last)",
      "Cell \u001b[1;32mIn[64], line 1\u001b[0m\n\u001b[1;32m----> 1\u001b[0m \u001b[43md\u001b[49m\n",
      "\u001b[1;31mNameError\u001b[0m: name 'd' is not defined"
     ]
    }
   ],
   "source": []
  },
  {
   "cell_type": "markdown",
   "id": "da959a17-e18a-46e6-be37-d1f03f1d68a1",
   "metadata": {},
   "source": [
    "## 클래스 메소드 / 인스턴스 메소드 / 스태틱메소드\n",
    "class MyClass():\n",
    "```python\n",
    "def instance_method(self):\n",
    "    pass\n",
    "\n",
    "@classmethod\n",
    "def class_method(cls):\n",
    "    pass\n",
    "\n",
    "@staticmethod\n",
    "def static_method():\n",
    "    pass\n",
    "```"
   ]
  },
  {
   "cell_type": "code",
   "execution_count": 85,
   "id": "99eb5a07-b671-417f-a0c5-31d0ac4452ec",
   "metadata": {},
   "outputs": [],
   "source": [
    "class MyClass():\n",
    "    def instance_method(self):\n",
    "        print(self)\n",
    "\n",
    "    @classmethod\n",
    "    def class_method(cls):\n",
    "        print(cls)\n",
    "\n",
    "    @staticmethod\n",
    "    def static_method():\n",
    "        print('static')"
   ]
  },
  {
   "cell_type": "code",
   "execution_count": 87,
   "id": "04e603cf-1535-44fc-bb69-7cb8e3359cd1",
   "metadata": {},
   "outputs": [
    {
     "name": "stdout",
     "output_type": "stream",
     "text": [
      "<__main__.MyClass object at 0x0000020FFF49B750>\n",
      "<__main__.MyClass object at 0x0000020FFF49B750>\n"
     ]
    }
   ],
   "source": [
    "mc = MyClass()\n",
    "mc.instance_method()\n",
    "print(mc)"
   ]
  },
  {
   "cell_type": "code",
   "execution_count": 88,
   "id": "734ae9b7-b796-4bc1-b53d-2db4f1377f18",
   "metadata": {},
   "outputs": [
    {
     "name": "stdout",
     "output_type": "stream",
     "text": [
      "<class '__main__.MyClass'>\n",
      "<class '__main__.MyClass'>\n"
     ]
    }
   ],
   "source": [
    "mc.class_method()\n",
    "print(MyClass)"
   ]
  },
  {
   "cell_type": "code",
   "execution_count": 89,
   "id": "5dc87e1b-340a-44e6-a5ff-416d06efb8d3",
   "metadata": {},
   "outputs": [
    {
     "name": "stdout",
     "output_type": "stream",
     "text": [
      "static\n"
     ]
    }
   ],
   "source": [
    "mc.static_method()"
   ]
  },
  {
   "cell_type": "code",
   "execution_count": 62,
   "id": "67f0e88f-db02-4ac0-9a87-dfa10644dab0",
   "metadata": {},
   "outputs": [
    {
     "name": "stdout",
     "output_type": "stream",
     "text": [
      "현재 강아지는 3마리입니다.\n",
      "멍! 저는 초코입니다.\n",
      "멍! 저는 구름입니다.\n",
      "멍! 저는 인절미입니다.\n",
      "왈왈\n"
     ]
    }
   ],
   "source": [
    "class Puppy():\n",
    "    num_of_puppy = 0\n",
    "    \n",
    "    def __init__(self, name):\n",
    "        self.name = name\n",
    "        Puppy.num_of_puppy += 1\n",
    "    @classmethod\n",
    "    def info(cls):\n",
    "        print(f'현재 강아지는 {cls.num_of_puppy}마리입니다.')\n",
    "    \n",
    "    def bark(self):\n",
    "        print(f'멍! 저는 {self.name}입니다.')\n",
    "\n",
    "    @staticmethod\n",
    "    def bark2():\n",
    "        print('왈왈')\n",
    "\n",
    "p1 = Puppy('초코')\n",
    "p2 = Puppy('구름')\n",
    "p3 = Puppy('인절미')\n",
    "\n",
    "p1.info()\n",
    "\n",
    "p1.bark()\n",
    "p2.bark()\n",
    "p3.bark()\n",
    "\n",
    "p1.bark2()"
   ]
  },
  {
   "cell_type": "markdown",
   "id": "b117445a-8d83-4926-a6b8-13b01565b6b8",
   "metadata": {},
   "source": [
    "## 상속"
   ]
  },
  {
   "cell_type": "code",
   "execution_count": 90,
   "id": "c423db04-b9d9-4b94-bee1-173540bb760a",
   "metadata": {},
   "outputs": [
    {
     "name": "stdout",
     "output_type": "stream",
     "text": [
      "안녕. hong입니다.\n",
      "안녕. hwang입니다.\n"
     ]
    }
   ],
   "source": [
    "class Person():\n",
    "    ident = ''\n",
    "\n",
    "    def __init__(self, name):\n",
    "        self.name = name\n",
    "    def greeting(self):\n",
    "        print(f'안녕. {self.name}입니다.')\n",
    "p1 = Person('hong')\n",
    "p2 = Person('hwang')\n",
    "\n",
    "p1.greeting()\n",
    "p2.greeting()"
   ]
  },
  {
   "cell_type": "code",
   "execution_count": 91,
   "id": "76203fcd-7dd5-4a1b-bf59-c5d4eb42ef4d",
   "metadata": {},
   "outputs": [],
   "source": [
    "p1.ident = '999999-1234567'\n",
    "p2.ident= '123456-1234567'"
   ]
  },
  {
   "cell_type": "code",
   "execution_count": 94,
   "id": "84b9c9e5-2b7b-4916-a6bb-fa0f8cd167bb",
   "metadata": {},
   "outputs": [
    {
     "name": "stdout",
     "output_type": "stream",
     "text": [
      "충성! 굳건이입니다.\n",
      "21-71101524\n"
     ]
    }
   ],
   "source": [
    "class Soldier(Person):\n",
    "    def greeting(self):\n",
    "        print(f'충성! {self.name}입니다.')\n",
    "        \n",
    "s1 = Soldier('굳건이')\n",
    "s1.greeting()\n",
    "s1.ident = '21-71101524'\n",
    "print(s1.ident)"
   ]
  },
  {
   "cell_type": "code",
   "execution_count": 84,
   "id": "29007a5f-5b8e-4c97-b30c-13af6f1fe7d8",
   "metadata": {},
   "outputs": [
    {
     "name": "stdout",
     "output_type": "stream",
     "text": [
      "q\n"
     ]
    }
   ],
   "source": [
    "class Person():\n",
    "    def __init__(self, name, age, email, phone):\n",
    "        self.name = name\n",
    "        self.age = age\n",
    "        self.email = email\n",
    "        self.phone = phone\n",
    "\n",
    "class Student(Person):\n",
    "    def __init__(self, name, age, email, phone, student_id):\n",
    "        super().__init__(name, age, email, phone)\n",
    "        self.student_id = student_id\n"
   ]
  },
  {
   "cell_type": "markdown",
   "id": "4f1164a5-acc6-477f-8e07-b14df257a12a",
   "metadata": {},
   "source": [
    "## 다중상속"
   ]
  },
  {
   "cell_type": "code",
   "execution_count": null,
   "id": "acb1f57f-9c37-423f-bc0b-ddf653bdccec",
   "metadata": {},
   "outputs": [],
   "source": []
  },
  {
   "cell_type": "code",
   "execution_count": null,
   "id": "c76dbc21-829e-4391-858e-5c830bd4ecd3",
   "metadata": {},
   "outputs": [],
   "source": []
  }
 ],
 "metadata": {
  "kernelspec": {
   "display_name": "Python 3 (ipykernel)",
   "language": "python",
   "name": "python3"
  },
  "language_info": {
   "codemirror_mode": {
    "name": "ipython",
    "version": 3
   },
   "file_extension": ".py",
   "mimetype": "text/x-python",
   "name": "python",
   "nbconvert_exporter": "python",
   "pygments_lexer": "ipython3",
   "version": "3.13.2"
  }
 },
 "nbformat": 4,
 "nbformat_minor": 5
}
