{
 "cells": [
  {
   "cell_type": "markdown",
   "id": "ae796cc6-864d-4c43-bba1-ea6fecae3dfe",
   "metadata": {},
   "source": [
    "# 모듈"
   ]
  },
  {
   "cell_type": "code",
   "execution_count": null,
   "id": "c89e9476-9170-47e1-8350-c84c49c4e792",
   "metadata": {},
   "outputs": [],
   "source": [
    "import fact"
   ]
  },
  {
   "cell_type": "code",
   "execution_count": null,
   "id": "d992a046-120d-4ea0-a546-1fb54dab3410",
   "metadata": {},
   "outputs": [],
   "source": [
    "print(fact)"
   ]
  },
  {
   "cell_type": "code",
   "execution_count": null,
   "id": "7087c719-e581-459c-84ba-86073473d9ec",
   "metadata": {},
   "outputs": [],
   "source": [
    "fact.factorial(5)"
   ]
  },
  {
   "cell_type": "code",
   "execution_count": null,
   "id": "7f01f630-e985-42fb-9efe-9277a6c7b2dc",
   "metadata": {},
   "outputs": [],
   "source": [
    "fact.my_max(1, 2)"
   ]
  },
  {
   "cell_type": "markdown",
   "id": "c254d4f2-10ae-4bd4-bec2-ab5136e200b4",
   "metadata": {},
   "source": [
    "# 패키지\n",
    "    myPackage/\n",
    "        __init__.py\n",
    "        math/\n",
    "            __init__.py\n",
    "- 패키지 안에 ```__init__.py``` 파일이 있어야 패키지로 인식"
   ]
  },
  {
   "cell_type": "code",
   "execution_count": null,
   "id": "6c27053b-237d-4bd1-a982-e2433d579e99",
   "metadata": {},
   "outputs": [],
   "source": [
    "import myPackage"
   ]
  },
  {
   "cell_type": "code",
   "execution_count": null,
   "id": "aa646240-edb8-481e-9831-48469bf40449",
   "metadata": {},
   "outputs": [],
   "source": [
    "print(myPackage)"
   ]
  },
  {
   "cell_type": "code",
   "execution_count": null,
   "id": "1637dcff-bc9d-4f85-b321-16b91e67ef85",
   "metadata": {},
   "outputs": [],
   "source": [
    "myPackage.math.fomula.my_max(2, 3)"
   ]
  },
  {
   "cell_type": "code",
   "execution_count": null,
   "id": "2258ef6c-fdd2-4552-8e55-8977a009149b",
   "metadata": {},
   "outputs": [],
   "source": [
    "from myPackage.math.fomula import my_max\n",
    "my_max(2, 3)"
   ]
  },
  {
   "cell_type": "code",
   "execution_count": null,
   "id": "aa4de932-8f8a-4bd9-9dde-ad455b7f2e21",
   "metadata": {},
   "outputs": [],
   "source": [
    "from myPackage.math import fomula\n",
    "fomula.my_max(2, 3)"
   ]
  },
  {
   "cell_type": "code",
   "execution_count": null,
   "id": "a951bc13-6880-41e5-91a9-08d6eee9704e",
   "metadata": {},
   "outputs": [],
   "source": [
    "from myPackage.math.fomula import *\n",
    "print(pi)"
   ]
  },
  {
   "cell_type": "code",
   "execution_count": null,
   "id": "5b934c5b-d07e-431b-8cf8-97d2df002bac",
   "metadata": {},
   "outputs": [],
   "source": [
    "fomula = 1234\n",
    "from myPackage.math import fomula as f\n",
    "print(fomula)\n",
    "f.my_max(2, 3)"
   ]
  },
  {
   "cell_type": "markdown",
   "id": "52809b74-b214-4af8-be2f-e559797e6df0",
   "metadata": {},
   "source": [
    "# 파이썬 내장 패키지"
   ]
  },
  {
   "cell_type": "markdown",
   "id": "2d3c11a5-753e-4eb7-8c1d-b519d6d47e9d",
   "metadata": {},
   "source": [
    "## math"
   ]
  },
  {
   "cell_type": "code",
   "execution_count": null,
   "id": "80fd06e3-986b-4422-9a9f-61e0b1e6d663",
   "metadata": {},
   "outputs": [],
   "source": [
    "import math\n",
    "\n",
    "print(math.pi)\n",
    "print(math.e)\n",
    "print(math.ceil(math.e))\n",
    "print(math.floor(math.e))\n",
    "print(math.sqrt(9))\n",
    "print(math.factorial(10))"
   ]
  },
  {
   "cell_type": "code",
   "execution_count": null,
   "id": "f006fdef-c768-4adc-aace-b81bdc4ea85b",
   "metadata": {},
   "outputs": [],
   "source": [
    "from math import sqrt, factorial\n",
    "\n",
    "print(sqrt(9))\n",
    "print(factorial(10))"
   ]
  },
  {
   "cell_type": "markdown",
   "id": "8d7d5f1d-56d1-4707-b772-2cffbc14d34f",
   "metadata": {},
   "source": [
    "## random"
   ]
  },
  {
   "cell_type": "code",
   "execution_count": null,
   "id": "ecba6752-468c-46ce-893b-5b07bdc51c6a",
   "metadata": {},
   "outputs": [],
   "source": [
    "import random\n",
    "\n",
    "print(random.random())\n",
    "print(random.randint(1, 10))"
   ]
  },
  {
   "cell_type": "code",
   "execution_count": null,
   "id": "00147729-b153-47a4-b415-eb102634583e",
   "metadata": {},
   "outputs": [],
   "source": [
    "random.seed(123)\n",
    "random.random()"
   ]
  },
  {
   "cell_type": "code",
   "execution_count": null,
   "id": "87d3df44-dac8-4062-a026-a0fbfe7feacd",
   "metadata": {},
   "outputs": [],
   "source": [
    "numbers = [1,2,3,4,5,6]\n",
    "random.shuffle(numbers)\n",
    "print(numbers)\n",
    "print(random.choice(numbers))"
   ]
  },
  {
   "cell_type": "code",
   "execution_count": null,
   "id": "8ba46f10-8c38-4260-888e-32c0fd38ee93",
   "metadata": {},
   "outputs": [],
   "source": [
    "print(random.sample(numbers, 2))"
   ]
  },
  {
   "cell_type": "markdown",
   "id": "cca817a1-cf15-4c51-a1ed-2600cf2ebf1a",
   "metadata": {},
   "source": [
    "## datetime"
   ]
  },
  {
   "cell_type": "code",
   "execution_count": null,
   "id": "3a2d4816-53a6-46c5-b2b5-fc18d584abc9",
   "metadata": {},
   "outputs": [],
   "source": [
    "from datetime import datetime\n",
    "print(datetime.now())\n",
    "print(datetime.today())\n",
    "print(datetime.utcnow())\n",
    "# print(datetime.now(datetime.timezone.utc)"
   ]
  },
  {
   "cell_type": "code",
   "execution_count": null,
   "id": "98518cfb-5992-4a01-9c49-96c99aef04e6",
   "metadata": {},
   "outputs": [],
   "source": [
    "now = datetime.now()"
   ]
  },
  {
   "cell_type": "code",
   "execution_count": null,
   "id": "f063e9e3-ac59-431f-86b7-11004ed1e731",
   "metadata": {},
   "outputs": [],
   "source": [
    "print(now.year)\n",
    "print(now.month)\n",
    "print(now.day)\n",
    "print(now.weekday())\n",
    "print(now)\n",
    "print(now.strftime('%y년 %b월 %d일'))"
   ]
  },
  {
   "cell_type": "code",
   "execution_count": null,
   "id": "c986fcc7-8c80-43fa-966d-c7c7a8f3f85f",
   "metadata": {},
   "outputs": [],
   "source": [
    "x_mas = datetime(2025, 12, 25)\n",
    "print(x_mas)"
   ]
  },
  {
   "cell_type": "code",
   "execution_count": null,
   "id": "5e4ccc2a-b219-438c-9629-2affc270e437",
   "metadata": {},
   "outputs": [],
   "source": [
    "from datetime import timedelta\n",
    "future = timedelta(days = 3)\n",
    "print(x_mas + future)"
   ]
  },
  {
   "cell_type": "code",
   "execution_count": null,
   "id": "4125012c-2052-4062-b088-30bf31690fbc",
   "metadata": {},
   "outputs": [],
   "source": [
    "x_mas - now"
   ]
  },
  {
   "cell_type": "markdown",
   "id": "94e64909-66a0-442f-b42f-78eba4f5eb1f",
   "metadata": {},
   "source": [
    "## 외부 라이브러리"
   ]
  },
  {
   "cell_type": "markdown",
   "id": "9a4ce60c-2f90-4420-affa-88c63c6c7765",
   "metadata": {},
   "source": [
    "### requests"
   ]
  },
  {
   "cell_type": "code",
   "execution_count": null,
   "id": "3b30efa6-43ed-40f9-8773-0c264b17f2a1",
   "metadata": {},
   "outputs": [],
   "source": [
    "import requests"
   ]
  },
  {
   "cell_type": "code",
   "execution_count": null,
   "id": "f9af2681-6a26-4f05-9b32-376a55ce970e",
   "metadata": {},
   "outputs": [],
   "source": [
    "r = requests.get('https://api.github.com/events')"
   ]
  },
  {
   "cell_type": "code",
   "execution_count": null,
   "id": "1248cff1-4641-4343-b402-eea5fea7add6",
   "metadata": {
    "scrolled": true
   },
   "outputs": [],
   "source": [
    "print(r)\n",
    "print(r.text)"
   ]
  },
  {
   "cell_type": "code",
   "execution_count": null,
   "id": "22528aec-dd8f-492e-bf1b-2f7b749513fe",
   "metadata": {
    "scrolled": true
   },
   "outputs": [],
   "source": [
    "r = requests.get('https://naver.com')\n",
    "print(r.text)"
   ]
  },
  {
   "cell_type": "code",
   "execution_count": null,
   "id": "378e70fd-2ef2-4a68-a477-b99f18ab15e7",
   "metadata": {},
   "outputs": [],
   "source": [
    "payload = {'key1': 'value1', 'key2': 'value2'}\n",
    "r = requests.get('https://httpbin.org/get', params=payload)\n",
    "print(r.text)\n",
    "print(r.url)"
   ]
  },
  {
   "cell_type": "code",
   "execution_count": null,
   "id": "34913eeb-c89a-447a-bf65-6e08c4437579",
   "metadata": {},
   "outputs": [],
   "source": [
    "payload = {'query': '파이썬'}\n",
    "r = requests.get('https://search.naver.com/search.naver', params = payload)\n",
    "print(r.url)"
   ]
  },
  {
   "cell_type": "code",
   "execution_count": null,
   "id": "0289811a-9ed4-4884-baca-b793fb40db1f",
   "metadata": {},
   "outputs": [],
   "source": [
    "r = requests.get('https://api.github.com/events')\n",
    "print(type(r.json()))\n",
    "print(r.json())"
   ]
  },
  {
   "cell_type": "code",
   "execution_count": null,
   "id": "f2b7e3f2-c450-4abb-a318-e557631046ea",
   "metadata": {},
   "outputs": [],
   "source": [
    "lotto_url = 'https://www.dhlottery.co.kr/common.do'\n",
    "\n",
    "payload = {\n",
    "    'method': 'getLottoNumber',\n",
    "    'drwNo': 1157\n",
    "}\n",
    "r = requests.get(lotto_url, params = payload)\n",
    "print(r.url)\n",
    "print(r.text)\n",
    "lotto_dict = r.json()\n",
    "print(lotto_dict['drwNoDate'])\n",
    "\n",
    "#print(lotto_dict['drwtNo1'])\n",
    "#print(lotto_dict['drwtNo2'])\n",
    "#print(lotto_dict['drwtNo3'])\n",
    "#print(lotto_dict['drwtNo4'])\n",
    "#print(lotto_dict['drwtNo5'])\n",
    "#print(lotto_dict['drwtNo6'])\n",
    "for i in range(1, 7):\n",
    "    print(lotto_dict[f'drwtNo{i}'])"
   ]
  },
  {
   "cell_type": "markdown",
   "id": "ae3f7bd0-7db4-4645-958c-b89669f8ebf7",
   "metadata": {},
   "source": [
    "### 페어프로그래밍 (로또)\n",
    "1. 로또 번호 생성\n",
    "2. 최신화차 당첨번호 수집\n",
    "3. 등수 확인하기"
   ]
  },
  {
   "cell_type": "code",
   "execution_count": 67,
   "id": "433e4b16-6e17-43b6-83b8-51fcef7f3d9d",
   "metadata": {},
   "outputs": [
    {
     "name": "stdout",
     "output_type": "stream",
     "text": [
      "{1: [1, 9, 10, 11, 24, 40], 2: [3, 9, 13, 18, 19, 22], 3: [17, 25, 29, 32, 38, 42], 4: [4, 15, 18, 34, 36, 37], 5: [6, 21, 24, 29, 33, 44]}\n"
     ]
    }
   ],
   "source": [
    "import random\n",
    "\n",
    "my_numbers = {}\n",
    "\n",
    "for i in range(1, 6):\n",
    "    random_numbers = random.sample(range(1, 46), 6)\n",
    "    random_numbers.sort()\n",
    "    my_numbers[i] = random_numbers\n",
    "print(my_numbers)"
   ]
  },
  {
   "cell_type": "code",
   "execution_count": 70,
   "id": "4f1578a7-8563-45d9-867c-42036dc617e0",
   "metadata": {},
   "outputs": [
    {
     "name": "stdout",
     "output_type": "stream",
     "text": [
      "[39, 28, 38, 9, 27, 3]\n"
     ]
    }
   ],
   "source": [
    "import requests\n",
    "\n",
    "LOTTO_URL = 'https://www.dhlottery.co.kr/common.do'\n",
    "payload = {\n",
    "    'method': 'getLottoNumber',\n",
    "    'drwNo': 1159,\n",
    "}\n",
    "\n",
    "res = requests.get(LOTTO_URL, params=payload)\n",
    "lotto_dict = res.json()\n",
    "\n",
    "lucky_numbers = []\n",
    "bonus_number = lotto_dict['bnusNo']\n",
    "\n",
    "for k, v in lotto_dict.items():\n",
    "    if 'drwtNo' in k:\n",
    "        lucky_numbers.append(v)\n",
    "\n",
    "print(lucky_numbers)\n"
   ]
  },
  {
   "cell_type": "code",
   "execution_count": 69,
   "id": "1fd431f6-63c8-4025-956c-371877d617a2",
   "metadata": {},
   "outputs": [
    {
     "name": "stdout",
     "output_type": "stream",
     "text": [
      "꽝\n",
      "꽝\n",
      "꽝\n",
      "꽝\n",
      "꽝\n"
     ]
    }
   ],
   "source": [
    "for my_number in my_numbers.values():\n",
    "    my_number_set = set(my_number)\n",
    "    lucky_numbers_set = set(lucky_numbers)\n",
    "\n",
    "    match_count = len(my_number_set & lucky_numbers_set)\n",
    "      \n",
    "    if match_count == 6:\n",
    "        print('1등!!!')\n",
    "    elif match_count == 5 and bonus_number in my_number:\n",
    "        print('2등!!!')\n",
    "    elif match_count == 5:\n",
    "        print('3등!')\n",
    "    elif match_count == 4:\n",
    "        print('4등')\n",
    "    elif match_count == 3:\n",
    "        print('5')\n",
    "    else:\n",
    "        print('꽝')"
   ]
  },
  {
   "cell_type": "code",
   "execution_count": 72,
   "id": "35fb59b4-9055-4963-855a-fcb3501ec945",
   "metadata": {},
   "outputs": [
    {
     "name": "stdout",
     "output_type": "stream",
     "text": [
      "[5, 12, 21, 23, 28, 33] 꽝\n",
      "[9, 17, 18, 20, 22, 45] 꽝\n",
      "[3, 22, 23, 25, 26, 41] 꽝\n",
      "[18, 21, 29, 31, 32, 34] 꽝\n",
      "[14, 25, 31, 38, 44, 45] 꽝\n"
     ]
    }
   ],
   "source": [
    "# 내 코드\n",
    "\n",
    "import random\n",
    "import requests\n",
    "    \n",
    "def w_rank(result):\n",
    "    rank = 0\n",
    "    answer = []\n",
    "    \n",
    "    for i in range(1, 7):\n",
    "        answer.append(lotto_dict[f'drwtNo{i}'])\n",
    "    \n",
    "    for num in result:\n",
    "        if num in answer:\n",
    "             rank += 1\n",
    "    return rank\n",
    "\n",
    "lotto_url = 'https://www.dhlottery.co.kr/common.do'\n",
    "payload = {\n",
    "    'method': 'getLottoNumber',\n",
    "    'drwNo': 1159\n",
    "}\n",
    "r = requests.get(lotto_url, params = payload)\n",
    "lotto_dict = r.json()\n",
    "\n",
    "bonus = lotto_dict['bnusNo']\n",
    "\n",
    "for i in range(5):\n",
    "    num_list = [i for i in range(1, 46)]\n",
    "    result = random.sample(num_list, 6)\n",
    "    result.sort()\n",
    "    rank = w_rank(result)\n",
    "    \n",
    "    print(result, end=' ')\n",
    "    if rank == 6:\n",
    "        print('1등')\n",
    "    elif rank == 5 and bonus in result:\n",
    "        print('2등')\n",
    "    elif rank == 5:\n",
    "        print('3등')\n",
    "    elif rank == 4:\n",
    "        print('4등')\n",
    "    elif rank == 3:\n",
    "        print('5등')\n",
    "    else:\n",
    "        print('꽝')"
   ]
  },
  {
   "cell_type": "code",
   "execution_count": null,
   "id": "3048feee-b0aa-4cc5-b9c4-da69e9d67efc",
   "metadata": {},
   "outputs": [],
   "source": []
  },
  {
   "cell_type": "code",
   "execution_count": null,
   "id": "a8540c56-dc31-43e6-9123-aa419f4a9617",
   "metadata": {},
   "outputs": [],
   "source": []
  }
 ],
 "metadata": {
  "kernelspec": {
   "display_name": "Python 3 (ipykernel)",
   "language": "python",
   "name": "python3"
  },
  "language_info": {
   "codemirror_mode": {
    "name": "ipython",
    "version": 3
   },
   "file_extension": ".py",
   "mimetype": "text/x-python",
   "name": "python",
   "nbconvert_exporter": "python",
   "pygments_lexer": "ipython3",
   "version": "3.13.2"
  }
 },
 "nbformat": 4,
 "nbformat_minor": 5
}
