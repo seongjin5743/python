{
 "cells": [
  {
   "cell_type": "markdown",
   "id": "2f72c8a9-58e7-45d1-8c34-d5f13fe9c4fd",
   "metadata": {},
   "source": [
    "# 제어문"
   ]
  },
  {
   "cell_type": "markdown",
   "id": "4c5974a7-3d12-4609-a33f-027b24635f0b",
   "metadata": {},
   "source": [
    "## 조건문 (if문)\n",
    "\n",
    "1. if문은 반드시 참/거짓을 판단 할 수 있는 `조건식`과 함께 사용한다.\n",
    "    - `if <조건식>:`\n",
    "2. `<조건식>` 참인경우 : `:` 이후의 문장을 실행\n",
    "3. `<조건식>` 거짓인경우 : `else:` 이후의 문장을 실행\n",
    "\n",
    "```\n",
    "if <조건식>:\n",
    "    if의 조건식이 참인 경우 실행하는 코드\n",
    "else:\n",
    "    if의 조건식이 거짓인 경우 실행하는 코드\n",
    "```"
   ]
  },
  {
   "cell_type": "code",
   "execution_count": null,
   "id": "f78995b3-d7c0-4828-ac73-fb56456b8292",
   "metadata": {},
   "outputs": [],
   "source": [
    "my_string = input()\n",
    "print(my_string)\n",
    "\n",
    "if my_string == '12/25':\n",
    "    print('merry christmas!')\n",
    "else:\n",
    "    print('No')"
   ]
  },
  {
   "cell_type": "code",
   "execution_count": null,
   "id": "6b88bcb0-98ce-47f3-8da2-2080f04147a6",
   "metadata": {},
   "outputs": [],
   "source": [
    "num = input('숫자를 입력해주세요')\n",
    "\n",
    "if int(num) % 2 == 1:\n",
    "    print('odd')\n",
    "else:\n",
    "    print('even')"
   ]
  },
  {
   "cell_type": "code",
   "execution_count": null,
   "id": "6b84ec62-8e98-425a-a1c1-69d914e84146",
   "metadata": {},
   "outputs": [],
   "source": [
    "num = int(input())\n",
    "\n",
    "if num % 2 == 1:\n",
    "    print('odd')\n",
    "else:\n",
    "    print('even')"
   ]
  },
  {
   "cell_type": "code",
   "execution_count": null,
   "id": "4bd806bc-0766-459d-b7ea-b433dc1c7d67",
   "metadata": {},
   "outputs": [],
   "source": [
    "num = int(input())\n",
    "\n",
    "if num % 2 == 0:\n",
    "    print('even')\n",
    "else:\n",
    "    print('odd')"
   ]
  },
  {
   "cell_type": "code",
   "execution_count": null,
   "id": "53ff980a-20a4-40b6-a44e-8530400c9171",
   "metadata": {},
   "outputs": [],
   "source": [
    "num = int(input())\n",
    "\n",
    "if num % 2:\n",
    "    print('odd')\n",
    "else:\n",
    "    print('even')\n",
    "    "
   ]
  },
  {
   "cell_type": "code",
   "execution_count": null,
   "id": "9e6567ca-8fd6-4519-aa51-1b5d63aeb221",
   "metadata": {},
   "outputs": [],
   "source": [
    "num = int(input('5의배수를 판단해드리겠습니다.'))\n",
    "\n",
    "if num % 5 == 0:\n",
    "    print('yes')\n",
    "else:\n",
    "    print('no')"
   ]
  },
  {
   "cell_type": "code",
   "execution_count": null,
   "id": "9029af59-7c85-4a8f-b6e4-5abb37bfa568",
   "metadata": {},
   "outputs": [],
   "source": [
    "num = int(input())\n",
    "\n",
    "if num % 5:\n",
    "    print('no')\n",
    "else:\n",
    "    print('yes')\n",
    "    "
   ]
  },
  {
   "cell_type": "markdown",
   "id": "4ef00171-8cab-4dfa-ac0f-650e31932e6b",
   "metadata": {},
   "source": [
    "### elif\n",
    "\n",
    "```\n",
    "if <조건식>:\n",
    "    if문이 참인경우\n",
    "elif <조건식>:\n",
    "    elif문이 참인경우\n",
    "else:\n",
    "    위의 모든 조건식이 거짓인 경우\n",
    "```"
   ]
  },
  {
   "cell_type": "code",
   "execution_count": null,
   "id": "d928ceef-c052-4a25-b7ab-d490ea93acc7",
   "metadata": {},
   "outputs": [],
   "source": [
    "score = int(input())\n",
    "\n",
    "if score >= 90:\n",
    "    print('A')\n",
    "    if score >= 95:\n",
    "        print('good!!!')\n",
    "elif score >= 80:\n",
    "    print('B')\n",
    "elif score >= 70:\n",
    "    print('C')\n",
    "else:\n",
    "    print('F')"
   ]
  },
  {
   "cell_type": "markdown",
   "id": "b94b47d4-1c9d-46f6-a230-9ba90dd54a63",
   "metadata": {},
   "source": [
    "### 조건표현식\n",
    "- `true_value if <조건식> else false_value`"
   ]
  },
  {
   "cell_type": "code",
   "execution_count": null,
   "id": "a0a50fa0-ac07-4e5e-a750-dcb803113ef9",
   "metadata": {},
   "outputs": [],
   "source": [
    "a = 0\n",
    "if False:\n",
    "    a = 100\n",
    "else:\n",
    "    a = -100\n",
    "print(a)"
   ]
  },
  {
   "cell_type": "code",
   "execution_count": null,
   "id": "e6e4c46f-ecc9-4623-981b-ca062f454c82",
   "metadata": {},
   "outputs": [],
   "source": [
    "a = 100 if False else -100\n",
    "print(a)"
   ]
  },
  {
   "cell_type": "code",
   "execution_count": null,
   "id": "f4a6c124-8db9-4787-acdf-ac0baf37fbc2",
   "metadata": {},
   "outputs": [],
   "source": [
    "num = int(input())\n",
    "\n",
    "if num >= 0:\n",
    "    result = num\n",
    "else:\n",
    "    result = 0\n",
    "print(result)\n",
    "    "
   ]
  },
  {
   "cell_type": "code",
   "execution_count": null,
   "id": "d6e32b60-064f-446a-8b35-324a0d88ac76",
   "metadata": {},
   "outputs": [],
   "source": [
    "num = int(input())\n",
    "\n",
    "result = num if num >= 0 else 0\n",
    "print(result)"
   ]
  },
  {
   "cell_type": "code",
   "execution_count": null,
   "id": "048adcc9-ca73-412d-a797-b1443c85bd55",
   "metadata": {},
   "outputs": [],
   "source": [
    "num = 9\n",
    "\n",
    "result = '홀수' if num % 2 else '짝수'\n",
    "print(result)"
   ]
  },
  {
   "cell_type": "code",
   "execution_count": null,
   "id": "a8926eb3-1701-410e-932d-6b45f1ee3671",
   "metadata": {},
   "outputs": [],
   "source": [
    "num = 10\n",
    "\n",
    "if num % 2:\n",
    "    result = '홀수'\n",
    "else:\n",
    "    result = '짝수'\n",
    "print(result)"
   ]
  },
  {
   "cell_type": "markdown",
   "id": "b2e75d4d-188d-4013-979b-58365082d298",
   "metadata": {},
   "source": [
    "## 반복문"
   ]
  },
  {
   "cell_type": "markdown",
   "id": "4016c3c2-a6bd-4c3b-bd6a-67c4d059e1c7",
   "metadata": {},
   "source": [
    "### while문\n",
    "```\n",
    "while <조건식>:\n",
    "    실행할 코드\n",
    "```"
   ]
  },
  {
   "cell_type": "code",
   "execution_count": null,
   "id": "efe52e06-32d6-4583-9d4b-0033a264b0fb",
   "metadata": {},
   "outputs": [],
   "source": [
    "a = 0\n",
    "\n",
    "while a < 5:\n",
    "    print(a)\n",
    "    # a += 1\n",
    "    a = a + 1"
   ]
  },
  {
   "cell_type": "markdown",
   "id": "175d1ce4-ebf6-406b-889f-11519043f784",
   "metadata": {},
   "source": [
    "### for 문\n",
    "- 정해진 범위 내의 반복\n",
    "```\n",
    "for var_name in sequence:\n",
    "    code\n",
    "```"
   ]
  },
  {
   "cell_type": "code",
   "execution_count": null,
   "id": "46ce66d4-4ab0-4cfe-a070-afa06c7eb75e",
   "metadata": {},
   "outputs": [],
   "source": [
    "numbers = [1, 2, 3, 4, 5]\n",
    "\n",
    "for number in numbers:\n",
    "    # number = 1\n",
    "    print(number)"
   ]
  },
  {
   "cell_type": "code",
   "execution_count": null,
   "id": "c6f572bd-69f4-4070-bb4c-81f1bc842cd1",
   "metadata": {},
   "outputs": [],
   "source": [
    "word = 'apple'\n",
    "\n",
    "for char in word:\n",
    "    print(char)"
   ]
  },
  {
   "cell_type": "code",
   "execution_count": null,
   "id": "723cb07b-11e7-47fd-8687-602bf3264f2a",
   "metadata": {},
   "outputs": [],
   "source": [
    "for i in range(5):\n",
    "    print(i)"
   ]
  },
  {
   "cell_type": "code",
   "execution_count": null,
   "id": "622664f3-46cb-4558-8db4-b1b623394c4a",
   "metadata": {},
   "outputs": [],
   "source": [
    "numbers = range(1, 51)\n",
    "\n",
    "for number in numbers:\n",
    "    if number % 5 == 0:\n",
    "        print(number)"
   ]
  },
  {
   "cell_type": "code",
   "execution_count": null,
   "id": "518fae38-16f8-4b1f-b558-1e03a8662290",
   "metadata": {},
   "outputs": [],
   "source": [
    "locations = ['서울', '대전', '부산']\n",
    "for location in enumerate(locations):\n",
    "    print(location)"
   ]
  },
  {
   "cell_type": "code",
   "execution_count": null,
   "id": "80456f4a-3014-4115-9c7e-dc8e645df85e",
   "metadata": {},
   "outputs": [],
   "source": [
    "locations = ['서울', '대전', '부산']\n",
    "for (index, location) in enumerate(locations):\n",
    "    print(index)\n",
    "    print(location)"
   ]
  },
  {
   "cell_type": "markdown",
   "id": "39a5b575-e7f9-4824-b841-bbbc417229f7",
   "metadata": {},
   "source": [
    "### dictionary 반복\n",
    "1. for key in dict:\n",
    "2. for key in dict.keys():\n",
    "3. for value in dict.values():\n",
    "4. for key, value in dict.items():"
   ]
  },
  {
   "cell_type": "code",
   "execution_count": null,
   "id": "5e3f2008-5afb-49a7-84a3-79ff82cd09f9",
   "metadata": {},
   "outputs": [],
   "source": [
    "info = {\n",
    "    'name': 'gildong',\n",
    "    'location': 'seoul',\n",
    "    'phone': '010-1234-1234',\n",
    "    'age': 20,\n",
    "}"
   ]
  },
  {
   "cell_type": "code",
   "execution_count": null,
   "id": "0f94cafc-b10c-4b60-aed2-f96ec8fb9687",
   "metadata": {},
   "outputs": [],
   "source": [
    "for k in info:\n",
    "    print(k)"
   ]
  },
  {
   "cell_type": "code",
   "execution_count": null,
   "id": "b35c6fbb-11c3-4879-84ae-51f8eaf25110",
   "metadata": {},
   "outputs": [],
   "source": [
    "for k in info.keys():\n",
    "    print(k, info[k])\n",
    "    # print()"
   ]
  },
  {
   "cell_type": "code",
   "execution_count": null,
   "id": "6efe9ce4-d287-4ed1-a3e8-1d75fff4bfb0",
   "metadata": {},
   "outputs": [],
   "source": [
    "for v in info.values():\n",
    "    print(v)"
   ]
  },
  {
   "cell_type": "code",
   "execution_count": null,
   "id": "e732e0ac-cedd-4762-bfbe-2a9268c36c57",
   "metadata": {},
   "outputs": [],
   "source": [
    "for k, v in info.items():\n",
    "    print(k, v)"
   ]
  },
  {
   "cell_type": "code",
   "execution_count": null,
   "id": "055a456d-8d0a-4a71-9d90-a7086b90195f",
   "metadata": {},
   "outputs": [],
   "source": [
    "blood_type = {\n",
    "    'A': 15,\n",
    "    'B': 8,\n",
    "    'O': 5,\n",
    "    'AB': 4,\n",
    "}"
   ]
  },
  {
   "cell_type": "code",
   "execution_count": null,
   "id": "7827b11b-dc46-4777-aa7a-dea02a14d33f",
   "metadata": {},
   "outputs": [],
   "source": [
    "# 혈액형은 ~가 있습니다.\n",
    "print('혈액형 종류는 다음과 같습니다.')\n",
    "\n",
    "for blood in blood_type:\n",
    "    print(blood)\n",
    "    "
   ]
  },
  {
   "cell_type": "code",
   "execution_count": null,
   "id": "517ebeb3-56d5-4308-80a0-6c9dba6bce9b",
   "metadata": {},
   "outputs": [],
   "source": [
    "# 총 학생은 몇명 입니다.\n",
    "result = 0\n",
    "for number in blood_type.values():\n",
    "    result = result + number\n",
    "print(result)"
   ]
  },
  {
   "cell_type": "code",
   "execution_count": null,
   "id": "54fc3562-bf28-4aa9-bb45-8b2e16a5a736",
   "metadata": {},
   "outputs": [],
   "source": [
    "for k, v in blood_type.items():\n",
    "    print(f'{k}형은 {v}명입니다.')"
   ]
  },
  {
   "cell_type": "markdown",
   "id": "6f7dcebf-b96c-4ec5-a27d-462e5066c553",
   "metadata": {},
   "source": [
    "### break\n",
    "반복문을 종료 시키는 키워드"
   ]
  },
  {
   "cell_type": "code",
   "execution_count": null,
   "id": "6383cb04-1313-4113-8757-9016e09957d5",
   "metadata": {},
   "outputs": [],
   "source": [
    "for i in range(100):\n",
    "    print('여기는 for문', i)\n",
    "    if i > 5:\n",
    "        print('여기는 브레이크')\n",
    "        break"
   ]
  },
  {
   "cell_type": "code",
   "execution_count": null,
   "id": "fd0383f7-8d88-4227-acbf-05b6c098f769",
   "metadata": {},
   "outputs": [],
   "source": [
    "while True:\n",
    "    rice = input()\n",
    "    if rice == '쌀':\n",
    "        print('잡았다!!!!')\n",
    "        break"
   ]
  },
  {
   "cell_type": "markdown",
   "id": "01d560c7-73c0-48e2-b8c7-81bb6a904afc",
   "metadata": {},
   "source": [
    "### continue\n",
    "\n",
    "continue 이후의 코드를 실행하지 않고 다음 반복을 진행"
   ]
  },
  {
   "cell_type": "code",
   "execution_count": null,
   "id": "c1eec54a-87b6-4b53-b0b9-3d5a7bcf2b25",
   "metadata": {},
   "outputs": [],
   "source": [
    "for i in range(20):\n",
    "    if i % 2 == 1:\n",
    "        continue\n",
    "    print(i)"
   ]
  },
  {
   "cell_type": "code",
   "execution_count": null,
   "id": "579739ce-3fdb-4d88-b423-ab551873bab0",
   "metadata": {},
   "outputs": [],
   "source": [
    "ages = [10, 20, 30, 23, 43, 9, 20]\n",
    "for age in ages:\n",
    "    if age < 20:\n",
    "        continue\n",
    "    print(f'{age}살을 성인입니다.')\n",
    "        "
   ]
  },
  {
   "cell_type": "markdown",
   "id": "fe9ec73d-95b7-41a6-b200-d295b6ad630b",
   "metadata": {},
   "source": [
    "### else\n",
    "else 문은 끝까지 반복된 경우 실행\n",
    "break를 만나지 않은경우 실행"
   ]
  },
  {
   "cell_type": "code",
   "execution_count": null,
   "id": "87334d33-a4d1-4e66-84be-d0ee320a48e1",
   "metadata": {},
   "outputs": [],
   "source": [
    "for i in range(10):\n",
    "    if i > 100:\n",
    "        break\n",
    "    print(i)\n",
    "else:\n",
    "    print('모두완료!!!')"
   ]
  },
  {
   "cell_type": "code",
   "execution_count": null,
   "id": "11c54034-6691-4850-a33d-33a5d2263675",
   "metadata": {},
   "outputs": [],
   "source": [
    "for i in range(5):\n",
    "    pass"
   ]
  },
  {
   "cell_type": "code",
   "execution_count": null,
   "id": "5666fe09-c0b5-4ff7-a608-9dbac607bad8",
   "metadata": {},
   "outputs": [],
   "source": []
  }
 ],
 "metadata": {
  "kernelspec": {
   "display_name": "Python 3 (ipykernel)",
   "language": "python",
   "name": "python3"
  },
  "language_info": {
   "codemirror_mode": {
    "name": "ipython",
    "version": 3
   },
   "file_extension": ".py",
   "mimetype": "text/x-python",
   "name": "python",
   "nbconvert_exporter": "python",
   "pygments_lexer": "ipython3",
   "version": "3.13.2"
  }
 },
 "nbformat": 4,
 "nbformat_minor": 5
}
