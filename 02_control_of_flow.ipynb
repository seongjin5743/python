{
 "cells": [
  {
   "cell_type": "markdown",
   "id": "64f43753-c4fe-4c49-8fcd-c801ad990cf6",
   "metadata": {},
   "source": [
    "# 제어문"
   ]
  },
  {
   "cell_type": "code",
   "execution_count": 7,
   "id": "956a6c44-396b-4fc3-8e20-a743b6c2dba2",
   "metadata": {},
   "outputs": [
    {
     "name": "stdin",
     "output_type": "stream",
     "text": [
      "is it chritmas? 1/1\n"
     ]
    },
    {
     "name": "stdout",
     "output_type": "stream",
     "text": [
      "1/1\n",
      "it is new year's day\n"
     ]
    }
   ],
   "source": [
    "## if 문\n",
    "a = input(\"is it chritmas?\")\n",
    "print(a)\n",
    "if a == '12/25':\n",
    "    print(\"YES\")\n",
    "elif a == '1/1':\n",
    "    print('it is new year\\'s day')\n",
    "else:\n",
    "    print(\"NO\")"
   ]
  },
  {
   "cell_type": "code",
   "execution_count": 9,
   "id": "4857c10f-9859-4bcb-b942-d973254c95a6",
   "metadata": {},
   "outputs": [
    {
     "name": "stdin",
     "output_type": "stream",
     "text": [
      " 3\n"
     ]
    },
    {
     "name": "stdout",
     "output_type": "stream",
     "text": [
      "odd\n"
     ]
    }
   ],
   "source": [
    "num = int(input())\n",
    "if num % 2 == 0 :\n",
    "    print('even')\n",
    "else:\n",
    "    print('odd')"
   ]
  },
  {
   "cell_type": "code",
   "execution_count": 12,
   "id": "eca9e940-a622-4443-818c-81e62f4a4e16",
   "metadata": {},
   "outputs": [
    {
     "name": "stdin",
     "output_type": "stream",
     "text": [
      " 12\n"
     ]
    },
    {
     "name": "stdout",
     "output_type": "stream",
     "text": [
      "even\n"
     ]
    }
   ],
   "source": [
    "num = int(input())\n",
    "if num % 2:\n",
    "    print('odd')\n",
    "else:\n",
    "    print('even')"
   ]
  },
  {
   "cell_type": "code",
   "execution_count": 22,
   "id": "146de196-ea26-4908-88d7-e55240970352",
   "metadata": {},
   "outputs": [
    {
     "name": "stdin",
     "output_type": "stream",
     "text": [
      "5의 배수임? 12\n"
     ]
    },
    {
     "name": "stdout",
     "output_type": "stream",
     "text": [
      "NO\n"
     ]
    }
   ],
   "source": [
    "num = int(input('5의 배수임?'))\n",
    "if num % 5:\n",
    "    print('NO')\n",
    "elif num == 0:\n",
    "    print('NO')\n",
    "else:\n",
    "    print('YES')"
   ]
  },
  {
   "cell_type": "code",
   "execution_count": 25,
   "id": "0795b31b-e064-4f04-9bf2-b3ad082d43a5",
   "metadata": {},
   "outputs": [
    {
     "name": "stdin",
     "output_type": "stream",
     "text": [
      " 95\n"
     ]
    },
    {
     "name": "stdout",
     "output_type": "stream",
     "text": [
      "A+\n"
     ]
    }
   ],
   "source": [
    "score = int(input())\n",
    "if score >= 90:\n",
    "    print(\"A\", end='')\n",
    "    if score >= 95:\n",
    "        print(\"+\")\n",
    "elif score >= 80:\n",
    "    print(\"B\")\n",
    "elif score >= 70:\n",
    "    print(\"C\")\n",
    "else:\n",
    "    print(\"F\")"
   ]
  },
  {
   "cell_type": "code",
   "execution_count": 31,
   "id": "1874de67-d637-45b2-8362-972de317d9ef",
   "metadata": {},
   "outputs": [
    {
     "name": "stdout",
     "output_type": "stream",
     "text": [
      "100\n"
     ]
    }
   ],
   "source": [
    "## 조건 표현식\n",
    "a = 100 if True else -100\n",
    "print(a)"
   ]
  },
  {
   "cell_type": "code",
   "execution_count": 35,
   "id": "512a8572-67ab-43d3-a8b0-b489ce329d1b",
   "metadata": {},
   "outputs": [
    {
     "name": "stdin",
     "output_type": "stream",
     "text": [
      " -1\n"
     ]
    },
    {
     "name": "stdout",
     "output_type": "stream",
     "text": [
      "0\n",
      "0\n"
     ]
    }
   ],
   "source": [
    "num = int(input())\n",
    "if num >= 0:\n",
    "    result = num\n",
    "else:\n",
    "    result = 0\n",
    "\n",
    "result2 = num if num >= 0 else 0\n",
    "\n",
    "print(result)\n",
    "print(result2)"
   ]
  },
  {
   "cell_type": "code",
   "execution_count": 37,
   "id": "289366ce-6348-405b-b2fe-8979c9b86605",
   "metadata": {},
   "outputs": [
    {
     "name": "stdin",
     "output_type": "stream",
     "text": [
      " 2\n"
     ]
    },
    {
     "name": "stdout",
     "output_type": "stream",
     "text": [
      "짝수\n"
     ]
    }
   ],
   "source": [
    "num = int(input())\n",
    "if num % 2 ==0:\n",
    "    result = '짝수'\n",
    "else:\n",
    "    result = '홀수'\n",
    "print(result)"
   ]
  },
  {
   "cell_type": "code",
   "execution_count": 39,
   "id": "8fef4106-7640-4d85-9b19-8faf221eac7a",
   "metadata": {},
   "outputs": [
    {
     "name": "stdout",
     "output_type": "stream",
     "text": [
      "0\n",
      "1\n",
      "2\n",
      "3\n",
      "4\n"
     ]
    }
   ],
   "source": [
    "## while문\n",
    "a = 0\n",
    "while a < 5:\n",
    "    print(a)\n",
    "    a += 1\n"
   ]
  },
  {
   "cell_type": "code",
   "execution_count": 42,
   "id": "adfbb6a9-dd19-44b9-a13c-e7ec28404c97",
   "metadata": {},
   "outputs": [
    {
     "name": "stdout",
     "output_type": "stream",
     "text": [
      "1\n",
      "2\n",
      "3\n",
      "4\n",
      "5\n",
      "1\n",
      "2\n",
      "3\n",
      "4\n",
      "5\n"
     ]
    }
   ],
   "source": [
    "## for문\n",
    "numbers = [1,2,3,4,5]\n",
    "for number in numbers:\n",
    "    print(number)\n",
    "for i in range(1, 6):\n",
    "    print(i)"
   ]
  },
  {
   "cell_type": "code",
   "execution_count": 44,
   "id": "efa8eaff-a9b6-45b4-aedd-dcd8b7779ff2",
   "metadata": {},
   "outputs": [
    {
     "name": "stdout",
     "output_type": "stream",
     "text": [
      "5\n",
      "10\n",
      "15\n",
      "20\n",
      "25\n",
      "30\n",
      "35\n",
      "40\n",
      "45\n",
      "50\n"
     ]
    }
   ],
   "source": [
    "numbers = range(1, 51)\n",
    "for number in numbers:\n",
    "    if number % 5 == 0:\n",
    "        print(number)"
   ]
  },
  {
   "cell_type": "code",
   "execution_count": 47,
   "id": "823ca500-165a-422a-9320-a2a065d053da",
   "metadata": {},
   "outputs": [
    {
     "name": "stdout",
     "output_type": "stream",
     "text": [
      "0 seoul\n",
      "1 busan\n",
      "2 daejeon\n"
     ]
    }
   ],
   "source": [
    "locations = ['seoul', 'busan', 'daejeon']\n",
    "for i, j in enumerate(locations):\n",
    "    print(i, j)"
   ]
  },
  {
   "cell_type": "markdown",
   "id": "45b4e2e4-de27-4711-8379-5bdf00e45383",
   "metadata": {},
   "source": [
    "## dictionary\n",
    "1. for key in dict\n",
    "2. for key in dict.keys()\n",
    "3. for value in dict.values()\n",
    "4. for key, value in dict.items()"
   ]
  },
  {
   "cell_type": "code",
   "execution_count": 57,
   "id": "845928e6-4867-438c-a897-4298be19d7b0",
   "metadata": {},
   "outputs": [
    {
     "name": "stdout",
     "output_type": "stream",
     "text": [
      "name\n",
      "location\n",
      "name\n",
      "sj\n",
      "location\n",
      "ucity\n",
      "sj\n",
      "ucity\n",
      "name sj\n",
      "location ucity\n"
     ]
    }
   ],
   "source": [
    "info = {\n",
    "    'name': 'sj',\n",
    "    'location': 'ucity'\n",
    "}\n",
    "for k in info:\n",
    "    print(k)\n",
    "for k in info.keys():\n",
    "    print(k)\n",
    "    print(info[k])\n",
    "for k in info.values():\n",
    "    print(k)\n",
    "for k, v in info.items():\n",
    "    print(k, v)"
   ]
  },
  {
   "cell_type": "code",
   "execution_count": 60,
   "id": "7d31f29c-a596-4ecb-a213-42b2789558c0",
   "metadata": {},
   "outputs": [
    {
     "name": "stdout",
     "output_type": "stream",
     "text": [
      "a\n",
      "b\n",
      "o\n",
      "ab\n",
      "a형은 5명입니다\n",
      "b형은 8명입니다\n",
      "o형은 5명입니다\n",
      "ab형은 4명입니다\n",
      "22\n"
     ]
    }
   ],
   "source": [
    "b_t = {\n",
    "    'a': 5,\n",
    "    'b': 8,\n",
    "    'o': 5,\n",
    "    'ab': 4\n",
    "}\n",
    "result = 0\n",
    "for k in b_t.keys():\n",
    "    print(k)\n",
    "for k in b_t.values():\n",
    "    result += k\n",
    "for k, v in b_t.items():\n",
    "    print(f'{k}형은 {v}명입니다')\n",
    "print(result)"
   ]
  },
  {
   "cell_type": "code",
   "execution_count": 61,
   "id": "5fc7e841-6c34-448c-bb3d-43a72d7196a7",
   "metadata": {},
   "outputs": [
    {
     "name": "stdout",
     "output_type": "stream",
     "text": [
      "0\n",
      "1\n",
      "2\n",
      "3\n",
      "4\n",
      "5\n",
      "6\n"
     ]
    }
   ],
   "source": [
    "## break\n",
    "for i in range(100):\n",
    "    print(i)\n",
    "    if i > 5:\n",
    "        break"
   ]
  },
  {
   "cell_type": "code",
   "execution_count": 63,
   "id": "9dea3509-db83-494a-857f-984a6c7d2183",
   "metadata": {},
   "outputs": [
    {
     "name": "stdin",
     "output_type": "stream",
     "text": [
      " 보리\n",
      " 보리\n",
      " 보리\n",
      " 싸ㄹ\n",
      " 쌀\n"
     ]
    },
    {
     "name": "stdout",
     "output_type": "stream",
     "text": [
      "야호\n"
     ]
    }
   ],
   "source": [
    "while True:\n",
    "    rice = input()\n",
    "    if rice == '쌀':\n",
    "        print('야호')\n",
    "        break"
   ]
  },
  {
   "cell_type": "code",
   "execution_count": 64,
   "id": "4b9345f4-fa2f-4d9e-bcf4-4aaf3dd0e2db",
   "metadata": {},
   "outputs": [
    {
     "name": "stdout",
     "output_type": "stream",
     "text": [
      "0\n",
      "2\n",
      "4\n",
      "6\n",
      "8\n",
      "10\n",
      "12\n",
      "14\n",
      "16\n",
      "18\n"
     ]
    }
   ],
   "source": [
    "for i in range(20):\n",
    "    if i % 2 == 1:\n",
    "        continue\n",
    "    print(i)"
   ]
  },
  {
   "cell_type": "code",
   "execution_count": 67,
   "id": "ad85cb8a-9704-412a-8612-b03facdcf6bf",
   "metadata": {},
   "outputs": [
    {
     "name": "stdout",
     "output_type": "stream",
     "text": [
      "0\n",
      "1\n",
      "2\n",
      "3\n",
      "4\n",
      "5\n"
     ]
    }
   ],
   "source": [
    "## else문\n",
    "for i in range(10):\n",
    "    if i > 5:\n",
    "        break\n",
    "    print(i)\n",
    "else:\n",
    "    print('헤이')"
   ]
  },
  {
   "cell_type": "code",
   "execution_count": null,
   "id": "80daeb9b-687e-4af2-9b88-af862ac94fec",
   "metadata": {},
   "outputs": [],
   "source": []
  }
 ],
 "metadata": {
  "kernelspec": {
   "display_name": "Python 3 (ipykernel)",
   "language": "python",
   "name": "python3"
  },
  "language_info": {
   "codemirror_mode": {
    "name": "ipython",
    "version": 3
   },
   "file_extension": ".py",
   "mimetype": "text/x-python",
   "name": "python",
   "nbconvert_exporter": "python",
   "pygments_lexer": "ipython3",
   "version": "3.13.2"
  }
 },
 "nbformat": 4,
 "nbformat_minor": 5
}
