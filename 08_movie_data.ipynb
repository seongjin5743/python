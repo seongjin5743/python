{
 "cells": [
  {
   "cell_type": "markdown",
   "id": "6ea5ca45-f07f-4873-b402-9585fb6b1fe4",
   "metadata": {},
   "source": [
    "# 영화진흥위원회 데이터 수집"
   ]
  },
  {
   "cell_type": "markdown",
   "id": "de9c2940-4b3a-451a-aa8f-bf61ddad4be8",
   "metadata": {},
   "source": [
    "## setting"
   ]
  },
  {
   "cell_type": "code",
   "execution_count": 87,
   "id": "7f103712-82c7-48f0-8633-7b160156ef50",
   "metadata": {},
   "outputs": [],
   "source": [
    "import requests\n",
    "\n",
    "class URLMaker:\n",
    "    \"\"\"\n",
    "    영화진흥위원회 API URL 생성 클래스\n",
    "    \"\"\"\n",
    "    \n",
    "    url = 'http://www.kobis.or.kr/kobisopenapi/webservice/rest'\n",
    "\n",
    "    def __init__(self, key):\n",
    "        \"\"\"\n",
    "        API key 초기화\n",
    "        \"\"\"\n",
    "        self.key = key\n",
    "\n",
    "    def daily_boxoffice_url(self, targetDt, itemPerPage=10, multiMovieYn='', repNationCd='', wideAreaCd=''):\n",
    "        \"\"\"\n",
    "        일별 박스오피스 URL 생성\n",
    "        \"\"\"\n",
    "        return f'{self.url}/boxoffice/searchDailyBoxOfficeList.json?key={self.key}&targetDt={targetDt}&itemPerPage={itemPerPage}&multiMovieYn={multiMovieYn}&repNationCd={repNationCd}&wideAreaCd={wideAreaCd}'\n",
    "\n",
    "    def weekly_boxoffice_url(self, targetDt, weekGb='0', itemPerPage=10, multiMovieYn='', repNationCd='', wideAreaCd=''):\n",
    "        \"\"\"\n",
    "        주간/주말 박스오피스 URL 생성\n",
    "        weekGb: 0(주간), 1(주말), 2(주중)\n",
    "        \"\"\"\n",
    "        return f'{self.url}/boxoffice/searchWeeklyBoxOfficeList.json?key={self.key}&targetDt={targetDt}&weekGb={weekGb}&itemPerPage={itemPerPage}&multiMovieYn={multiMovieYn}&repNationCd={repNationCd}&wideAreaCd={wideAreaCd}'\n",
    "\n",
    "    def movie_list_url(self, curPage=1, itemPerPage=10, movieNm='', directorNm='', openStartDt='', openEndDt='', \n",
    "                      prdtStartYear='', prdtEndYear='', repNationCd='', movieTypeCd=''):\n",
    "        \"\"\"\n",
    "        영화목록 URL 생성\n",
    "        \"\"\"\n",
    "        return f'{self.url}/movie/searchMovieList.json?key={self.key}&curPage={curPage}&itemPerPage={itemPerPage}&movieNm={movieNm}&directorNm={directorNm}&openStartDt={openStartDt}&openEndDt={openEndDt}&prdtStartYear={prdtStartYear}&prdtEndYear={prdtEndYear}&repNationCd={repNationCd}&movieTypeCd={movieTypeCd}'\n",
    "\n",
    "    def movie_info_url(self, movieCd):\n",
    "        \"\"\"\n",
    "        영화 상세정보 URL 생성\n",
    "        \"\"\"\n",
    "        return f'{self.url}/movie/searchMovieInfo.json?key={self.key}&movieCd={movieCd}'\n",
    "\n",
    "    def people_list_url(self, curPage=1, itemPerPage=10, peopleNm='', filmoNames=''):\n",
    "        \"\"\"\n",
    "        영화인목록 URL 생성\n",
    "        \"\"\"\n",
    "        return f'{self.url}/people/searchPeopleList.json?key={self.key}&curPage={curPage}&itemPerPage={itemPerPage}&peopleNm={peopleNm}&filmoNames={filmoNames}'\n",
    "\n",
    "    def people_info_url(self, peopleCd):\n",
    "        \"\"\"\n",
    "        영화인 상세정보 URL 생성\n",
    "        \"\"\"\n",
    "        return f'{self.url}/people/searchPeopleInfo.json?key={self.key}&peopleCd={peopleCd}'\n",
    "\n",
    "\n",
    "    "
   ]
  },
  {
   "cell_type": "code",
   "execution_count": 88,
   "id": "e78744cd-54ef-43ab-b409-7edd3b44af58",
   "metadata": {},
   "outputs": [],
   "source": [
    "MY_API_KEY = 'a7ffc41921b0854a50425cadfac662e4'\n",
    "url_maker = URLMaker(MY_API_KEY)"
   ]
  },
  {
   "cell_type": "code",
   "execution_count": 89,
   "id": "9c656d45-0037-4072-a0d4-1fe7baad8c81",
   "metadata": {},
   "outputs": [
    {
     "data": {
      "text/plain": [
       "'a7ffc41921b0854a50425cadfac662e4'"
      ]
     },
     "execution_count": 89,
     "metadata": {},
     "output_type": "execute_result"
    }
   ],
   "source": [
    "url_maker.key"
   ]
  },
  {
   "cell_type": "code",
   "execution_count": 90,
   "id": "ef5ddbc5-fb99-4ad6-beba-1e33bab238ea",
   "metadata": {},
   "outputs": [
    {
     "name": "stdout",
     "output_type": "stream",
     "text": [
      "http://www.kobis.or.kr/kobisopenapi/webservice/rest/boxoffice/searchWeeklyBoxOfficeList.json?key=a7ffc41921b0854a50425cadfac662e4&targetDt=20250105&weekGb=0&itemPerPage=10&multiMovieYn=&repNationCd=&wideAreaCd=\n",
      "http://www.kobis.or.kr/kobisopenapi/webservice/rest/boxoffice/searchWeeklyBoxOfficeList.json?key=a7ffc41921b0854a50425cadfac662e4&targetDt=20250112&weekGb=0&itemPerPage=10&multiMovieYn=&repNationCd=&wideAreaCd=\n",
      "http://www.kobis.or.kr/kobisopenapi/webservice/rest/boxoffice/searchWeeklyBoxOfficeList.json?key=a7ffc41921b0854a50425cadfac662e4&targetDt=20250119&weekGb=0&itemPerPage=10&multiMovieYn=&repNationCd=&wideAreaCd=\n",
      "http://www.kobis.or.kr/kobisopenapi/webservice/rest/boxoffice/searchWeeklyBoxOfficeList.json?key=a7ffc41921b0854a50425cadfac662e4&targetDt=20250126&weekGb=0&itemPerPage=10&multiMovieYn=&repNationCd=&wideAreaCd=\n"
     ]
    }
   ],
   "source": [
    "j = {}\n",
    "day = ['20250105','20250112','20250119','20250126']\n",
    "for i in day:\n",
    "    DETAIL_URL = url_maker.weekly_boxoffice_url(i)\n",
    "    res = requests.get(DETAIL_URL)\n",
    "    l = res.json()\n",
    "    print(DETAIL_URL)"
   ]
  },
  {
   "cell_type": "markdown",
   "id": "846aac9a-0b63-4973-b1a7-c8ec66f0cbbb",
   "metadata": {},
   "source": [
    "## 영화 상세정보 조회\n",
    "\n",
    "- **영화 상세정보 api**를 사용합니다.\n",
    "- 영화 코드(movieCd)를 입력받아 해당 영화의 상세 정보를 조회합니다.\n",
    "- 다음 정보를 순서대로 출력합니다:\n",
    "    - 영화 제목 (제작연도)\n",
    "    - 감독 (첫 번째 감독)\n",
    "    - 주연 배우 (첫 번째, 두 번째 배우)\n",
    "    - 장르 (첫 번째 장르)"
   ]
  },
  {
   "cell_type": "code",
   "execution_count": 93,
   "id": "d37950ad-45a9-4c24-a4fd-1e5ef7e7563b",
   "metadata": {},
   "outputs": [],
   "source": [
    "def get_movie_detail(movie_cd):\n",
    "    DETAIL_URL = url_maker.movie_info_url(movie_cd)\n",
    "    res = requests.get(DETAIL_URL)\n",
    "    l = res.json()\n",
    "    movie_nm = l['movieInfoResult']['movieInfo']['movieNm']\n",
    "    movie_dt = l['movieInfoResult']['movieInfo']['prdtYear']\n",
    "    movie_dir = l['movieInfoResult']['movieInfo']['directors'][0]['peopleNm']\n",
    "    p1 = l['movieInfoResult']['movieInfo']['actors'][0]['peopleNm']\n",
    "    p2 = l['movieInfoResult']['movieInfo']['actors'][1]['peopleNm']\n",
    "    genre = l['movieInfoResult']['movieInfo']['genres'][0]['genreNm']\n",
    "    print(f'{movie_nm} ({movie_dt})')\n",
    "    print(f'감독: {movie_dir}')\n",
    "    print(f'주연: {p1}, {p2}')\n",
    "    print(f'장르: {genre}')"
   ]
  },
  {
   "cell_type": "code",
   "execution_count": 94,
   "id": "4b257993-df34-4a45-b964-6676b8404b4f",
   "metadata": {},
   "outputs": [
    {
     "name": "stdout",
     "output_type": "stream",
     "text": [
      "쇼생크 탈출 (1994)\n",
      "감독: 프랭크 다라본트\n",
      "주연: 팀 로빈스, 모건 프리먼\n",
      "장르: 드라마\n"
     ]
    }
   ],
   "source": [
    "get_movie_detail('19950084')"
   ]
  },
  {
   "cell_type": "markdown",
   "id": "ab037f8d-8f27-4668-b3f6-c97bd26302a2",
   "metadata": {},
   "source": [
    "**출력 예시**\n",
    "```\n",
    "쇼생크 탈출 (1994)\n",
    "감독: 프랭크 다라본트\n",
    "주연: 팀 로빈스, 모건 프리먼\n",
    "장르: 드라마\n",
    "```"
   ]
  },
  {
   "cell_type": "markdown",
   "id": "2f3b8d72-c4f8-4f2f-b72b-2fc221bc03dc",
   "metadata": {},
   "source": [
    "## 일별 박스오피스 조회\n",
    "\n",
    "- **일별 박스오피스 api**를 사용합니다.\n",
    "- 입력받은 날짜(YYYYMMDD 형식)의 박스오피스 정보를 조회합니다.\n",
    "- 각 영화의 순위, 영화제목, 해당 일의 관객수를 출력합니다."
   ]
  },
  {
   "cell_type": "code",
   "execution_count": 95,
   "id": "84d88dce-932b-473b-9d85-a1622dca8beb",
   "metadata": {},
   "outputs": [],
   "source": [
    "def get_daily_boxoffice(target_date):\n",
    "    DETAIL_URL = url_maker.daily_boxoffice_url(target_date)\n",
    "    res = requests.get(DETAIL_URL)\n",
    "    l = res.json()\n",
    "    print(f'{target_date} 박스오피스 TOP 10')\n",
    "    for i in range(1, 11):\n",
    "        print(f'{i}위: {l['boxOfficeResult'][\"dailyBoxOfficeList\"][i - 1]['movieNm']} ({l['boxOfficeResult'][\"dailyBoxOfficeList\"][i - 1]['audiCnt']}명)')"
   ]
  },
  {
   "cell_type": "code",
   "execution_count": 96,
   "id": "33bd45c9-222e-4be6-a70c-d2d33f5845a5",
   "metadata": {},
   "outputs": [
    {
     "name": "stdout",
     "output_type": "stream",
     "text": [
      "20250201 박스오피스 TOP 10\n",
      "1위: 히트맨2 (177129명)\n",
      "2위: 검은 수녀들 (96043명)\n",
      "3위: 말할 수 없는 비밀 (63000명)\n",
      "4위: 하얼빈 (23298명)\n",
      "5위: 서브스턴스 (15031명)\n",
      "6위: 극장판 포켓몬스터 AG: 뮤와 파동의 용사 루카리오 (12342명)\n",
      "7위: 뽀로로 극장판 바닷속 대모험 (5903명)\n",
      "8위: 바다 탐험대 옥토넛 어보브 앤 비욘드 : 극지방 대작전 (4570명)\n",
      "9위: 극장판 짱구는 못말려: 우리들의 공룡일기 (3801명)\n",
      "10위: 아이유 콘서트 : 더 위닝 (3156명)\n"
     ]
    }
   ],
   "source": [
    "get_daily_boxoffice(\"20250201\")  # YYYYMMDD 형식으로 날짜 입력"
   ]
  },
  {
   "cell_type": "markdown",
   "id": "1967823a-dcdc-4ea6-8eaf-56a31b97f7b7",
   "metadata": {},
   "source": [
    "**출력예시**\n",
    "```\n",
    "20250201 박스오피스 TOP 10\n",
    "1위: 히트맨2 (177129명)\n",
    "2위: 검은 수녀들 (96043명)\n",
    "3위: 말할 수 없는 비밀 (63000명)\n",
    "4위: 하얼빈 (23298명)\n",
    "5위: 서브스턴스 (15031명)\n",
    "6위: 극장판 포켓몬스터 AG: 뮤와 파동의 용사 루카리오 (12342명)\n",
    "7위: 뽀로로 극장판 바닷속 대모험 (5903명)\n",
    "8위: 바다 탐험대 옥토넛 어보브 앤 비욘드 : 극지방 대작전 (4570명)\n",
    "9위: 극장판 짱구는 못말려: 우리들의 공룡일기 (3801명)\n",
    "10위: 아이유 콘서트 : 더 위닝 (3156명)\n",
    "```"
   ]
  },
  {
   "cell_type": "markdown",
   "id": "d3d889a8-6bcb-44a2-884a-4c7c9953f069",
   "metadata": {},
   "source": [
    "## 한국 영화 일별 박스오피스 조회\n",
    "\n",
    "- **일별 박스오피스 api**를 사용합니다.\n",
    "- 입력받은 날짜(YYYYMMDD 형식)의 한국 영화 박스오피스 정보를 조회합니다.\n",
    "- 한국 영화만 조회하기 위해 repNationCd='K' 파라미터를 사용합니다.\n",
    "- 영화가 개봉한 순서대로 정렬하여 제목, 날짜, 순위를 출력합니다.\n"
   ]
  },
  {
   "cell_type": "code",
   "execution_count": 97,
   "id": "e9cde271-d38f-4d0d-818d-e33fca0b070a",
   "metadata": {},
   "outputs": [],
   "source": [
    "def get_movie_details(target_date):\n",
    "    DETAIL_URL = url_maker.daily_boxoffice_url(\"20250201\", repNationCd='K')\n",
    "    res = requests.get(DETAIL_URL)\n",
    "    l = res.json()\n",
    "    l = sorted(l[\"boxOfficeResult\"][\"dailyBoxOfficeList\"], key=lambda x: x[\"openDt\"], reverse = False)\n",
    "    print(f'{target_date} 한국 영화 박스오피스 (개봉일 순)')\n",
    "    for i in range(10):\n",
    "        print(f'{l[i][\"movieNm\"]} 'f'({l[i][\"openDt\"]}) - 'f'{l[i][\"rank\"]}위')"
   ]
  },
  {
   "cell_type": "code",
   "execution_count": 98,
   "id": "f09e49e9-9e4a-404b-8034-b8cc664cbc8a",
   "metadata": {},
   "outputs": [
    {
     "name": "stdout",
     "output_type": "stream",
     "text": [
      "20250201 한국 영화 박스오피스 (개봉일 순)\n",
      "뜻밖의 순간 : 언익스펙티드 저니 ( ) - 10위\n",
      "마당을 나온 암탉 (2011-07-28) - 9위\n",
      "소방관 (2024-12-04) - 8위\n",
      "하얼빈 (2024-12-24) - 4위\n",
      "뽀로로 극장판 바닷속 대모험 (2025-01-01) - 5위\n",
      "히트맨2 (2025-01-22) - 1위\n",
      "검은 수녀들 (2025-01-24) - 2위\n",
      "아이유 콘서트 : 더 위닝 (2025-01-24) - 6위\n",
      "귀신경찰 (2025-01-24) - 7위\n",
      "말할 수 없는 비밀 (2025-01-27) - 3위\n"
     ]
    }
   ],
   "source": [
    "get_movie_details(\"20250201\")  # YYYYMMDD 형식으로 날짜 입력"
   ]
  },
  {
   "cell_type": "markdown",
   "id": "d60c82b0-150b-4877-88df-58a58d1d23e0",
   "metadata": {},
   "source": [
    "**출력예시**\n",
    "```\n",
    "20250201 한국 영화 박스오피스 (개봉일 순)\n",
    "뜻밖의 순간 : 언익스펙티드 저니 ( ) - 10위\n",
    "마당을 나온 암탉 (2011-07-28) - 9위\n",
    "소방관 (2024-12-04) - 8위\n",
    "하얼빈 (2024-12-24) - 4위\n",
    "뽀로로 극장판 바닷속 대모험 (2025-01-01) - 5위\n",
    "히트맨2 (2025-01-22) - 1위\n",
    "검은 수녀들 (2025-01-24) - 2위\n",
    "아이유 콘서트 : 더 위닝 (2025-01-24) - 6위\n",
    "귀신경찰 (2025-01-24) - 7위\n",
    "말할 수 없는 비밀 (2025-01-27) - 3위\n",
    "```"
   ]
  },
  {
   "cell_type": "markdown",
   "id": "5928c65e-9cc2-4766-a26e-a6184c6397d3",
   "metadata": {},
   "source": [
    "## 1월 전체 주간 박스오피스 데이터 수집\n",
    "\n",
    "- **주간/주말 박스오피스 api**를 사용합니다.\n",
    "- 2025년 1월의 모든 주간(1/5, 1/12, 1/19, 1/26) 데이터를 수집합니다.\n",
    "- 각 영화의 정보는 다음을 포함해야 합니다:\n",
    "    - 영화제목, 개봉일, 누적관객수, 누적매출액\n",
    "- 동일한 영화가 여러 주에 걸쳐 나타날 경우, 가장 최근의 정보만 저장합니다.\n"
   ]
  },
  {
   "cell_type": "code",
   "execution_count": 99,
   "id": "2502eac6-0e64-4e8c-ac02-3c832287eee0",
   "metadata": {},
   "outputs": [],
   "source": [
    "def get_weekly_boxoffice():\n",
    "    j = {}\n",
    "    days = ['20250105','20250112','20250119','20250126']\n",
    "    for i in days:\n",
    "        DETAIL_URL = url_maker.weekly_boxoffice_url(i)\n",
    "        res = requests.get(DETAIL_URL)\n",
    "        l = res.json()\n",
    "        for i in l[\"boxOfficeResult\"][\"weeklyBoxOfficeList\"]:\n",
    "            p1 = i[\"movieNm\"]\n",
    "            p2 = i[\"openDt\"]\n",
    "            p3 = i[\"audiAcc\"]\n",
    "            p4 = i[\"salesAcc\"]\n",
    "            j[p1] = {'영화제목': p1, '개봉일': p2, '누적관객': p3, '누적매출': p4}\n",
    "    print(j)"
   ]
  },
  {
   "cell_type": "code",
   "execution_count": 100,
   "id": "584d68bf-22bc-4227-b566-542fd1e0f678",
   "metadata": {},
   "outputs": [
    {
     "name": "stdout",
     "output_type": "stream",
     "text": [
      "{'하얼빈': {'영화제목': '하얼빈', '개봉일': '2024-12-24', '누적관객': '4642215', '누적매출': '44407362460'}, '소방관': {'영화제목': '소방관', '개봉일': '2024-12-04', '누적관객': '3840551', '누적매출': '36145572270'}, '보고타: 마지막 기회의 땅': {'영화제목': '보고타: 마지막 기회의 땅', '개봉일': '2024-12-31', '누적관객': '396287', '누적매출': '3669720540'}, '수퍼 소닉3': {'영화제목': '수퍼 소닉3', '개봉일': '2025-01-01', '누적관객': '322100', '누적매출': '2950620910'}, '뽀로로 극장판 바닷속 대모험': {'영화제목': '뽀로로 극장판 바닷속 대모험', '개봉일': '2025-01-01', '누적관객': '349597', '누적매출': '2996015770'}, '무파사: 라이온 킹': {'영화제목': '무파사: 라이온 킹', '개봉일': '2024-12-18', '누적관객': '833832', '누적매출': '8188072950'}, '모아나 2': {'영화제목': '모아나 2', '개봉일': '2024-11-27', '누적관객': '3522517', '누적매출': '32533317750'}, '극장판 짱구는 못말려: 우리들의 공룡일기': {'영화제목': '극장판 짱구는 못말려: 우리들의 공룡일기', '개봉일': '2024-12-18', '누적관객': '762895', '누적매출': '7177275100'}, '위키드': {'영화제목': '위키드', '개봉일': '2024-11-20', '누적관객': '2195165', '누적매출': '21677201940'}, '시빌 워: 분열의 시대': {'영화제목': '시빌 워: 분열의 시대', '개봉일': '2024-12-31', '누적관객': '80373', '누적매출': '836845230'}, '동화지만 청불입니다': {'영화제목': '동화지만 청불입니다', '개봉일': '2025-01-08', '누적관객': '157616', '누적매출': '1465916720'}, '서브스턴스': {'영화제목': '서브스턴스', '개봉일': '2024-12-11', '누적관객': '302870', '누적매출': '2954609400'}, '검은 수녀들': {'영화제목': '검은 수녀들', '개봉일': '2025-01-24', '누적관객': '606145', '누적매출': '5870106460'}, '히트맨2': {'영화제목': '히트맨2', '개봉일': '2025-01-22', '누적관객': '604875', '누적매출': '5686993120'}, '극장판 포켓몬스터 AG: 뮤와 파동의 용사 루카리오': {'영화제목': '극장판 포켓몬스터 AG: 뮤와 파동의 용사 루카리오', '개봉일': '2025-01-22', '누적관객': '64585', '누적매출': '570033160'}, '아이유 콘서트 : 더 위닝': {'영화제목': '아이유 콘서트 : 더 위닝', '개봉일': '2025-01-24', '누적관객': '28061', '누적매출': '778067000'}, '귀신경찰': {'영화제목': '귀신경찰', '개봉일': '2025-01-24', '누적관객': '21949', '누적매출': '191035980'}}\n"
     ]
    }
   ],
   "source": [
    "get_weekly_boxoffice()"
   ]
  },
  {
   "cell_type": "markdown",
   "id": "62dc8573-f951-48be-81f2-c57cc7fa354c",
   "metadata": {},
   "source": [
    "**출력예시**\n",
    "```\n",
    "{'하얼빈': {'영화제목': '하얼빈', '개봉일': '2024-12-24', '누적관객': '4642215', '누적매출': '44407362460'}, '소방관': {'영화제목': '소방관', '개봉일': '2024-12-04', '누적관객': '3840551', '누적매출': '36145572270'}, '보고타: 마지막 기회의 땅': {'영화제목': '보고타: 마지막 기회의 땅', '개봉일': '2024-12-31', '누적관객': '396287', '누적매출': '3669720540'}, '수퍼 소닉3': {'영화제목': '수퍼 소닉3', '개봉일': '2025-01-01', '누적관객': '322100', '누적매출': '2950620910'}, '뽀로로 극장판 바닷속 대모험': {'영화제목': '뽀로로 극장판 바닷속 대모험', '개봉일': '2025-01-01', '누적관객': '349597', '누적매출': '2996015770'}, '무파사: 라이온 킹': {'영화제목': '무파사: 라이온 킹', '개봉일': '2024-12-18', '누적관객': '833832', '누적매출': '8188072950'}, '모아나 2': {'영화제목': '모아나 2', '개봉일': '2024-11-27', '누적관객': '3522517', '누적매출': '32533317750'}, '극장판 짱구는 못말려: 우리들의 공룡일기': {'영화제목': '극장판 짱구는 못말려: 우리들의 공룡일기', '개봉일': '2024-12-18', '누적관객': '762895', '누적매출': '7177275100'}, '위키드': {'영화제목': '위키드', '개봉일': '2024-11-20', '누적관객': '2195165', '누적매출': '21677201940'}, '시빌 워: 분열의 시대': {'영화제목': '시빌 워: 분열의 시대', '개봉일': '2024-12-31', '누적관객': '80373', '누적매출': '836845230'}, '동화지만 청불입니다': {'영화제목': '동화지만 청불입니다', '개봉일': '2025-01-08', '누적관객': '157616', '누적매출': '1465916720'}, '서브스턴스': {'영화제목': '서브스턴스', '개봉일': '2024-12-11', '누적관객': '302870', '누적매출': '2954609400'}, '검은 수녀들': {'영화제목': '검은 수녀들', '개봉일': '2025-01-24', '누적관객': '606145', '누적매출': '5870106460'}, '히트맨2': {'영화제목': '히트맨2', '개봉일': '2025-01-22', '누적관객': '604875', '누적매출': '5686993120'}, '극장판 포켓몬스터 AG: 뮤와 파동의 용사 루카리오': {'영화제목': '극장판 포켓몬스터 AG: 뮤와 파동의 용사 루카리오', '개봉일': '2025-01-22', '누적관객': '64585', '누적매출': '570033160'}, '아이유 콘서트 : 더 위닝': {'영화제목': '아이유 콘서트 : 더 위닝', '개봉일': '2025-01-24', '누적관객': '28061', '누적매출': '778067000'}, '귀신경찰': {'영화제목': '귀신경찰', '개봉일': '2025-01-24', '누적관객': '21949', '누적매출': '191035980'}}\n",
    "```"
   ]
  },
  {
   "cell_type": "markdown",
   "id": "66ab8357-9017-4b6f-942b-9530fad12396",
   "metadata": {},
   "source": [
    "## 일별 박스오피스 영화의 상세정보\n",
    "\n",
    "- **일별 박스오피스 api**와 **영화 상세정보 api**를 사용합니다.\n",
    "- 입력받은 날짜의 일별 박스오피스 TOP 10을 조회합니다.\n",
    "- 각 영화의 상세 정보를 추가로 조회하여 다음 정보를 출력합니다:\n",
    "    - 순위\n",
    "    - 영화제목\n",
    "    - 감독\n",
    "    - 주연배우 (최대 3명)"
   ]
  },
  {
   "cell_type": "code",
   "execution_count": 101,
   "id": "eeb6ab3a-3547-42a5-9b33-6ff26a3baada",
   "metadata": {},
   "outputs": [],
   "source": [
    "def get_movie_details(target_date):\n",
    "    DETAIL_URL = url_maker.daily_boxoffice_url(target_date)\n",
    "    res = requests.get(DETAIL_URL)\n",
    "    l = res.json()\n",
    "    count = 0\n",
    "    for i in range(10):\n",
    "        cd = l['boxOfficeResult'][\"dailyBoxOfficeList\"][i]['movieCd']\n",
    "        CD_URL = url_maker.movie_info_url(cd)\n",
    "        res1 = requests.get(CD_URL)\n",
    "        l1 = res1.json()\n",
    "        print(f'{i + 1}위')\n",
    "        print(l1['movieInfoResult'][\"movieInfo\"]['movieNm'])\n",
    "        print(f'감독: ', end = '')\n",
    "        for p in l1['movieInfoResult'][\"movieInfo\"]['directors']:\n",
    "            print(p['peopleNm'], end = ', ')\n",
    "        print('')\n",
    "        print(f'주연: ', end = '')\n",
    "        for p in l1['movieInfoResult'][\"movieInfo\"]['actors']:\n",
    "            print(p['peopleNm'], end = ', ')\n",
    "            count += 1\n",
    "            if count == 3:\n",
    "                count = 0\n",
    "                break\n",
    "        print('')\n",
    "        print('----------------------------------------')"
   ]
  },
  {
   "cell_type": "code",
   "execution_count": 102,
   "id": "ff9c8d9e-9d6f-466b-aead-01a67bd665a7",
   "metadata": {},
   "outputs": [
    {
     "name": "stdout",
     "output_type": "stream",
     "text": [
      "1위\n",
      "히트맨2\n",
      "감독: 최원섭, \n",
      "주연: 권상우, 정준호, 이이경, \n",
      "----------------------------------------\n",
      "2위\n",
      "검은 수녀들\n",
      "감독: 권혁재, \n",
      "주연: 송혜교, 전여빈, 이진욱, \n",
      "----------------------------------------\n",
      "3위\n",
      "말할 수 없는 비밀\n",
      "감독: 서유민, \n",
      "주연: 도경수, 원진아, 신예은, \n",
      "----------------------------------------\n",
      "4위\n",
      "하얼빈\n",
      "감독: 우민호, \n",
      "주연: 현빈, 박정민, 조우진, \n",
      "----------------------------------------\n",
      "5위\n",
      "서브스턴스\n",
      "감독: 코랄리 파르쟈, \n",
      "주연: 데미 무어, 마가렛 퀄리, 데니스 퀘이드, \n",
      "----------------------------------------\n",
      "6위\n",
      "극장판 포켓몬스터 AG: 뮤와 파동의 용사 루카리오\n",
      "감독: 유야마 쿠니히코, \n",
      "주연: 마츠모토 리카, 오오타니 이쿠에, 우에다 유지, \n",
      "----------------------------------------\n",
      "7위\n",
      "뽀로로 극장판 바닷속 대모험\n",
      "감독: 윤제완, \n",
      "주연: 이선, 이미자, 함수정, \n",
      "----------------------------------------\n",
      "8위\n",
      "바다 탐험대 옥토넛 어보브 앤 비욘드 : 극지방 대작전\n",
      "감독: \n",
      "주연: 하성용, 정재헌, 엄상현, \n",
      "----------------------------------------\n",
      "9위\n",
      "극장판 짱구는 못말려: 우리들의 공룡일기\n",
      "감독: 사사키 시노부, \n",
      "주연: 박영남, 강희선, 김환진, \n",
      "----------------------------------------\n",
      "10위\n",
      "아이유 콘서트 : 더 위닝\n",
      "감독: 이예지, 오윤동, \n",
      "주연: 이지은, \n",
      "----------------------------------------\n"
     ]
    }
   ],
   "source": [
    "get_movie_details(\"20250201\")  # YYYYMMDD 형식으로 날짜 입력"
   ]
  },
  {
   "cell_type": "markdown",
   "id": "b28eb6ba-70b4-47c7-b760-e404770911b7",
   "metadata": {},
   "source": [
    "**출력예시**\n",
    "\n",
    "```\n",
    "1위\n",
    "히트맨2\n",
    "감독: 최원섭\n",
    "주연: 권상우, 정준호, 이이경\n",
    "----------------------------------------\n",
    "\n",
    "2위\n",
    "검은 수녀들\n",
    "감독: 권혁재\n",
    "주연: 송혜교, 전여빈, 이진욱\n",
    "----------------------------------------\n",
    "\n",
    "3위\n",
    "말할 수 없는 비밀\n",
    "감독: 서유민\n",
    "주연: 도경수, 원진아, 신예은\n",
    "----------------------------------------\n",
    "...\n",
    "```"
   ]
  },
  {
   "cell_type": "markdown",
   "id": "ea367bbf-26d0-4bd3-9600-97287eecf26c",
   "metadata": {},
   "source": [
    "## 배우검색\n",
    "\n",
    "- **영화인목록 api**, **영화인 상세정보 api**, **영화 상세정보 api**를 사용합니다.\n",
    "- 배우 이름을 입력받아 해당 배우의 정보를 검색합니다.\n",
    "- 여러 명의 동명 배우가 있는 경우, 필모그래피가 가장 많은 배우를 선택합니다.\n",
    "- 선택된 배우의 출연작 중 '배우'로 참여한 작품 5개의 정보를 출력합니다:\n",
    "    - 영화 제목\n",
    "    - 개봉일\n",
    "    - 상영시간\n",
    "    - 감독"
   ]
  },
  {
   "cell_type": "code",
   "execution_count": 103,
   "id": "95921101-c245-409c-9370-c551a8fc752d",
   "metadata": {},
   "outputs": [],
   "source": [
    "def analyze_actor_movies(actor_name):\n",
    "    DETAIL_URL = url_maker.people_list_url(peopleNm = actor_name)\n",
    "    res = requests.get(DETAIL_URL)\n",
    "    l = res.json()\n",
    "\n",
    "    peoCd = 0\n",
    "    for i in l[\"peopleListResult\"][\"peopleList\"]:\n",
    "        if i['repRoleNm'] == '배우':\n",
    "            peoCd = i['peopleCd'] \n",
    "    \n",
    "    PEOPLE_URL = url_maker.people_info_url(peoCd)\n",
    "    res1 = requests.get(PEOPLE_URL)\n",
    "    l1 = res1.json()\n",
    "\n",
    "    print(f'배우 {actor_name}의 최근 출연작 5개')\n",
    "    for i in range(5):\n",
    "        mvCd = l1[\"peopleInfoResult\"][\"peopleInfo\"][\"filmos\"][i]['movieCd']\n",
    "        CD_URL = url_maker.movie_info_url(mvCd)\n",
    "        res2 = requests.get(CD_URL)\n",
    "        l2 = res2.json()\n",
    "        print(f'제목: {l2[\"movieInfoResult\"][\"movieInfo\"][\"movieNm\"]}')\n",
    "        print(f'개봉일: {l2[\"movieInfoResult\"][\"movieInfo\"][\"openDt\"]}')\n",
    "        print(f'상영시간: {l2[\"movieInfoResult\"][\"movieInfo\"][\"showTm\"]}분')\n",
    "        print(f'감독: {l2[\"movieInfoResult\"][\"movieInfo\"][\"directors\"][0][\"peopleNm\"]}')\n",
    "        print('')"
   ]
  },
  {
   "cell_type": "code",
   "execution_count": 104,
   "id": "e9ee8f1e-1d6c-4dad-8a4a-acd876219c90",
   "metadata": {},
   "outputs": [
    {
     "name": "stdout",
     "output_type": "stream",
     "text": [
      "배우 박정민의 최근 출연작 5개\n",
      "제목: 하얼빈\n",
      "개봉일: 20241224\n",
      "상영시간: 113분\n",
      "감독: 우민호\n",
      "\n",
      "제목: 얼굴\n",
      "개봉일: \n",
      "상영시간: 분\n",
      "감독: 연상호\n",
      "\n",
      "제목: 전, 란\n",
      "개봉일: \n",
      "상영시간: 126분\n",
      "감독: 김상만\n",
      "\n",
      "제목: 휴민트\n",
      "개봉일: \n",
      "상영시간: 분\n",
      "감독: 류승완\n",
      "\n",
      "제목: 밀수\n",
      "개봉일: 20230726\n",
      "상영시간: 129분\n",
      "감독: 류승완\n",
      "\n"
     ]
    }
   ],
   "source": [
    "analyze_actor_movies(\"박정민\")  # 원하는 배우 이름으로 변경 가능"
   ]
  },
  {
   "cell_type": "markdown",
   "id": "2cf6c442-7bb9-4b9d-a35a-12c94d8b530d",
   "metadata": {},
   "source": [
    "**출력예시**\n",
    "\n",
    "```\n",
    "배우 '박정민'의 최근 출연작 5개\n",
    "\n",
    "제목: 하얼빈\n",
    "개봉일: 20241224\n",
    "상영시간: 113분\n",
    "감독: 우민호\n",
    "\n",
    "제목: 얼굴\n",
    "개봉일: \n",
    "상영시간: 분\n",
    "감독: 연상호\n",
    "\n",
    "제목: 전, 란\n",
    "개봉일: \n",
    "상영시간: 126분\n",
    "감독: 김상만\n",
    "\n",
    "제목: 휴민트\n",
    "개봉일: \n",
    "상영시간: 분\n",
    "감독: 류승완\n",
    "\n",
    "제목: 밀수\n",
    "개봉일: 20230726\n",
    "상영시간: 129분\n",
    "감독: 류승완\n",
    "```"
   ]
  },
  {
   "cell_type": "code",
   "execution_count": null,
   "id": "b96e3899-d8a6-4860-9a6f-ecb13bec9883",
   "metadata": {},
   "outputs": [],
   "source": []
  }
 ],
 "metadata": {
  "kernelspec": {
   "display_name": "Python 3 (ipykernel)",
   "language": "python",
   "name": "python3"
  },
  "language_info": {
   "codemirror_mode": {
    "name": "ipython",
    "version": 3
   },
   "file_extension": ".py",
   "mimetype": "text/x-python",
   "name": "python",
   "nbconvert_exporter": "python",
   "pygments_lexer": "ipython3",
   "version": "3.13.2"
  }
 },
 "nbformat": 4,
 "nbformat_minor": 5
}
