{
 "cells": [
  {
   "cell_type": "markdown",
   "id": "224068d7-923d-4032-ba73-fe7cef5d90c8",
   "metadata": {},
   "source": [
    "# 자료구조\n",
    "> 여러가지 자료구조가 가지고 있는 메소드 알아보기\n"
   ]
  },
  {
   "cell_type": "code",
   "execution_count": 2,
   "id": "d1a969d6-57de-49ad-b9bb-cf7686d93caa",
   "metadata": {},
   "outputs": [
    {
     "name": "stdout",
     "output_type": "stream",
     "text": [
      "['__add__', '__class__', '__contains__', '__delattr__', '__dir__', '__doc__', '__eq__', '__format__', '__ge__', '__getattribute__', '__getitem__', '__getnewargs__', '__getstate__', '__gt__', '__hash__', '__init__', '__init_subclass__', '__iter__', '__le__', '__len__', '__lt__', '__mod__', '__mul__', '__ne__', '__new__', '__reduce__', '__reduce_ex__', '__repr__', '__rmod__', '__rmul__', '__setattr__', '__sizeof__', '__str__', '__subclasshook__', 'capitalize', 'casefold', 'center', 'count', 'encode', 'endswith', 'expandtabs', 'find', 'format', 'format_map', 'index', 'isalnum', 'isalpha', 'isascii', 'isdecimal', 'isdigit', 'isidentifier', 'islower', 'isnumeric', 'isprintable', 'isspace', 'istitle', 'isupper', 'join', 'ljust', 'lower', 'lstrip', 'maketrans', 'partition', 'removeprefix', 'removesuffix', 'replace', 'rfind', 'rindex', 'rjust', 'rpartition', 'rsplit', 'rstrip', 'split', 'splitlines', 'startswith', 'strip', 'swapcase', 'title', 'translate', 'upper', 'zfill']\n"
     ]
    }
   ],
   "source": [
    "print(dir('hello'))"
   ]
  },
  {
   "cell_type": "markdown",
   "id": "678227cd-798f-4655-8b05-4e5a077e0137",
   "metadata": {},
   "source": [
    "# 문자열 메소드"
   ]
  },
  {
   "cell_type": "code",
   "execution_count": 37,
   "id": "866cb7aa-d8b6-40d7-85c5-cfe1931c5a3c",
   "metadata": {},
   "outputs": [
    {
     "name": "stdout",
     "output_type": "stream",
     "text": [
      "Hello my name is hwang\n",
      "Hello My Name Is Hwang\n",
      "hello my name is hwang\n",
      "HELLO MY NAME IS HWANG\n",
      "['hello', 'my', 'name', 'is', 'hwang']\n"
     ]
    }
   ],
   "source": [
    "a = 'hello my name is hwang'\n",
    "print(a.capitalize())\n",
    "print(a.title())\n",
    "print(a.lower())\n",
    "print(a.upper())\n",
    "print(a.split())"
   ]
  },
  {
   "cell_type": "code",
   "execution_count": 17,
   "id": "b5972f66-3ede-456c-84bc-db0b2e21effa",
   "metadata": {},
   "outputs": [
    {
     "name": "stdout",
     "output_type": "stream",
     "text": [
      "my name is\n",
      "배 고 프 다\n"
     ]
    }
   ],
   "source": [
    "lst = ['my', 'name', 'is']\n",
    "print(' '.join(lst))\n",
    "print(' '.join('배고프다'))"
   ]
  },
  {
   "cell_type": "code",
   "execution_count": 21,
   "id": "2382f377-8fa4-4f82-9894-34653bf5b566",
   "metadata": {},
   "outputs": [
    {
     "name": "stdout",
     "output_type": "stream",
     "text": [
      "hello\n"
     ]
    }
   ],
   "source": [
    "a = '         hello     \\n'\n",
    "print(a.strip())"
   ]
  },
  {
   "cell_type": "code",
   "execution_count": 24,
   "id": "13616ec7-2ea0-44fc-800f-dc6c6bdb6619",
   "metadata": {},
   "outputs": [
    {
     "name": "stdout",
     "output_type": "stream",
     "text": [
      "hello???????\n"
     ]
    }
   ],
   "source": [
    "a = '!!!!!!!hello???????'\n",
    "print(a.strip('!'))"
   ]
  },
  {
   "cell_type": "code",
   "execution_count": 27,
   "id": "c2060efc-3686-435f-8ba6-807b51f70728",
   "metadata": {},
   "outputs": [
    {
     "name": "stdout",
     "output_type": "stream",
     "text": [
      "hello------\n",
      "------hello\n"
     ]
    }
   ],
   "source": [
    "a = '------hello------'\n",
    "print(a.lstrip('-'))\n",
    "print(a.rstrip('-'))"
   ]
  },
  {
   "cell_type": "code",
   "execution_count": 41,
   "id": "526e0a6f-3477-4149-80c4-55b5d4f9b604",
   "metadata": {},
   "outputs": [
    {
     "name": "stdout",
     "output_type": "stream",
     "text": [
      "wwwoooooow\n",
      "2\n"
     ]
    }
   ],
   "source": [
    "a = 'woooooooow'\n",
    "print(a.replace('o', 'w', 2))\n",
    "print(a.count('w'))"
   ]
  },
  {
   "cell_type": "code",
   "execution_count": 32,
   "id": "a89cbcb2-db2b-4918-bf0c-d56e4287c544",
   "metadata": {},
   "outputs": [
    {
     "name": "stdout",
     "output_type": "stream",
     "text": [
      "0\n",
      "1\n",
      "-1\n"
     ]
    }
   ],
   "source": [
    "a = 'apple'\n",
    "print(a.find('a'))\n",
    "print(a.find('p'))\n",
    "print(a.find('z')) # 없을 땐 -1 출력"
   ]
  },
  {
   "cell_type": "code",
   "execution_count": 34,
   "id": "524ee86e-4b94-4e80-b001-83a94418ea45",
   "metadata": {},
   "outputs": [
    {
     "name": "stdout",
     "output_type": "stream",
     "text": [
      "0\n"
     ]
    },
    {
     "ename": "ValueError",
     "evalue": "substring not found",
     "output_type": "error",
     "traceback": [
      "\u001b[1;31m---------------------------------------------------------------------------\u001b[0m",
      "\u001b[1;31mValueError\u001b[0m                                Traceback (most recent call last)",
      "Cell \u001b[1;32mIn[34], line 3\u001b[0m\n\u001b[0;32m      1\u001b[0m a \u001b[38;5;241m=\u001b[39m \u001b[38;5;124m'\u001b[39m\u001b[38;5;124mapple\u001b[39m\u001b[38;5;124m'\u001b[39m\n\u001b[0;32m      2\u001b[0m \u001b[38;5;28mprint\u001b[39m(a\u001b[38;5;241m.\u001b[39mindex(\u001b[38;5;124m'\u001b[39m\u001b[38;5;124ma\u001b[39m\u001b[38;5;124m'\u001b[39m))\n\u001b[1;32m----> 3\u001b[0m \u001b[38;5;28mprint\u001b[39m(\u001b[43ma\u001b[49m\u001b[38;5;241;43m.\u001b[39;49m\u001b[43mindex\u001b[49m\u001b[43m(\u001b[49m\u001b[38;5;124;43m'\u001b[39;49m\u001b[38;5;124;43mz\u001b[39;49m\u001b[38;5;124;43m'\u001b[39;49m\u001b[43m)\u001b[49m)\n",
      "\u001b[1;31mValueError\u001b[0m: substring not found"
     ]
    }
   ],
   "source": [
    "a = 'apple'\n",
    "print(a.index('a'))\n",
    "print(a.index('z')) # 없을 땐 오류 = 'apple'\n",
    "print(a.index('a'))\n",
    "print(a.index('z')) # 없을 땐 오류"
   ]
  },
  {
   "cell_type": "markdown",
   "id": "1c471c85-b0c2-43c4-ae10-7f090d2b6271",
   "metadata": {},
   "source": [
    "# 리스트 메소드"
   ]
  },
  {
   "cell_type": "code",
   "execution_count": 54,
   "id": "962abaa5-356e-492f-81d5-7e734e0b9727",
   "metadata": {},
   "outputs": [
    {
     "name": "stdout",
     "output_type": "stream",
     "text": [
      "[2, 3, 4, 5, 5, 6, 7, 3]\n"
     ]
    }
   ],
   "source": [
    "numbers = [2,3,4,5,5,6,7]\n",
    "numbers.append(3)\n",
    "print(numbers)"
   ]
  },
  {
   "cell_type": "code",
   "execution_count": 55,
   "id": "4b606df5-f3a2-4f51-8d31-6bcabeb7b6c7",
   "metadata": {},
   "outputs": [
    {
     "name": "stdout",
     "output_type": "stream",
     "text": [
      "[2, 3, 4, 5, 5, 6, 7, 3, 99, 100]\n"
     ]
    }
   ],
   "source": [
    "a = [99,100]\n",
    "numbers.extend(a)\n",
    "print(numbers)"
   ]
  },
  {
   "cell_type": "code",
   "execution_count": 56,
   "id": "f0e2069e-2de6-416c-a0bc-83e53007bf6f",
   "metadata": {},
   "outputs": [
    {
     "name": "stdout",
     "output_type": "stream",
     "text": [
      "[2, 40, 3, 4, 5, 5, 6, 7, 3, 99, 100]\n"
     ]
    }
   ],
   "source": [
    "numbers.insert(1, 40)\n",
    "print(numbers)"
   ]
  },
  {
   "cell_type": "code",
   "execution_count": 57,
   "id": "d9d7868e-ee3f-4efe-a5f6-4ea889332f81",
   "metadata": {},
   "outputs": [
    {
     "name": "stdout",
     "output_type": "stream",
     "text": [
      "[2, 3, 4, 5, 5, 6, 7, 3, 99, 100]\n"
     ]
    }
   ],
   "source": [
    "numbers.remove(40)\n",
    "print(numbers)"
   ]
  },
  {
   "cell_type": "code",
   "execution_count": 59,
   "id": "58a4f6f2-9134-461f-919b-c1f01dc730b8",
   "metadata": {},
   "outputs": [
    {
     "name": "stdout",
     "output_type": "stream",
     "text": [
      "[2, 4, 5, 5, 6, 7, 3, 99]\n"
     ]
    }
   ],
   "source": [
    "numbers.pop(1)\n",
    "print(numbers)"
   ]
  },
  {
   "cell_type": "code",
   "execution_count": 60,
   "id": "9dd80026-5b92-4d44-99ea-ba236eea6049",
   "metadata": {},
   "outputs": [
    {
     "name": "stdout",
     "output_type": "stream",
     "text": [
      "[2, 3, 4, 5, 5, 6, 7, 99]\n"
     ]
    }
   ],
   "source": [
    "numbers.sort()\n",
    "print(numbers)"
   ]
  },
  {
   "cell_type": "code",
   "execution_count": 61,
   "id": "5fea04b7-6610-47bf-99a8-df11ce3ba36c",
   "metadata": {},
   "outputs": [
    {
     "name": "stdout",
     "output_type": "stream",
     "text": [
      "[99, 7, 6, 5, 5, 4, 3, 2]\n"
     ]
    }
   ],
   "source": [
    "numbers.sort(reverse = True)\n",
    "print(numbers)"
   ]
  },
  {
   "cell_type": "code",
   "execution_count": 62,
   "id": "2c8dda6a-7617-42e2-8526-1dbba2e2c70d",
   "metadata": {},
   "outputs": [
    {
     "name": "stdout",
     "output_type": "stream",
     "text": [
      "[2, 3, 4, 5, 5, 6, 7, 99]\n",
      "[99, 7, 6, 5, 5, 4, 3, 2]\n"
     ]
    }
   ],
   "source": [
    "print(sorted(numbers)) # sorted는 원본을 안 바꾼다\n",
    "print(numbers)"
   ]
  },
  {
   "cell_type": "code",
   "execution_count": 63,
   "id": "edd047f9-9943-4582-9404-40457c3ca02d",
   "metadata": {},
   "outputs": [
    {
     "name": "stdout",
     "output_type": "stream",
     "text": [
      "['a', 'b', 'c', 'q']\n"
     ]
    }
   ],
   "source": [
    "lst = ['a', 'q', 'b', 'c']\n",
    "lst.sort()\n",
    "print(lst)"
   ]
  },
  {
   "cell_type": "code",
   "execution_count": 70,
   "id": "44b10092-604c-466e-8f5c-f852355893b9",
   "metadata": {},
   "outputs": [
    {
     "name": "stdout",
     "output_type": "stream",
     "text": [
      "[2, 3, 4, 5, 5, 6, 7, 99]\n"
     ]
    }
   ],
   "source": [
    "numbers.reverse()\n",
    "print(numbers)"
   ]
  },
  {
   "cell_type": "code",
   "execution_count": 71,
   "id": "6f35f0b7-5738-482e-9581-595bf4f85e40",
   "metadata": {},
   "outputs": [
    {
     "name": "stdout",
     "output_type": "stream",
     "text": [
      "2\n"
     ]
    }
   ],
   "source": [
    "print(numbers.count(5))"
   ]
  },
  {
   "cell_type": "code",
   "execution_count": 72,
   "id": "7e79f5bb-aee6-4456-a841-78479b862702",
   "metadata": {},
   "outputs": [
    {
     "name": "stdout",
     "output_type": "stream",
     "text": [
      "[1, 2, 3]\n",
      "[1, 2, 3]\n",
      "[100, 2, 3]\n",
      "[100, 2, 3]\n"
     ]
    }
   ],
   "source": [
    "o_lst = [1,2,3]\n",
    "c_lst = o_lst\n",
    "print(o_lst)\n",
    "print(c_lst)\n",
    "\n",
    "c_lst[0] = 100\n",
    "print(o_lst)\n",
    "print(c_lst)"
   ]
  },
  {
   "cell_type": "code",
   "execution_count": 73,
   "id": "30a1796a-ef0d-4b18-a2ee-4d77ba052008",
   "metadata": {},
   "outputs": [
    {
     "name": "stdout",
     "output_type": "stream",
     "text": [
      "[1, 2, 3]\n",
      "[1, 2, 3]\n",
      "[1, 2, 3]\n",
      "[100, 2, 3]\n"
     ]
    }
   ],
   "source": [
    "o_lst = [1,2,3]\n",
    "c_lst = o_lst[:]\n",
    "print(o_lst)\n",
    "print(c_lst)\n",
    "\n",
    "c_lst[0] = 100\n",
    "print(o_lst)\n",
    "print(c_lst)"
   ]
  },
  {
   "cell_type": "code",
   "execution_count": 76,
   "id": "1299fd13-f34a-43a0-a055-1b2c2d525286",
   "metadata": {},
   "outputs": [
    {
     "name": "stdout",
     "output_type": "stream",
     "text": [
      "[1, 2, [3, 4]]\n",
      "[1, 2, [3, 4]]\n",
      "[1, 2, [-10, 4]]\n",
      "[100, 2, [-10, 4]]\n"
     ]
    }
   ],
   "source": [
    "o_lst = [1,2,[3,4]]\n",
    "c_lst = o_lst[:]\n",
    "print(o_lst)\n",
    "print(c_lst)\n",
    "\n",
    "c_lst[0] = 100\n",
    "c_lst[2][0] = -10\n",
    "print(o_lst)\n",
    "print(c_lst)"
   ]
  },
  {
   "cell_type": "code",
   "execution_count": 77,
   "id": "7f84e288-8013-4fac-a919-6459f8977c27",
   "metadata": {},
   "outputs": [
    {
     "name": "stdout",
     "output_type": "stream",
     "text": [
      "[1, 2, [3, 4]]\n",
      "[1, 2, [3, 4]]\n",
      "[1, 2, [3, 4]]\n",
      "[100, 2, [-10, 4]]\n"
     ]
    }
   ],
   "source": [
    "import copy\n",
    "o_lst = [1,2,[3,4]]\n",
    "c_lst = copy.deepcopy(o_lst[:])\n",
    "print(o_lst)\n",
    "print(c_lst)\n",
    "\n",
    "c_lst[0] = 100\n",
    "c_lst[2][0] = -10\n",
    "print(o_lst)\n",
    "print(c_lst)"
   ]
  },
  {
   "cell_type": "code",
   "execution_count": 80,
   "id": "b7a84b71-c254-418f-9fa5-13fb37675391",
   "metadata": {},
   "outputs": [
    {
     "name": "stdout",
     "output_type": "stream",
     "text": [
      "[1, 8, 27, 64, 125, 216, 343, 512, 729, 1000]\n",
      "[1, 2, 3, 4, 5, 6, 7, 8, 9, 10]\n"
     ]
    }
   ],
   "source": [
    "numbers = [i ** 3 for i in range(1,11)]\n",
    "print(numbers)\n",
    "numbers2 = list(range(1, 11))\n",
    "print(numbers2)"
   ]
  },
  {
   "cell_type": "code",
   "execution_count": 81,
   "id": "4b3eac1b-2acd-406c-b4fc-e72f52a619fe",
   "metadata": {},
   "outputs": [
    {
     "name": "stdout",
     "output_type": "stream",
     "text": [
      "[2, 4, 6, 8, 10, 12, 14, 16, 18, 20, 22, 24, 26, 28, 30]\n"
     ]
    }
   ],
   "source": [
    "numbers = list(range(2, 31, 2))\n",
    "print(numbers)"
   ]
  },
  {
   "cell_type": "code",
   "execution_count": 87,
   "id": "a38308ef-8ba9-4bbe-9b6a-5aab3b4b1147",
   "metadata": {},
   "outputs": [
    {
     "name": "stdout",
     "output_type": "stream",
     "text": [
      "my nm s hng\n"
     ]
    }
   ],
   "source": [
    "# 모음 제거\n",
    "words = 'my name is hong'\n",
    "mo = ['a', 'e', 'i', 'o', 'u']\n",
    "temp = ''\n",
    "for word in words:\n",
    "    if word not in mo:\n",
    "        temp += word\n",
    "print(temp)"
   ]
  },
  {
   "cell_type": "code",
   "execution_count": 86,
   "id": "450f7de2-3854-494d-8eab-55cf84ca14f8",
   "metadata": {},
   "outputs": [
    {
     "name": "stdout",
     "output_type": "stream",
     "text": [
      "my nm s hng\n"
     ]
    }
   ],
   "source": [
    "# 모음 제거\n",
    "words = 'my name is hong'\n",
    "mo = ['a', 'e', 'i', 'o', 'u']\n",
    "temp = [word for word in words if word not in mo]\n",
    "print(''.join(temp))"
   ]
  },
  {
   "cell_type": "code",
   "execution_count": null,
   "id": "b1d3a642-2b6f-47d4-859c-41cc7c48de1f",
   "metadata": {},
   "outputs": [],
   "source": [
    "# 모음 제거\n",
    "for char in mo:\n",
    "    words.replace(char, '')"
   ]
  },
  {
   "cell_type": "code",
   "execution_count": null,
   "id": "ccfadfd3-92d5-4c25-9509-637ff314cca2",
   "metadata": {},
   "outputs": [],
   "source": []
  }
 ],
 "metadata": {
  "kernelspec": {
   "display_name": "Python 3 (ipykernel)",
   "language": "python",
   "name": "python3"
  },
  "language_info": {
   "codemirror_mode": {
    "name": "ipython",
    "version": 3
   },
   "file_extension": ".py",
   "mimetype": "text/x-python",
   "name": "python",
   "nbconvert_exporter": "python",
   "pygments_lexer": "ipython3",
   "version": "3.13.2"
  }
 },
 "nbformat": 4,
 "nbformat_minor": 5
}
